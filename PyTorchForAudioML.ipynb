{
  "nbformat": 4,
  "nbformat_minor": 0,
  "metadata": {
    "colab": {
      "name": "PyTorchForAudioML.ipynb",
      "provenance": [],
      "collapsed_sections": [],
      "authorship_tag": "ABX9TyOutJDCZSXJsVZd9fSjxbDj",
      "include_colab_link": true
    },
    "kernelspec": {
      "name": "python3",
      "display_name": "Python 3"
    },
    "language_info": {
      "name": "python"
    }
  },
  "cells": [
    {
      "cell_type": "markdown",
      "metadata": {
        "id": "view-in-github",
        "colab_type": "text"
      },
      "source": [
        "<a href=\"https://colab.research.google.com/github/neennera/AI_pitch/blob/main/PyTorchForAudioML.ipynb\" target=\"_parent\"><img src=\"https://colab.research.google.com/assets/colab-badge.svg\" alt=\"Open In Colab\"/></a>"
      ]
    },
    {
      "cell_type": "code",
      "execution_count": 1,
      "metadata": {
        "id": "1AHs9mcVQpEh"
      },
      "outputs": [],
      "source": [
        "import torch\n",
        "from torch import nn\n",
        "from torch.utils.data import DataLoader\n",
        "from torchvision import datasets\n",
        "from torchvision.transforms import ToTensor"
      ]
    },
    {
      "cell_type": "markdown",
      "source": [
        "# Dowload Dataset"
      ],
      "metadata": {
        "id": "Y6OygEc_UgnK"
      }
    },
    {
      "cell_type": "code",
      "source": [
        "def download_mnist():\n",
        "  train_dataset = datasets.MNIST(\n",
        "      root=\"data\", #ระบุที่เก็บ data ที่พึ่ง dowload มาที่ /data\n",
        "      download = True, #ระบุให้โหลดมาหากยังไม่ได้โหลด\n",
        "      train = True,\n",
        "      transform=ToTensor()\n",
        "  )\n",
        "  test_dataset = datasets.MNIST(\n",
        "      root=\"data\",\n",
        "      download = True,\n",
        "      train =  False, # ให้โหลด test\n",
        "      transform=ToTensor()\n",
        "  )\n",
        "  return train_dataset, test_dataset"
      ],
      "metadata": {
        "id": "BGPMkhlTTirs"
      },
      "execution_count": 3,
      "outputs": []
    },
    {
      "cell_type": "code",
      "source": [
        "class FeedForwardNet(nn.Module):\n",
        "  def __init__(self):\n",
        "    super().__init__()\n",
        "    self.flatten = nn.Flatten() #แปลง array 2D ให้เป็น 1D\n",
        "    self.dense_layer = nn.Sequential(  #การ pack layer เข้าด้วยกัน\n",
        "        nn.Linear(28*28,256),  #784 -> 256\n",
        "        nn.ReLU(),\n",
        "        nn.Linear(256,10)\n",
        "    )\n",
        "    self.softmax = nn.Softmax(dim=1) #จำแนกการทาย class เป็น % 10 class [รวมกันได้ 1]\n",
        "  \n",
        "  def forward(self, x):\n",
        "    x = self.flatten(x)\n",
        "    x = self.dense_layer(x)\n",
        "    x = self.softmax(x)\n",
        "    return x"
      ],
      "metadata": {
        "id": "DcCIL5AjVcak"
      },
      "execution_count": 14,
      "outputs": []
    },
    {
      "cell_type": "code",
      "source": [
        "batch_size = 128\n",
        "epochs = 10\n",
        "lr = 0.001\n",
        "device = 'cuda' if torch.cuda.is_available() else 'cpu'\n",
        "\n",
        "if __name__ == \"__main__\" :\n",
        "  train_dataset, test_dataset = download_mnist()\n",
        "  train_dataloader=DataLoader(train_dataset,batch_size=batch_size)\n",
        "  model = FeedForwardNet().to(device)"
      ],
      "metadata": {
        "id": "pwgmk_IHUfjk"
      },
      "execution_count": 22,
      "outputs": []
    },
    {
      "cell_type": "markdown",
      "source": [
        "# Train model"
      ],
      "metadata": {
        "id": "tNtJyMsyX8NL"
      }
    },
    {
      "cell_type": "code",
      "source": [
        "loss_fn = nn.CrossEntropyLoss()\n",
        "optimiser = torch.optim.Adam(model.parameters(), lr=lr)"
      ],
      "metadata": {
        "id": "iz8eiKtzZ0T7"
      },
      "execution_count": 23,
      "outputs": []
    },
    {
      "cell_type": "code",
      "source": [
        "def train_one_epoch(model, data_loader, loss_fn, optimiser, device):\n",
        "  for inputs, targets in data_loader :\n",
        "    inputs, targets = inputs.to(device), targets.to(device)\n",
        "  \n",
        "  #calculate loss\n",
        "  pred = model(inputs)\n",
        "  loss = loss_fn(pred, targets)\n",
        "  #acc = Acc_fn(pred, targets)\n",
        "\n",
        "  #backpropagate + update weight\n",
        "  optimiser.zero_grad() #ลบ gradiun จาก batch ก่อนๆ\n",
        "  loss.backward()\n",
        "  optimiser.step()\n",
        "\n",
        "  print(f\"Loss : {loss.item()}\") #\\t Acc:{acc}\")\n",
        "\n",
        "def train(model, data_loader, loss_fn, optimiser, device, epoch):\n",
        "  for i in range(epoch):\n",
        "    print(f\"Epoch : {i+1}\")\n",
        "    train_one_epoch(model, data_loader, loss_fn, optimiser, device)\n",
        "    print(\"---------------------------\")\n",
        "  print(\"Finished training\")"
      ],
      "metadata": {
        "id": "LB0jCoMyX6Sz"
      },
      "execution_count": 18,
      "outputs": []
    },
    {
      "cell_type": "code",
      "source": [
        "train(model, train_dataloader, loss_fn, optimiser, device, epochs)\n",
        "torch.save(model.state_dict(), \"model.pth\")\n",
        "print(\"Trained feed forward net saved at feedforwardnet.pth\")"
      ],
      "metadata": {
        "colab": {
          "base_uri": "https://localhost:8080/"
        },
        "id": "y-whKsQ6Zlkk",
        "outputId": "0bf66a50-6897-412a-b726-6a7b5ab944fc"
      },
      "execution_count": 25,
      "outputs": [
        {
          "output_type": "stream",
          "name": "stdout",
          "text": [
            "Epoch : 1\n",
            "Loss : 2.2604339122772217\n",
            "---------------------------\n",
            "Epoch : 2\n",
            "Loss : 2.241356372833252\n",
            "---------------------------\n",
            "Epoch : 3\n",
            "Loss : 2.218689203262329\n",
            "---------------------------\n",
            "Epoch : 4\n",
            "Loss : 2.191959857940674\n",
            "---------------------------\n",
            "Epoch : 5\n",
            "Loss : 2.1612331867218018\n",
            "---------------------------\n",
            "Epoch : 6\n",
            "Loss : 2.1268694400787354\n",
            "---------------------------\n",
            "Epoch : 7\n",
            "Loss : 2.089576005935669\n",
            "---------------------------\n",
            "Epoch : 8\n",
            "Loss : 2.0501389503479004\n",
            "---------------------------\n",
            "Epoch : 9\n",
            "Loss : 2.009643316268921\n",
            "---------------------------\n",
            "Epoch : 10\n",
            "Loss : 1.969164252281189\n",
            "---------------------------\n",
            "Finished training\n",
            "Trained feed forward net saved at feedforwardnet.pth\n"
          ]
        }
      ]
    }
  ]
}