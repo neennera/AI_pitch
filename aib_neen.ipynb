{
  "nbformat": 4,
  "nbformat_minor": 0,
  "metadata": {
    "colab": {
      "name": "Copy of aib-neen.ipynb",
      "provenance": [],
      "collapsed_sections": [],
      "include_colab_link": true
    },
    "kernelspec": {
      "name": "python3",
      "display_name": "Python 3"
    },
    "language_info": {
      "name": "python"
    },
    "accelerator": "GPU",
    "gpuClass": "standard",
    "widgets": {
      "application/vnd.jupyter.widget-state+json": {
        "d1e18c6d686341f4a6777c269362615b": {
          "model_module": "@jupyter-widgets/controls",
          "model_name": "HBoxModel",
          "model_module_version": "1.5.0",
          "state": {
            "_dom_classes": [],
            "_model_module": "@jupyter-widgets/controls",
            "_model_module_version": "1.5.0",
            "_model_name": "HBoxModel",
            "_view_count": null,
            "_view_module": "@jupyter-widgets/controls",
            "_view_module_version": "1.5.0",
            "_view_name": "HBoxView",
            "box_style": "",
            "children": [
              "IPY_MODEL_3138bd4e6bb44bfb9f996fa92c5b1682",
              "IPY_MODEL_603df356638e4ed99129c6a954569ddf",
              "IPY_MODEL_19753f6a506447c194a3a34b179a2806"
            ],
            "layout": "IPY_MODEL_dd10ffa3aa694056abe3a1d3d1748b55"
          }
        },
        "3138bd4e6bb44bfb9f996fa92c5b1682": {
          "model_module": "@jupyter-widgets/controls",
          "model_name": "HTMLModel",
          "model_module_version": "1.5.0",
          "state": {
            "_dom_classes": [],
            "_model_module": "@jupyter-widgets/controls",
            "_model_module_version": "1.5.0",
            "_model_name": "HTMLModel",
            "_view_count": null,
            "_view_module": "@jupyter-widgets/controls",
            "_view_module_version": "1.5.0",
            "_view_name": "HTMLView",
            "description": "",
            "description_tooltip": null,
            "layout": "IPY_MODEL_1149a2c0d0b54bdcba2d8da26ba41d91",
            "placeholder": "​",
            "style": "IPY_MODEL_590521fa3e04476783d81959a5b1739e",
            "value": " 33%"
          }
        },
        "603df356638e4ed99129c6a954569ddf": {
          "model_module": "@jupyter-widgets/controls",
          "model_name": "FloatProgressModel",
          "model_module_version": "1.5.0",
          "state": {
            "_dom_classes": [],
            "_model_module": "@jupyter-widgets/controls",
            "_model_module_version": "1.5.0",
            "_model_name": "FloatProgressModel",
            "_view_count": null,
            "_view_module": "@jupyter-widgets/controls",
            "_view_module_version": "1.5.0",
            "_view_name": "ProgressView",
            "bar_style": "",
            "description": "",
            "description_tooltip": null,
            "layout": "IPY_MODEL_db958d84a7ca4997a6c5e48bfce00410",
            "max": 15,
            "min": 0,
            "orientation": "horizontal",
            "style": "IPY_MODEL_f03fa1d8842b4adc921ebd918bcadefa",
            "value": 5
          }
        },
        "19753f6a506447c194a3a34b179a2806": {
          "model_module": "@jupyter-widgets/controls",
          "model_name": "HTMLModel",
          "model_module_version": "1.5.0",
          "state": {
            "_dom_classes": [],
            "_model_module": "@jupyter-widgets/controls",
            "_model_module_version": "1.5.0",
            "_model_name": "HTMLModel",
            "_view_count": null,
            "_view_module": "@jupyter-widgets/controls",
            "_view_module_version": "1.5.0",
            "_view_name": "HTMLView",
            "description": "",
            "description_tooltip": null,
            "layout": "IPY_MODEL_332a07f929454f668ee1cc430de825f5",
            "placeholder": "​",
            "style": "IPY_MODEL_bc55d3bd1a164fecb35b7cdfa5306e5b",
            "value": " 5/15 [00:19&lt;00:39,  3.98s/it]"
          }
        },
        "dd10ffa3aa694056abe3a1d3d1748b55": {
          "model_module": "@jupyter-widgets/base",
          "model_name": "LayoutModel",
          "model_module_version": "1.2.0",
          "state": {
            "_model_module": "@jupyter-widgets/base",
            "_model_module_version": "1.2.0",
            "_model_name": "LayoutModel",
            "_view_count": null,
            "_view_module": "@jupyter-widgets/base",
            "_view_module_version": "1.2.0",
            "_view_name": "LayoutView",
            "align_content": null,
            "align_items": null,
            "align_self": null,
            "border": null,
            "bottom": null,
            "display": null,
            "flex": null,
            "flex_flow": null,
            "grid_area": null,
            "grid_auto_columns": null,
            "grid_auto_flow": null,
            "grid_auto_rows": null,
            "grid_column": null,
            "grid_gap": null,
            "grid_row": null,
            "grid_template_areas": null,
            "grid_template_columns": null,
            "grid_template_rows": null,
            "height": null,
            "justify_content": null,
            "justify_items": null,
            "left": null,
            "margin": null,
            "max_height": null,
            "max_width": null,
            "min_height": null,
            "min_width": null,
            "object_fit": null,
            "object_position": null,
            "order": null,
            "overflow": null,
            "overflow_x": null,
            "overflow_y": null,
            "padding": null,
            "right": null,
            "top": null,
            "visibility": null,
            "width": null
          }
        },
        "1149a2c0d0b54bdcba2d8da26ba41d91": {
          "model_module": "@jupyter-widgets/base",
          "model_name": "LayoutModel",
          "model_module_version": "1.2.0",
          "state": {
            "_model_module": "@jupyter-widgets/base",
            "_model_module_version": "1.2.0",
            "_model_name": "LayoutModel",
            "_view_count": null,
            "_view_module": "@jupyter-widgets/base",
            "_view_module_version": "1.2.0",
            "_view_name": "LayoutView",
            "align_content": null,
            "align_items": null,
            "align_self": null,
            "border": null,
            "bottom": null,
            "display": null,
            "flex": null,
            "flex_flow": null,
            "grid_area": null,
            "grid_auto_columns": null,
            "grid_auto_flow": null,
            "grid_auto_rows": null,
            "grid_column": null,
            "grid_gap": null,
            "grid_row": null,
            "grid_template_areas": null,
            "grid_template_columns": null,
            "grid_template_rows": null,
            "height": null,
            "justify_content": null,
            "justify_items": null,
            "left": null,
            "margin": null,
            "max_height": null,
            "max_width": null,
            "min_height": null,
            "min_width": null,
            "object_fit": null,
            "object_position": null,
            "order": null,
            "overflow": null,
            "overflow_x": null,
            "overflow_y": null,
            "padding": null,
            "right": null,
            "top": null,
            "visibility": null,
            "width": null
          }
        },
        "590521fa3e04476783d81959a5b1739e": {
          "model_module": "@jupyter-widgets/controls",
          "model_name": "DescriptionStyleModel",
          "model_module_version": "1.5.0",
          "state": {
            "_model_module": "@jupyter-widgets/controls",
            "_model_module_version": "1.5.0",
            "_model_name": "DescriptionStyleModel",
            "_view_count": null,
            "_view_module": "@jupyter-widgets/base",
            "_view_module_version": "1.2.0",
            "_view_name": "StyleView",
            "description_width": ""
          }
        },
        "db958d84a7ca4997a6c5e48bfce00410": {
          "model_module": "@jupyter-widgets/base",
          "model_name": "LayoutModel",
          "model_module_version": "1.2.0",
          "state": {
            "_model_module": "@jupyter-widgets/base",
            "_model_module_version": "1.2.0",
            "_model_name": "LayoutModel",
            "_view_count": null,
            "_view_module": "@jupyter-widgets/base",
            "_view_module_version": "1.2.0",
            "_view_name": "LayoutView",
            "align_content": null,
            "align_items": null,
            "align_self": null,
            "border": null,
            "bottom": null,
            "display": null,
            "flex": null,
            "flex_flow": null,
            "grid_area": null,
            "grid_auto_columns": null,
            "grid_auto_flow": null,
            "grid_auto_rows": null,
            "grid_column": null,
            "grid_gap": null,
            "grid_row": null,
            "grid_template_areas": null,
            "grid_template_columns": null,
            "grid_template_rows": null,
            "height": null,
            "justify_content": null,
            "justify_items": null,
            "left": null,
            "margin": null,
            "max_height": null,
            "max_width": null,
            "min_height": null,
            "min_width": null,
            "object_fit": null,
            "object_position": null,
            "order": null,
            "overflow": null,
            "overflow_x": null,
            "overflow_y": null,
            "padding": null,
            "right": null,
            "top": null,
            "visibility": null,
            "width": null
          }
        },
        "f03fa1d8842b4adc921ebd918bcadefa": {
          "model_module": "@jupyter-widgets/controls",
          "model_name": "ProgressStyleModel",
          "model_module_version": "1.5.0",
          "state": {
            "_model_module": "@jupyter-widgets/controls",
            "_model_module_version": "1.5.0",
            "_model_name": "ProgressStyleModel",
            "_view_count": null,
            "_view_module": "@jupyter-widgets/base",
            "_view_module_version": "1.2.0",
            "_view_name": "StyleView",
            "bar_color": null,
            "description_width": ""
          }
        },
        "332a07f929454f668ee1cc430de825f5": {
          "model_module": "@jupyter-widgets/base",
          "model_name": "LayoutModel",
          "model_module_version": "1.2.0",
          "state": {
            "_model_module": "@jupyter-widgets/base",
            "_model_module_version": "1.2.0",
            "_model_name": "LayoutModel",
            "_view_count": null,
            "_view_module": "@jupyter-widgets/base",
            "_view_module_version": "1.2.0",
            "_view_name": "LayoutView",
            "align_content": null,
            "align_items": null,
            "align_self": null,
            "border": null,
            "bottom": null,
            "display": null,
            "flex": null,
            "flex_flow": null,
            "grid_area": null,
            "grid_auto_columns": null,
            "grid_auto_flow": null,
            "grid_auto_rows": null,
            "grid_column": null,
            "grid_gap": null,
            "grid_row": null,
            "grid_template_areas": null,
            "grid_template_columns": null,
            "grid_template_rows": null,
            "height": null,
            "justify_content": null,
            "justify_items": null,
            "left": null,
            "margin": null,
            "max_height": null,
            "max_width": null,
            "min_height": null,
            "min_width": null,
            "object_fit": null,
            "object_position": null,
            "order": null,
            "overflow": null,
            "overflow_x": null,
            "overflow_y": null,
            "padding": null,
            "right": null,
            "top": null,
            "visibility": null,
            "width": null
          }
        },
        "bc55d3bd1a164fecb35b7cdfa5306e5b": {
          "model_module": "@jupyter-widgets/controls",
          "model_name": "DescriptionStyleModel",
          "model_module_version": "1.5.0",
          "state": {
            "_model_module": "@jupyter-widgets/controls",
            "_model_module_version": "1.5.0",
            "_model_name": "DescriptionStyleModel",
            "_view_count": null,
            "_view_module": "@jupyter-widgets/base",
            "_view_module_version": "1.2.0",
            "_view_name": "StyleView",
            "description_width": ""
          }
        }
      }
    }
  },
  "cells": [
    {
      "cell_type": "markdown",
      "metadata": {
        "id": "view-in-github",
        "colab_type": "text"
      },
      "source": [
        "<a href=\"https://colab.research.google.com/github/neennera/AI_pitch/blob/main/aib_neen.ipynb\" target=\"_parent\"><img src=\"https://colab.research.google.com/assets/colab-badge.svg\" alt=\"Open In Colab\"/></a>"
      ]
    },
    {
      "cell_type": "code",
      "source": [
        "!nvidia-smi"
      ],
      "metadata": {
        "colab": {
          "base_uri": "https://localhost:8080/"
        },
        "id": "BDAiqBgMjOyc",
        "outputId": "07509eb1-7ebc-4e53-8924-7fef9b4cc3b5"
      },
      "execution_count": 1,
      "outputs": [
        {
          "output_type": "stream",
          "name": "stdout",
          "text": [
            "Mon Jun 20 11:39:50 2022       \n",
            "+-----------------------------------------------------------------------------+\n",
            "| NVIDIA-SMI 460.32.03    Driver Version: 460.32.03    CUDA Version: 11.2     |\n",
            "|-------------------------------+----------------------+----------------------+\n",
            "| GPU  Name        Persistence-M| Bus-Id        Disp.A | Volatile Uncorr. ECC |\n",
            "| Fan  Temp  Perf  Pwr:Usage/Cap|         Memory-Usage | GPU-Util  Compute M. |\n",
            "|                               |                      |               MIG M. |\n",
            "|===============================+======================+======================|\n",
            "|   0  Tesla T4            Off  | 00000000:00:04.0 Off |                    0 |\n",
            "| N/A   56C    P8    11W /  70W |      0MiB / 15109MiB |      0%      Default |\n",
            "|                               |                      |                  N/A |\n",
            "+-------------------------------+----------------------+----------------------+\n",
            "                                                                               \n",
            "+-----------------------------------------------------------------------------+\n",
            "| Processes:                                                                  |\n",
            "|  GPU   GI   CI        PID   Type   Process name                  GPU Memory |\n",
            "|        ID   ID                                                   Usage      |\n",
            "|=============================================================================|\n",
            "|  No running processes found                                                 |\n",
            "+-----------------------------------------------------------------------------+\n"
          ]
        }
      ]
    },
    {
      "cell_type": "code",
      "source": [
        "!rsync -ah --progress /content/drive/MyDrive/AI/processed_train /content"
      ],
      "metadata": {
        "id": "LcFUFa69bY4D",
        "colab": {
          "base_uri": "https://localhost:8080/"
        },
        "outputId": "e15c7886-9cb0-46db-ec65-db208db1e19e"
      },
      "execution_count": 120,
      "outputs": [
        {
          "output_type": "stream",
          "name": "stdout",
          "text": [
            "sending incremental file list\n",
            "rsync: change_dir \"/content/drive/MyDrive/AI\" failed: No such file or directory (2)\n",
            "rsync error: some files/attrs were not transferred (see previous errors) (code 23) at main.c(1196) [sender=3.1.2]\n"
          ]
        }
      ]
    },
    {
      "cell_type": "code",
      "source": [
        "import zipfile\n",
        "from google.colab import drive\n",
        "drive.mount('/content/gdrive')"
      ],
      "metadata": {
        "colab": {
          "base_uri": "https://localhost:8080/"
        },
        "id": "8sJSpHE2R3go",
        "outputId": "2978d4fc-f73b-42a3-9e0d-04978990e92e"
      },
      "execution_count": 18,
      "outputs": [
        {
          "output_type": "stream",
          "name": "stdout",
          "text": [
            "Drive already mounted at /content/gdrive; to attempt to forcibly remount, call drive.mount(\"/content/gdrive\", force_remount=True).\n"
          ]
        }
      ]
    },
    {
      "cell_type": "code",
      "execution_count": 3,
      "metadata": {
        "id": "QQDB_VY5S34Z"
      },
      "outputs": [],
      "source": [
        "import os,sys, operator\n",
        "import shutil, gzip, math\n",
        "import pickle\n",
        "import numpy as np                                       # fast vectors and matrices\n",
        "from glob import glob\n",
        "from time import time\n",
        "import matplotlib.pyplot as plt\n",
        "\n",
        "\n",
        "import torch\n",
        "import torch.nn.functional as F\n",
        "from torch import optim\n",
        "from torch import nn\n",
        "from torch.utils.data import DataLoader, Dataset\n",
        "\n",
        "from pathlib import Path\n",
        "from IPython.core.debugger import set_trace\n",
        "from collections import Counter\n",
        "\n",
        "%matplotlib inline"
      ]
    },
    {
      "cell_type": "markdown",
      "source": [
        "# Model"
      ],
      "metadata": {
        "id": "_j46RJyEOtU-"
      }
    },
    {
      "cell_type": "code",
      "source": [
        "import os\n",
        "import time\n",
        "\n",
        "import numpy as np\n",
        "import pandas as pd\n",
        "import torch\n",
        "from torch.utils.data import Dataset\n",
        "\n",
        "\n",
        "class CustomTrainDataset(Dataset):\n",
        "    def __init__(self, train_name,feat_path , label_path):\n",
        "        #self.img_labels = os.listdir(feat_path)\n",
        "        self.img_labels = train_name\n",
        "        self.feat_path = feat_path \n",
        "        self.label_path = label_path\n",
        "\n",
        "    def __len__(self):\n",
        "        return len(self.img_labels)\n",
        "\n",
        "    def __getitem__(self, idx):\n",
        "        data = (torch.from_numpy(np.load(self.feat_path +self.img_labels[idx])))\n",
        "        label = (torch.from_numpy(np.load(self.label_path +self.img_labels[idx])))\n",
        "        #data = torch.from_numpy(pd.read_csv(self.feat_path + self.img_labels[idx]).values.astype(np.float32))\n",
        "        #label = torch.from_numpy(pd.read_csv(self.label_path + self.img_labels[idx]).values.astype(np.float32))\n",
        "        data = (data - data.mean(0)) / (data.std(0) + 1e-6)\n",
        "        return data, label\n",
        "\n",
        "class CustomTestDataset(Dataset):\n",
        "    def __init__(self, test_name,feat_path , label_path):\n",
        "        #self.img_labels = os.listdir(feat_path)\n",
        "        self.img_labels = test_name\n",
        "        self.feat_path = feat_path \n",
        "        self.label_path = label_path\n",
        "\n",
        "    def __len__(self):\n",
        "        return len(self.img_labels)\n",
        "\n",
        "    def __getitem__(self, idx):\n",
        "        data = (torch.from_numpy(np.load(self.feat_path +self.img_labels[idx])))\n",
        "        label = (torch.from_numpy(np.load(self.label_path +self.img_labels[idx])))\n",
        "        #data = torch.from_numpy(pd.read_csv(self.feat_path + self.img_labels[idx]).values.astype(np.float32))\n",
        "        #label = torch.from_numpy(pd.read_csv(self.label_path + self.img_labels[idx]).values.astype(np.float32))\n",
        "        data = (data - data.mean(0)) / (data.std(0) + 1e-6)\n",
        "        return data, label"
      ],
      "metadata": {
        "id": "xE9sNSZeIqkp"
      },
      "execution_count": 179,
      "outputs": []
    },
    {
      "cell_type": "code",
      "source": [
        "train_feat_path='/content/gdrive/MyDrive/AI/processed_train/feat/'\n",
        "train_label_path='/content/gdrive/MyDrive/AI/processed_train/label/'\n",
        "test_feat_path='/content/gdrive/MyDrive/AI/processed_test/feat/'\n",
        "test_label_path='/content/gdrive/MyDrive/AI/processed_test/label/'\n",
        "\n",
        "train_name=os.listdir(train_feat_path)\n",
        "train_name2=os.listdir(train_label_path)\n",
        "test_name=os.listdir(test_feat_path)\n",
        "test_name2=os.listdir(test_label_path)"
      ],
      "metadata": {
        "id": "H1wUiQxHh804"
      },
      "execution_count": 210,
      "outputs": []
    },
    {
      "cell_type": "code",
      "source": [
        "def intersection(lst1, lst2):\n",
        "    lst3 = [value for value in lst1 if value in lst2]\n",
        "    return lst3\n",
        "\n",
        "train_name = intersection(train_name,train_name2)\n",
        "test_name = intersection(test_name,test_name2)"
      ],
      "metadata": {
        "id": "gsJkshSjO_TU"
      },
      "execution_count": 211,
      "outputs": []
    },
    {
      "cell_type": "code",
      "source": [
        "train_dataset=CustomTrainDataset(train_name,train_feat_path, train_label_path)\n",
        "test_dataset=CustomTrainDataset(test_name,test_feat_path, test_label_path)"
      ],
      "metadata": {
        "id": "2vvd9LWQiPq9"
      },
      "execution_count": 212,
      "outputs": []
    },
    {
      "cell_type": "code",
      "source": [
        "len(train_name) == len(os.listdir(train_feat_path))\n",
        "#len(test_name) == len(os.listdir(test_feat_path))"
      ],
      "metadata": {
        "colab": {
          "base_uri": "https://localhost:8080/"
        },
        "id": "9UC93mTxHD8M",
        "outputId": "2b6fa2af-5176-4114-aa40-761e70c0c372"
      },
      "execution_count": 215,
      "outputs": [
        {
          "output_type": "execute_result",
          "data": {
            "text/plain": [
              "False"
            ]
          },
          "metadata": {},
          "execution_count": 215
        }
      ]
    },
    {
      "cell_type": "markdown",
      "source": [
        "# Model"
      ],
      "metadata": {
        "id": "6XFY-bYjO16X"
      }
    },
    {
      "cell_type": "code",
      "source": [
        "class Model(nn.Module):\n",
        "    def __init__(self, feat_dim=256):\n",
        "        super().__init__()\n",
        "\n",
        "        self.convo1 = self._get_conv_block(feat_dim, 512, 7)\n",
        "        self.convo2 = self._get_conv_block(512, 512, 7)\n",
        "        self.convo3 = self._get_conv_block(512, 512, 7)\n",
        "        self.convo4 = self._get_conv_block(512, 512, 7)\n",
        "        self.convo5 = self._get_conv_block(512, 2048, 32)\n",
        "        self.convo6 = self._get_conv_block(2048, 2048, 1)\n",
        "        self.convo7 = self._get_conv_block(2048, 88, 1, activation=\"sigmoid\")\n",
        "\n",
        "        # self.lstm = nn.LSTM(input_size=512, hidden_size=512, bidirectional=True, batch_first=True)\n",
        "        # self.lstm2 = nn.LSTM(input_size=1024, hidden_size=88, batch_first=True)\n",
        "\n",
        "    def _get_activation(self, name):\n",
        "      if name == \"relu\":\n",
        "        return nn.ReLU()\n",
        "      elif name == \"sigmoid\":\n",
        "        return nn.Sigmoid()\n",
        "\n",
        "    def _get_conv_block(self, in_channel, out_channel, kernel_size, activation=\"relu\"):\n",
        "      return nn.Sequential(\n",
        "          nn.Conv1d(in_channel, out_channel, kernel_size, padding=\"same\"),\n",
        "          nn.BatchNorm1d(out_channel),\n",
        "          self._get_activation(activation)\n",
        "      )\n",
        "\n",
        "    def forward(self, x):\n",
        "        x = torch.transpose(x, 1, 2)  # reformat from (B, T, C) to (B, C, T)\n",
        "        # x.shape = (batch_size, 256, 500)\n",
        "        x = self.convo1(x)   # (B, C=120, T=1500) -> (B, C=conv1_out_dim, T=1500)\n",
        "        x = self.convo2(x)\n",
        "        x = self.convo3(x)\n",
        "        x = self.convo4(x)\n",
        "        x = self.convo5(x)\n",
        "        x = self.convo6(x)\n",
        "        x = self.convo7(x)\n",
        "       \n",
        "        x = torch.transpose(x, 1, 2)  # convert (B, C, T) -> (B, T, C)\n",
        "        # x, _ = self.lstm(x)  # lstm return [output, (h, c)]\n",
        "        # x, _ = self.lstm2(x) \n",
        "        return x"
      ],
      "metadata": {
        "id": "ZBhI02GMDTXa"
      },
      "execution_count": 217,
      "outputs": []
    },
    {
      "cell_type": "code",
      "source": [
        "checkpoint = { \n",
        "    'model': model.state_dict(),\n",
        "    'optimizer': optimizer.state_dict(),\n",
        "}\n",
        "\n",
        "def save(train_losses,metrics,baseline,i):\n",
        "    loss_log=[]\n",
        "    acc_log=[]\n",
        "    baseline_log=[]\n",
        "    \n",
        "    path='/content/gdrive/MyDrive/AI/weight/P'+str(i)+'/checkpoint.pth'\n",
        "    path_log='/content/gdrive/MyDrive/AI/weight/P'+str(i)\n",
        "    path_old='/content/gdrive/MyDrive/AI/weight/P'+str(i-1)\n",
        "    torch.save(checkpoint, path)\n",
        "\n",
        "    \n",
        "    with open(path_old+'baseline_log.pkl', 'rb') as f:\n",
        "        baseline_log = pickle.load(f)\n",
        "    with open(path_old+'loss_log.pkl', 'rb') as f:\n",
        "        loss_log = pickle.load(f)\n",
        "    with open(path_old+'acc_log.pkl', 'rb') as f:\n",
        "        acc_log = pickle.load(f)\n",
        "    \n",
        "        \n",
        "\n",
        "    for k in train_losses :\n",
        "        loss_log.append(k)\n",
        "    acc_log = acc_log + metrics\n",
        "    baseline_log = baseline_log + baseline\n",
        "\n",
        "    with open(path_log+'/baseline_log.pkl', 'wb') as f:\n",
        "        pickle.dump(baseline_log, f)\n",
        "    with open(path_log+'/loss_log.pkl', 'wb') as f:\n",
        "        pickle.dump(loss_log, f)\n",
        "    with open(path_log+'/acc_log.pkl', 'wb') as f:\n",
        "        pickle.dump(acc_log, f)"
      ],
      "metadata": {
        "id": "3UASFyLnO3l_"
      },
      "execution_count": 218,
      "outputs": []
    },
    {
      "cell_type": "code",
      "source": [
        "def M_accuracy(yhat, y):\n",
        "    predictions = yhat.detach().numpy()\n",
        "    true_values = y.detach().numpy()\n",
        "    correct = (predictions >= 0.5) == true_values\n",
        "    return correct.mean().item()"
      ],
      "metadata": {
        "id": "DuhodzFNUYFw"
      },
      "execution_count": 221,
      "outputs": []
    },
    {
      "cell_type": "code",
      "source": [
        "from tqdm.auto import tqdm\n",
        "\n",
        "\n",
        "def train_model(model, train_dataloader, val_dataloader, epochs, learning_rate=3e-4, save_every=3):\n",
        "    device = \"cuda\" if torch.cuda.is_available() else \"cpu\"\n",
        "    \n",
        "    model = model.to(device)\n",
        "    # loss_fn = nn.MSELoss()\n",
        "    loss_fn = nn.BCELoss()\n",
        "    optimizer = optim.Adam(model.parameters(), lr=learning_rate)\n",
        "    \n",
        "    # initialize loss log\n",
        "    train_losses = []\n",
        "    val_losses = []\n",
        "    metrics = []\n",
        "    baseline = []\n",
        "    \n",
        "    # iterate over epoch\n",
        "    for epoch in range(epochs):\n",
        "        train_batch_loss = []\n",
        "        train_batch_acc = []\n",
        "        \n",
        "        # iterate over batch in dataset\n",
        "        for xb, yb in tqdm(train_dataloader) :\n",
        "        #for xb, yb in enumerate(tqdm(train_dataloader)):\n",
        "            xb = xb.to(device)\n",
        "            yb = yb.to(device)\n",
        "            \n",
        "            optimizer.zero_grad()\n",
        "            \n",
        "            # forward pass\n",
        "            y_hatb = model(xb)\n",
        "            loss = loss_fn(y_hatb, yb)\n",
        "            acc = M_accuracy(y_hatb.cpu(), yb.cpu())\n",
        "            \n",
        "            loss.backward()\n",
        "            optimizer.step()\n",
        "            \n",
        "            loss_logger = loss.detach().cpu().numpy()\n",
        "            train_batch_loss.append(loss_logger)\n",
        "            train_losses.append(loss_logger)\n",
        "            metrics.append(acc)\n",
        "            baseline.append(loss_fn(torch.zeros_like(yb), yb))\n",
        "        train_epoch_loss = np.mean(train_batch_loss)\n",
        "        \n",
        "        val_batch_loss = []\n",
        "        for xb, yb in tqdm(val_dataloader):\n",
        "            xb = xb.to(device)\n",
        "            yb = yb.to(device)\n",
        "            \n",
        "            with torch.no_grad():\n",
        "                y_hatb = model(xb)\n",
        "                loss = loss_fn(y_hatb, yb)\n",
        "                loss_logger = loss.detach().cpu().numpy()\n",
        "            val_batch_loss.append(loss_logger)\n",
        "        val_epoch_loss = np.mean(val_batch_loss)\n",
        "        \n",
        "        val_losses.append(val_epoch_loss)\n",
        "        if (epoch>3 and epoch%5 == 0) :\n",
        "          save(train_losses,metrics,baseline ,epoch/5)\n",
        "        print(f\"[Epoch {epoch} / {epochs}] Training Loss: {train_epoch_loss:.6f}\\tValidation Loss: {val_epoch_loss:.6f}\")\n",
        "        \n",
        "    return {\n",
        "        \"train_loss\": train_losses,\n",
        "        \"val_loss\": val_losses\n",
        "    }"
      ],
      "metadata": {
        "id": "7OSC3VG1HfwW"
      },
      "execution_count": 224,
      "outputs": []
    },
    {
      "cell_type": "code",
      "source": [
        "batch_size = 64\n",
        "epochs = 50\n",
        "num_workers = 0\n",
        "\n",
        "model = Model()\n",
        "train_dataloader = DataLoader(train_dataset, batch_size=batch_size, shuffle=True, pin_memory=True, num_workers=num_workers)\n",
        "test_dataloader = DataLoader(test_dataset, batch_size=batch_size, pin_memory=True, num_workers=num_workers)\n",
        "history = train_model(model,train_dataloader,test_dataloader,50)"
      ],
      "metadata": {
        "id": "VTZi8Fs7jHxz",
        "colab": {
          "base_uri": "https://localhost:8080/",
          "height": 49,
          "referenced_widgets": [
            "d1e18c6d686341f4a6777c269362615b",
            "3138bd4e6bb44bfb9f996fa92c5b1682",
            "603df356638e4ed99129c6a954569ddf",
            "19753f6a506447c194a3a34b179a2806",
            "dd10ffa3aa694056abe3a1d3d1748b55",
            "1149a2c0d0b54bdcba2d8da26ba41d91",
            "590521fa3e04476783d81959a5b1739e",
            "db958d84a7ca4997a6c5e48bfce00410",
            "f03fa1d8842b4adc921ebd918bcadefa",
            "332a07f929454f668ee1cc430de825f5",
            "bc55d3bd1a164fecb35b7cdfa5306e5b"
          ]
        },
        "outputId": "cfd7d539-35dd-47e7-85cb-298097766259"
      },
      "execution_count": null,
      "outputs": [
        {
          "output_type": "display_data",
          "data": {
            "text/plain": [
              "  0%|          | 0/15 [00:00<?, ?it/s]"
            ],
            "application/vnd.jupyter.widget-view+json": {
              "version_major": 2,
              "version_minor": 0,
              "model_id": "d1e18c6d686341f4a6777c269362615b"
            }
          },
          "metadata": {}
        }
      ]
    },
    {
      "cell_type": "code",
      "source": [
        "from tqdm.auto import tqdm\n",
        "\n",
        "def train_model(epochs=10) :\n",
        "    learning_rate=3e-4\n",
        "    train_dataloader = DataLoader(train_dataset, batch_size=batch_size, shuffle=True, pin_memory=True, num_workers=num_workers)\n",
        "    val_dataloader = DataLoader(test_dataset, batch_size=batch_size, pin_memory=True, num_workers=num_workers)\n",
        "    device = \"cuda\" if torch.cuda.is_available() else \"cpu\"\n",
        "    model=Model()\n",
        "    model = model.to(device)\n",
        "    loss_fn = nn.BCELoss()\n",
        "    optimizer = optim.Adam(model.parameters(), lr=learning_rate)\n",
        "    \n",
        "    # initialize loss log\n",
        "    train_losses = []\n",
        "    val_losses = []\n",
        "    metrics = []\n",
        "    baseline = []\n",
        "    \n",
        "    # iterate over epoch\n",
        "    for epoch in range(epochs):\n",
        "        train_batch_loss = []\n",
        "        train_batch_acc = []\n",
        "        \n",
        "        # iterate over batch in dataset\n",
        "        #for xb, yb in tqdm(train_dataloader):\n",
        "        for xb, yb in train_dataloader:\n",
        "            xb = xb.to(device)\n",
        "            yb = yb.to(device)\n",
        "            \n",
        "            optimizer.zero_grad()\n",
        "            \n",
        "            # forward pass\n",
        "            y_hatb = model(xb)\n",
        "            loss = loss_fn(y_hatb, yb)\n",
        "            acc = M_accuracy(y_hatb, yb)\n",
        "            \n",
        "            loss.backward()\n",
        "            optimizer.step()\n",
        "            \n",
        "            loss_logger = loss.detach().cpu().numpy()\n",
        "            train_batch_loss.append(loss_logger)\n",
        "            train_losses.append(loss_logger)\n",
        "            metrics.append(acc)\n",
        "            baseline.append(loss_fn(torch.zeros_like(yb), yb))\n",
        "        \n",
        "        train_epoch_loss = np.mean(train_batch_loss)\n",
        "        \n",
        "        val_batch_loss = []\n",
        "        for xb, yb in tqdm(val_dataloader):\n",
        "            xb = xb.to(device)\n",
        "            yb = yb.to(device)\n",
        "            \n",
        "            with torch.no_grad():\n",
        "                y_hatb = model(xb)\n",
        "                loss = loss_fn(y_hatb, yb)\n",
        "                loss_logger = loss.detach().cpu().numpy()\n",
        "            val_batch_loss.append(loss_logger)\n",
        "        val_epoch_loss = np.mean(val_batch_loss)\n",
        "        \n",
        "        val_losses.append(val_epoch_loss)\n",
        "        if (epoch>3 and epoch%5 == 0) :\n",
        "          save(train_losses,metrics,baseline ,epoch/5)\n",
        "        print(f\"[Epoch {epoch} / {epochs}] Training Loss: {train_epoch_loss:.6f}\\tValidation Loss: {val_epoch_loss:.6f}\")\n",
        "        \n",
        "    return {\n",
        "        \"train_loss\": train_losses,\n",
        "        \"val_loss\": val_losses\n",
        "    }"
      ],
      "metadata": {
        "id": "Z9YvVBCBi9vJ"
      },
      "execution_count": 109,
      "outputs": []
    },
    {
      "cell_type": "markdown",
      "source": [
        "# Train"
      ],
      "metadata": {
        "id": "hU5J9Dp5QGBX"
      }
    },
    {
      "cell_type": "code",
      "source": [
        "i = 0\n",
        "checkpoint = torch.load('/content/drive/MyDrive/AI/weight/'+i+'.pth')\n",
        "model = Model()\n",
        "optimizer = torch.optim.Adam(model.parameters(), lr=3e-4)\n",
        "model.load_state_dict(checkpoint['model'])\n",
        "optimizer.load_state_dict(checkpoint['optimizer'])"
      ],
      "metadata": {
        "id": "4OZiqS1KQIQG"
      },
      "execution_count": null,
      "outputs": []
    },
    {
      "cell_type": "code",
      "source": [
        "torch.save(model.state_dict(), \"/content/gdrive/MyDrive/final.pt\")"
      ],
      "metadata": {
        "id": "PwBtX3h_i13A"
      },
      "execution_count": null,
      "outputs": []
    },
    {
      "cell_type": "code",
      "source": [
        "with open(\"/content/drive/MyDrive/visai/history.pckl\", \"wb\") as fp:\n",
        "  pickle.dump(history, fp)"
      ],
      "metadata": {
        "id": "qR7gOMhpjH-W"
      },
      "execution_count": null,
      "outputs": []
    },
    {
      "cell_type": "code",
      "source": [
        "xb, yb = next(iter(train_dataloader))"
      ],
      "metadata": {
        "id": "lql7M-cIY-oL"
      },
      "execution_count": null,
      "outputs": []
    },
    {
      "cell_type": "code",
      "source": [
        "yhatb = model(xb.cuda())"
      ],
      "metadata": {
        "id": "-GnVytGNgl0y"
      },
      "execution_count": null,
      "outputs": []
    },
    {
      "cell_type": "code",
      "source": [
        "yhatb"
      ],
      "metadata": {
        "id": "PZhiHRjBm9kv",
        "outputId": "bd4877d7-5e18-4974-f9b8-dac003dcbda9",
        "colab": {
          "base_uri": "https://localhost:8080/"
        }
      },
      "execution_count": null,
      "outputs": [
        {
          "output_type": "execute_result",
          "data": {
            "text/plain": [
              "tensor([[[0.3199, 0.3188, 0.3187,  ..., 0.3191, 0.3194, 0.3188],\n",
              "         [0.2767, 0.2764, 0.2764,  ..., 0.2766, 0.2768, 0.2765],\n",
              "         [0.2701, 0.2700, 0.2700,  ..., 0.2701, 0.2701, 0.2701],\n",
              "         ...,\n",
              "         [0.2689, 0.2689, 0.2689,  ..., 0.2689, 0.2689, 0.2689],\n",
              "         [0.2689, 0.2689, 0.2689,  ..., 0.2689, 0.2689, 0.2689],\n",
              "         [0.2689, 0.2690, 0.2690,  ..., 0.2690, 0.2690, 0.2690]],\n",
              "\n",
              "        [[0.3200, 0.3188, 0.3187,  ..., 0.3191, 0.3194, 0.3189],\n",
              "         [0.2767, 0.2764, 0.2764,  ..., 0.2766, 0.2768, 0.2765],\n",
              "         [0.2701, 0.2700, 0.2700,  ..., 0.2701, 0.2701, 0.2701],\n",
              "         ...,\n",
              "         [0.2689, 0.2689, 0.2689,  ..., 0.2689, 0.2689, 0.2689],\n",
              "         [0.2689, 0.2689, 0.2689,  ..., 0.2689, 0.2689, 0.2689],\n",
              "         [0.2689, 0.2690, 0.2690,  ..., 0.2690, 0.2690, 0.2690]],\n",
              "\n",
              "        [[0.3199, 0.3188, 0.3187,  ..., 0.3191, 0.3194, 0.3188],\n",
              "         [0.2767, 0.2764, 0.2764,  ..., 0.2766, 0.2768, 0.2765],\n",
              "         [0.2701, 0.2700, 0.2700,  ..., 0.2701, 0.2701, 0.2701],\n",
              "         ...,\n",
              "         [0.2689, 0.2689, 0.2689,  ..., 0.2689, 0.2689, 0.2689],\n",
              "         [0.2689, 0.2689, 0.2689,  ..., 0.2689, 0.2689, 0.2689],\n",
              "         [0.2689, 0.2690, 0.2690,  ..., 0.2690, 0.2690, 0.2690]],\n",
              "\n",
              "        ...,\n",
              "\n",
              "        [[0.3203, 0.3192, 0.3189,  ..., 0.3194, 0.3196, 0.3189],\n",
              "         [0.2767, 0.2764, 0.2764,  ..., 0.2766, 0.2768, 0.2766],\n",
              "         [0.2701, 0.2700, 0.2700,  ..., 0.2701, 0.2701, 0.2701],\n",
              "         ...,\n",
              "         [0.2689, 0.2689, 0.2689,  ..., 0.2689, 0.2689, 0.2689],\n",
              "         [0.2689, 0.2689, 0.2689,  ..., 0.2689, 0.2689, 0.2689],\n",
              "         [0.2689, 0.2690, 0.2690,  ..., 0.2690, 0.2690, 0.2690]],\n",
              "\n",
              "        [[0.3202, 0.3191, 0.3189,  ..., 0.3193, 0.3196, 0.3189],\n",
              "         [0.2767, 0.2764, 0.2764,  ..., 0.2766, 0.2768, 0.2766],\n",
              "         [0.2701, 0.2700, 0.2700,  ..., 0.2701, 0.2701, 0.2701],\n",
              "         ...,\n",
              "         [0.2689, 0.2689, 0.2689,  ..., 0.2689, 0.2689, 0.2689],\n",
              "         [0.2689, 0.2689, 0.2689,  ..., 0.2689, 0.2689, 0.2689],\n",
              "         [0.2689, 0.2690, 0.2690,  ..., 0.2690, 0.2690, 0.2690]],\n",
              "\n",
              "        [[0.3199, 0.3188, 0.3187,  ..., 0.3191, 0.3194, 0.3188],\n",
              "         [0.2767, 0.2764, 0.2764,  ..., 0.2766, 0.2768, 0.2765],\n",
              "         [0.2701, 0.2700, 0.2700,  ..., 0.2701, 0.2701, 0.2701],\n",
              "         ...,\n",
              "         [0.2689, 0.2689, 0.2689,  ..., 0.2689, 0.2689, 0.2689],\n",
              "         [0.2689, 0.2689, 0.2689,  ..., 0.2689, 0.2689, 0.2689],\n",
              "         [0.2689, 0.2690, 0.2690,  ..., 0.2690, 0.2690, 0.2690]]],\n",
              "       device='cuda:0', grad_fn=<SigmoidBackward0>)"
            ]
          },
          "metadata": {},
          "execution_count": 123
        }
      ]
    },
    {
      "cell_type": "code",
      "source": [
        "import seaborn as sns\n",
        "\n",
        "idx = 5\n",
        "fig, ax = plt.subplots(2, 1, figsize=(4, 10))\n",
        "\n",
        "sns.heatmap(yhatb.detach().cpu().numpy()[idx], ax=ax[0])\n",
        "sns.heatmap(yb[idx], ax=ax[1])"
      ],
      "metadata": {
        "colab": {
          "base_uri": "https://localhost:8080/",
          "height": 617
        },
        "id": "Wn8IHPdmgqOg",
        "outputId": "fa147a3b-f20b-4a52-afd6-a97ba9cdbc54"
      },
      "execution_count": null,
      "outputs": [
        {
          "output_type": "execute_result",
          "data": {
            "text/plain": [
              "<matplotlib.axes._subplots.AxesSubplot at 0x7f37b107ea50>"
            ]
          },
          "metadata": {},
          "execution_count": 122
        },
        {
          "output_type": "display_data",
          "data": {
            "text/plain": [
              "<Figure size 288x720 with 4 Axes>"
            ],
            "image/png": "[encoded data removed]"
          },
          "metadata": {
            "needs_background": "light"
          }
        }
      ]
    },
    {
      "cell_type": "code",
      "source": [
        ""
      ],
      "metadata": {
        "id": "9L3T35xWg9qm"
      },
      "execution_count": null,
      "outputs": []
    }
  ]
}