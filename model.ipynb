{
 "cells": [
  {
   "cell_type": "code",
   "execution_count": 3,
   "metadata": {},
   "outputs": [],
   "source": [
    "import os,sys, operator\n",
    "import shutil, gzip, math\n",
    "import pickle\n",
    "import numpy as np                                       # fast vectors and matrices\n",
    "from glob import glob\n",
    "from time import time\n",
    "import matplotlib.pyplot as plt\n",
    "\n",
    "import tensorflow as tf\n",
    "\n",
    "import torch\n",
    "from torch.utils.data import Dataset\n",
    "from torchvision import datasets\n",
    "from torchvision.transforms import ToTensor\n",
    "from torch.utils.data import DataLoader\n",
    "from torch import optim\n",
    "from torch import tensor\n",
    "from torch import nn\n",
    "import torch.nn.functional as F\n",
    "\n",
    "from pathlib import Path\n",
    "from IPython.core.debugger import set_trace\n",
    "from collections import Counter\n",
    "\n",
    "%matplotlib inline"
   ]
  },
  {
   "cell_type": "markdown",
   "metadata": {},
   "source": [
    "## Data Loader"
   ]
  },
  {
   "cell_type": "code",
   "execution_count": 4,
   "metadata": {},
   "outputs": [],
   "source": [
    "train_feat_path=\"processed_dataset\\\\train\\\\feat\\\\\"\n",
    "train_label_path=\"processed_dataset\\\\train\\\\label\\\\\"\n",
    "test_feat_path=\"processed_dataset\\\\test\\\\feat\\\\\"\n",
    "test_label_path=\"processed_dataset\\\\test\\\\label\\\\\"\n",
    "\n",
    "train_name=os.listdir(train_feat_path)\n",
    "test_name=os.listdir(test_feat_path)"
   ]
  },
  {
   "cell_type": "code",
   "execution_count": 5,
   "metadata": {},
   "outputs": [],
   "source": [
    "class CustomTrainDataset(Dataset):\n",
    "    def __init__(self, feat_path=train_feat_path , label_path=train_label_path , transform=None, target_transform=None):\n",
    "        self.img_labels = os.listdir(train_feat_path)\n",
    "        self.feat_path = feat_path \n",
    "        self.label_path = label_path\n",
    "        self.transform = transform\n",
    "        self.target_transform = target_transform\n",
    "\n",
    "    def __len__(self):\n",
    "        return len(self.img_labels)\n",
    "\n",
    "    def __getitem__(self, idx):\n",
    "        data = (torch.from_numpy(np.load(self.feat_path +self.img_labels[idx])))\n",
    "        label = (torch.from_numpy(np.load(self.label_path +self.img_labels[idx])))\n",
    "        if self.transform:\n",
    "            data = self.transform(data)\n",
    "        if self.target_transform:\n",
    "            label = self.target_transform(label)\n",
    "        return data, label\n",
    "\n",
    "class CustomTestDataset(Dataset):\n",
    "    def __init__(self, feat_path=test_feat_path , label_path=test_label_path , transform=None, target_transform=None):\n",
    "        self.img_labels = os.listdir(train_feat_path)\n",
    "        self.feat_path = feat_path \n",
    "        self.label_path = label_path\n",
    "        self.transform = transform\n",
    "        self.target_transform = target_transform\n",
    "\n",
    "    def __len__(self):\n",
    "        return len(self.img_labels)\n",
    "\n",
    "    def __getitem__(self, idx):\n",
    "        data = (torch.from_numpy(np.load(self.feat_path +self.img_labels[idx])))\n",
    "        label = (torch.from_numpy(np.load(self.label_path +self.img_labels[idx])))\n",
    "        print(self.feat_path +self.img_labels[idx])\n",
    "        return data, label\n",
    "    \n",
    "    def demo() :\n",
    "        for indices in train :\n",
    "            yield collate_fn(train_dataset[i] for i in indices)\n"
   ]
  },
  {
   "cell_type": "code",
   "execution_count": 6,
   "metadata": {},
   "outputs": [],
   "source": [
    "train_dataset=CustomTrainDataset()\n",
    "test_dataset=CustomTrainDataset()"
   ]
  },
  {
   "cell_type": "markdown",
   "metadata": {},
   "source": [
    "## model"
   ]
  },
  {
   "cell_type": "code",
   "execution_count": 7,
   "metadata": {},
   "outputs": [],
   "source": [
    "def normalize(x, m, s): \n",
    "    return (x-m)/s"
   ]
  },
  {
   "cell_type": "code",
   "execution_count": 8,
   "metadata": {},
   "outputs": [],
   "source": [
    "class Model(nn.Module):\n",
    "    # number of input feature, number of hidden feature, number of output feature\n",
    "    def __init__(self, n_in, nh, n_out):\n",
    "        super().__init__()\n",
    "        #self.fc = (32, 1500*120)\n",
    "        #self.fc = (1500, 120)\n",
    "        # data size = 32, 1500, 120\n",
    "        #set_trace()\n",
    "        self.layers = [nn.Linear(n_in, nh), nn.ReLU(), nn.Linear(nh, n_out)] \n",
    "        print(self.layers)       \n",
    "    def __call__(self, x):\n",
    "        for k in self.layers:\n",
    "            x = k(x)\n",
    "        return x"
   ]
  },
  {
   "cell_type": "code",
   "execution_count": 9,
   "metadata": {},
   "outputs": [],
   "source": [
    "def M_accuracy(yhat, y):\n",
    "    predictions = yhat.detach().numpy()\n",
    "    true_values = y.detach().numpy()\n",
    "    correct = ((predictions >=0.5) == true_values)\n",
    "    return correct.mean().item()\n",
    "\n",
    "    precision=np.array([])\n",
    "    for i in range(len(y)) :\n",
    "        predictions=yhat[i].detach().numpy()\n",
    "        true_values=y[i].detach().numpy()\n",
    "        predictions=np.where(predictions <= 0.5, 0, 1)\n",
    "        correct = (predictions == true_values)\n",
    "        precision=np.append(precision,correct.mean().item())\n",
    "    return np.mean(precision)\n",
    "\n",
    "def M_loss_func(yhat,y):\n",
    "    predictions = yhat\n",
    "    true_values = y\n",
    "    return torch.where(true_values==1, 1-predictions, predictions).mean()\n"
   ]
  },
  {
   "cell_type": "code",
   "execution_count": 10,
   "metadata": {},
   "outputs": [],
   "source": [
    "batch=32\n",
    "lr = 0.03 #.001/3/3/3 \n",
    "nh = 50\n",
    "train = DataLoader(train_dataset, batch_size=batch, shuffle=True)"
   ]
  },
  {
   "cell_type": "code",
   "execution_count": 11,
   "metadata": {},
   "outputs": [],
   "source": [
    "d,l =next(iter(train))\n",
    "c = l.max()\n",
    "k, m=d[1].size()"
   ]
  },
  {
   "cell_type": "code",
   "execution_count": 12,
   "metadata": {},
   "outputs": [
    {
     "name": "stdout",
     "output_type": "stream",
     "text": [
      "[Linear(in_features=120, out_features=50, bias=True), ReLU(), Linear(in_features=50, out_features=88, bias=True)]\n"
     ]
    }
   ],
   "source": [
    "model = Model(m, nh, l.size(dim=2)) #model = Model(120, nh, l.size(dim=2))\n",
    "preds = model(d)"
   ]
  },
  {
   "cell_type": "code",
   "execution_count": 13,
   "metadata": {},
   "outputs": [
    {
     "data": {
      "text/plain": [
       "(tensor(0.1057, grad_fn=<MeanBackward0>), 0.5618892045454545)"
      ]
     },
     "execution_count": 13,
     "metadata": {},
     "output_type": "execute_result"
    }
   ],
   "source": [
    "loss = M_loss_func(preds, l)\n",
    "acc = M_accuracy(preds, l)\n",
    "loss , acc"
   ]
  },
  {
   "cell_type": "markdown",
   "metadata": {},
   "source": [
    "## loop"
   ]
  },
  {
   "cell_type": "code",
   "execution_count": 45,
   "metadata": {},
   "outputs": [],
   "source": [
    "batch = 32\n",
    "train = DataLoader(train_dataset, batch_size=batch, shuffle=True)\n",
    "\n",
    "losses, metrics = [], []\n",
    "epoch = train.__len__()\n",
    "lr=.001/3/3/3 "
   ]
  },
  {
   "cell_type": "code",
   "execution_count": 46,
   "metadata": {},
   "outputs": [],
   "source": [
    "from torch.utils.data import DataLoader\n",
    "train = DataLoader(train_dataset, batch_size=batch, shuffle=True)\n",
    "epoch = train.__len__()"
   ]
  },
  {
   "cell_type": "code",
   "execution_count": 47,
   "metadata": {},
   "outputs": [],
   "source": [
    "def get_epoch(k):\n",
    "    losses, metrics = [], []\n",
    "    print(\"epoch\\t\",\"\\t loss \\tacc\")\n",
    "    for i in range(0,k):\n",
    "        train_epoch()\n",
    "        print(i,\"\\t\",loss,\"\\t\",acc)\n",
    "\n",
    "def train_epoch():\n",
    "    xb,yb =next(iter(train))\n",
    "    yhatb = model(xb)\n",
    "    loss = M_loss_func(yhatb, yb)\n",
    "    acc = M_accuracy(yhatb, yb)\n",
    "    \n",
    "    losses.append(loss); metrics.append(acc)\n",
    "        \n",
    "    # Backpropagation\n",
    "    loss.backward()\n",
    "\n",
    "    # Update Wight and Bias with SGD\n",
    "    with torch.no_grad():\n",
    "        for l in model.layers:\n",
    "            if hasattr(l, 'weight'):\n",
    "                l.weight -= l.weight.grad * lr\n",
    "                l.bias   -= l.bias.grad * lr \n",
    "                l.weight.grad.zero_()\n",
    "                #l.weight.step()\n",
    "                l.bias.grad.zero_()\n",
    "                #l.bias.step()"
   ]
  },
  {
   "cell_type": "code",
   "execution_count": null,
   "metadata": {},
   "outputs": [],
   "source": [
    "get_epoch(epoch)"
   ]
  },
  {
   "cell_type": "code",
   "execution_count": 53,
   "metadata": {},
   "outputs": [
    {
     "name": "stdout",
     "output_type": "stream",
     "text": [
      "batch\tloss\tacc.\n",
      "0 \t tensor(-0.0455, grad_fn=<MeanBackward0>) \t 0.5958065814393939\n",
      "1 \t tensor(-0.0807, grad_fn=<MeanBackward0>) \t 0.6031751893939394\n",
      "2 \t tensor(-0.0843, grad_fn=<MeanBackward0>) \t 0.6004183238636364\n",
      "3 \t tensor(-0.1081, grad_fn=<MeanBackward0>) \t 0.6012478693181819\n",
      "4 \t tensor(-0.1092, grad_fn=<MeanBackward0>) \t 0.6121991003787879\n",
      "5 \t tensor(-0.1230, grad_fn=<MeanBackward0>) \t 0.6165284090909091\n",
      "6 \t tensor(-0.1345, grad_fn=<MeanBackward0>) \t 0.6184595170454545\n",
      "7 \t tensor(-0.1263, grad_fn=<MeanBackward0>) \t 0.6138302556818181\n",
      "8 \t tensor(-0.1484, grad_fn=<MeanBackward0>) \t 0.609977509469697\n",
      "9 \t tensor(-0.1807, grad_fn=<MeanBackward0>) \t 0.6316427556818182\n",
      "10 \t tensor(-0.1743, grad_fn=<MeanBackward0>) \t 0.6336380208333333\n",
      "11 \t tensor(-0.1749, grad_fn=<MeanBackward0>) \t 0.632092803030303\n",
      "12 \t tensor(-0.1962, grad_fn=<MeanBackward0>) \t 0.6330880681818182\n",
      "13 \t tensor(-0.2128, grad_fn=<MeanBackward0>) \t 0.6370549242424243\n",
      "14 \t tensor(-0.2115, grad_fn=<MeanBackward0>) \t 0.6421661931818182\n",
      "15 \t tensor(-0.2343, grad_fn=<MeanBackward0>) \t 0.6444611742424242\n",
      "16 \t tensor(-0.2424, grad_fn=<MeanBackward0>) \t 0.6474161931818182\n",
      "17 \t tensor(-0.2533, grad_fn=<MeanBackward0>) \t 0.6466669034090909\n",
      "18 \t tensor(-0.2655, grad_fn=<MeanBackward0>) \t 0.6577883522727273\n",
      "19 \t tensor(-0.2820, grad_fn=<MeanBackward0>) \t 0.6627133049242424\n",
      "20 \t tensor(-0.3035, grad_fn=<MeanBackward0>) \t 0.6629711174242424\n",
      "21 \t tensor(-0.3135, grad_fn=<MeanBackward0>) \t 0.6691820549242424\n",
      "22 \t tensor(-0.3405, grad_fn=<MeanBackward0>) \t 0.6660622632575758\n",
      "23 \t tensor(-0.3308, grad_fn=<MeanBackward0>) \t 0.6702530776515152\n",
      "24 \t tensor(-0.3443, grad_fn=<MeanBackward0>) \t 0.6721363636363636\n",
      "25 \t tensor(-0.3562, grad_fn=<MeanBackward0>) \t 0.6725371685606061\n",
      "26 \t tensor(-0.3948, grad_fn=<MeanBackward0>) \t 0.6720392992424242\n",
      "27 \t tensor(-0.4046, grad_fn=<MeanBackward0>) \t 0.6759746685606061\n",
      "28 \t tensor(-0.3850, grad_fn=<MeanBackward0>) \t 0.685127840909091\n",
      "29 \t tensor(-0.4033, grad_fn=<MeanBackward0>) \t 0.6829926609848485\n",
      "30 \t tensor(-0.4316, grad_fn=<MeanBackward0>) \t 0.6820726799242425\n",
      "31 \t tensor(-0.4442, grad_fn=<MeanBackward0>) \t 0.6859038825757576\n",
      "32 \t tensor(-0.4935, grad_fn=<MeanBackward0>) \t 0.6821425189393939\n",
      "33 \t tensor(-0.5043, grad_fn=<MeanBackward0>) \t 0.6927159090909091\n",
      "34 \t tensor(-0.4704, grad_fn=<MeanBackward0>) \t 0.6915208333333334\n",
      "35 \t tensor(-0.5493, grad_fn=<MeanBackward0>) \t 0.6896737689393939\n",
      "36 \t tensor(-0.5121, grad_fn=<MeanBackward0>) \t 0.6987286931818182\n",
      "37 \t tensor(-0.5480, grad_fn=<MeanBackward0>) \t 0.6996384943181818\n",
      "38 \t tensor(-0.5210, grad_fn=<MeanBackward0>) \t 0.704009706439394\n",
      "39 \t tensor(-0.5981, grad_fn=<MeanBackward0>) \t 0.7037523674242424\n",
      "40 \t tensor(-0.6054, grad_fn=<MeanBackward0>) \t 0.703801846590909\n",
      "41 \t tensor(-0.5663, grad_fn=<MeanBackward0>) \t 0.7042599431818182\n",
      "42 \t tensor(-0.5995, grad_fn=<MeanBackward0>) \t 0.6993977272727273\n",
      "43 \t tensor(-0.6267, grad_fn=<MeanBackward0>) \t 0.707587831439394\n",
      "44 \t tensor(-0.6481, grad_fn=<MeanBackward0>) \t 0.7034782196969697\n",
      "45 \t tensor(-0.6915, grad_fn=<MeanBackward0>) \t 0.7061950757575758\n",
      "46 \t tensor(-0.6983, grad_fn=<MeanBackward0>) \t 0.7041742424242424\n",
      "47 \t tensor(-0.7148, grad_fn=<MeanBackward0>) \t 0.7077544981060606\n",
      "48 \t tensor(-0.7125, grad_fn=<MeanBackward0>) \t 0.7080643939393939\n",
      "49 \t tensor(-0.7638, grad_fn=<MeanBackward0>) \t 0.7126841856060606\n",
      "50 \t tensor(-0.8058, grad_fn=<MeanBackward0>) \t 0.712567471590909\n",
      "51 \t tensor(-0.7497, grad_fn=<MeanBackward0>) \t 0.7151777935606061\n",
      "52 \t tensor(-0.7548, grad_fn=<MeanBackward0>) \t 0.7180935132575758\n",
      "53 \t tensor(-0.8160, grad_fn=<MeanBackward0>) \t 0.7109585700757576\n",
      "54 \t tensor(-0.7822, grad_fn=<MeanBackward0>) \t 0.7172298768939394\n",
      "55 \t tensor(-0.9255, grad_fn=<MeanBackward0>) \t 0.7171780303030303\n",
      "56 \t tensor(-0.8370, grad_fn=<MeanBackward0>) \t 0.7207684659090909\n"
     ]
    }
   ],
   "source": [
    "print(\"batch\\tloss\\tacc.\")\n",
    "#optimizer=optim.SGD([loss, acc], lr=0.1)\n",
    "\n",
    "for e in range(0,epoch) :\n",
    "    for b in range(0,batch):\n",
    "        # Feedforward\n",
    "        xb,yb =next(iter(train))\n",
    "        yhatb = model(xb)\n",
    "        loss = M_loss_func(yhatb, yb)\n",
    "        # Metrics\n",
    "        acc = M_accuracy(yhatb, yb)\n",
    "        losses.append(loss); metrics.append(acc)\n",
    "        \n",
    "        # Backpropagation\n",
    "        loss.backward()\n",
    "\n",
    "        # Update Wight and Bias with SGD\n",
    "        with torch.no_grad():\n",
    "            for l in model.layers:\n",
    "                if hasattr(l, 'weight'):\n",
    "                    l.weight -= l.weight.grad * lr\n",
    "                    l.bias   -= l.bias.grad * lr \n",
    "                    l.weight.grad.zero_()\n",
    "                    #l.weight.step()\n",
    "                    l.bias.grad.zero_()\n",
    "                    #l.bias.step()\n",
    "    print(e,\"\\t\",loss,\"\\t\",acc)"
   ]
  },
  {
   "cell_type": "code",
   "execution_count": 54,
   "metadata": {},
   "outputs": [],
   "source": [
    "temp_l, temp_acc=[],[]\n",
    "for k in losses :\n",
    "    temp_l.append(k.detach())\n",
    "    #temp_l.append(k)\n",
    "\n",
    "for k in metrics :\n",
    "    #temp_acc.append(k.detach())\n",
    "    temp_acc.append(k)"
   ]
  },
  {
   "cell_type": "code",
   "execution_count": 55,
   "metadata": {},
   "outputs": [
    {
     "data": {
      "text/plain": [
       "1881"
      ]
     },
     "execution_count": 55,
     "metadata": {},
     "output_type": "execute_result"
    }
   ],
   "source": [
    "len(losses)"
   ]
  },
  {
   "cell_type": "code",
   "execution_count": 56,
   "metadata": {},
   "outputs": [
    {
     "data": {
      "text/plain": [
       "<matplotlib.legend.Legend at 0x21f9359e760>"
      ]
     },
     "execution_count": 56,
     "metadata": {},
     "output_type": "execute_result"
    },
    {
     "data": {
      "image/png": "[encoded data removed]",
      "text/plain": [
       "<Figure size 648x648 with 1 Axes>"
      ]
     },
     "metadata": {
      "needs_background": "light"
     },
     "output_type": "display_data"
    }
   ],
   "source": [
    "x = torch.arange(len(losses)).numpy()\n",
    "fig,ax = plt.subplots(figsize=(9, 9))\n",
    "ax.grid(True)\n",
    "ax.plot(x, temp_l, label=\"Loss\")\n",
    "ax.legend(loc='upper right')"
   ]
  },
  {
   "cell_type": "code",
   "execution_count": 57,
   "metadata": {},
   "outputs": [
    {
     "data": {
      "text/plain": [
       "<matplotlib.legend.Legend at 0x21f93adefd0>"
      ]
     },
     "execution_count": 57,
     "metadata": {},
     "output_type": "execute_result"
    },
    {
     "data": {
      "image/png": "[encoded data removed]",
      "text/plain": [
       "<Figure size 648x648 with 1 Axes>"
      ]
     },
     "metadata": {
      "needs_background": "light"
     },
     "output_type": "display_data"
    }
   ],
   "source": [
    "x = torch.arange(len(losses)).numpy()\n",
    "fig,ax = plt.subplots(figsize=(9, 9))\n",
    "ax.grid(True)\n",
    "ax.plot(x, temp_acc, label=\"Accuracy\")\n",
    "ax.legend(loc='upper right')"
   ]
  },
  {
   "cell_type": "code",
   "execution_count": 62,
   "metadata": {},
   "outputs": [
    {
     "data": {
      "text/plain": [
       "(tensor(-0.8370, grad_fn=<MeanBackward0>), 0.7207684659090909)"
      ]
     },
     "execution_count": 62,
     "metadata": {},
     "output_type": "execute_result"
    }
   ],
   "source": [
    "losses[-1], metrics[-1]"
   ]
  },
  {
   "cell_type": "markdown",
   "metadata": {},
   "source": [
    "## lookup"
   ]
  },
  {
   "cell_type": "code",
   "execution_count": 44,
   "metadata": {},
   "outputs": [
    {
     "data": {
      "text/plain": [
       "<matplotlib.image.AxesImage at 0x1fbdf9e0f10>"
      ]
     },
     "execution_count": 44,
     "metadata": {},
     "output_type": "execute_result"
    },
    {
     "data": {
      "image/png": "[encoded data removed]",
      "text/plain": [
       "<Figure size 432x288 with 1 Axes>"
      ]
     },
     "metadata": {
      "needs_background": "light"
     },
     "output_type": "display_data"
    }
   ],
   "source": [
    "import matplotlib.pyplot as plt\n",
    "plt.imshow(d[10], cmap=plt.cm.binary)"
   ]
  },
  {
   "cell_type": "code",
   "execution_count": 45,
   "metadata": {},
   "outputs": [
    {
     "name": "stdout",
     "output_type": "stream",
     "text": [
      "tensor([[0., 0., 0.,  ..., 0., 0., 0.],\n",
      "        [0., 0., 0.,  ..., 0., 0., 0.],\n",
      "        [0., 0., 0.,  ..., 0., 0., 0.],\n",
      "        ...,\n",
      "        [0., 0., 0.,  ..., 0., 0., 0.],\n",
      "        [0., 0., 0.,  ..., 0., 0., 0.],\n",
      "        [0., 0., 0.,  ..., 0., 0., 0.]])\n"
     ]
    }
   ],
   "source": [
    "print(l[10])"
   ]
  }
 ],
 "metadata": {
  "interpreter": {
   "hash": "c9bf447bc3f95dcfbc19cb1a84d6b160112105653e59c16eb73ab72854d9f644"
  },
  "kernelspec": {
   "display_name": "Python 3.8.3 ('base')",
   "language": "python",
   "name": "python3"
  },
  "language_info": {
   "codemirror_mode": {
    "name": "ipython",
    "version": 3
   },
   "file_extension": ".py",
   "mimetype": "text/x-python",
   "name": "python",
   "nbconvert_exporter": "python",
   "pygments_lexer": "ipython3",
   "version": "3.8.3"
  },
  "orig_nbformat": 4
 },
 "nbformat": 4,
 "nbformat_minor": 2
}
