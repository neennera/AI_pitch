{
 "cells": [
  {
   "cell_type": "code",
   "execution_count": 1,
   "metadata": {},
   "outputs": [],
   "source": [
    "import os,sys, operator\n",
    "import shutil, gzip, math\n",
    "import pickle\n",
    "import numpy as np                                       # fast vectors and matrices\n",
    "from glob import glob\n",
    "from time import time\n",
    "import matplotlib.pyplot as plt\n",
    "\n",
    "import tensorflow as tf\n",
    "\n",
    "import torch\n",
    "from torch.utils.data import Dataset\n",
    "from torchvision import datasets\n",
    "from torchvision.transforms import ToTensor\n",
    "from torch.utils.data import DataLoader\n",
    "from torch import optim\n",
    "from torch import tensor\n",
    "from torch import nn\n",
    "import torch.nn.functional as F\n",
    "\n",
    "from pathlib import Path\n",
    "from IPython.core.debugger import set_trace\n",
    "from collections import Counter\n",
    "\n",
    "%matplotlib inline"
   ]
  },
  {
   "cell_type": "markdown",
   "metadata": {},
   "source": [
    "## Data Loader"
   ]
  },
  {
   "cell_type": "code",
   "execution_count": 2,
   "metadata": {},
   "outputs": [],
   "source": [
    "train_feat_path=\"processed_dataset\\\\train\\\\feat\\\\\"\n",
    "train_label_path=\"processed_dataset\\\\train\\\\label\\\\\"\n",
    "test_feat_path=\"processed_dataset\\\\test\\\\feat\\\\\"\n",
    "test_label_path=\"processed_dataset\\\\test\\\\label\\\\\"\n",
    "\n",
    "train_name=os.listdir(train_feat_path)\n",
    "test_name=os.listdir(test_feat_path)"
   ]
  },
  {
   "cell_type": "code",
   "execution_count": 3,
   "metadata": {},
   "outputs": [],
   "source": [
    "class CustomTrainDataset(Dataset):\n",
    "    def __init__(self, feat_path=train_feat_path , label_path=train_label_path , transform=None, target_transform=None):\n",
    "        self.img_labels = os.listdir(train_feat_path)\n",
    "        self.feat_path = feat_path \n",
    "        self.label_path = label_path\n",
    "        self.transform = transform\n",
    "        self.target_transform = target_transform\n",
    "\n",
    "    def __len__(self):\n",
    "        return len(self.img_labels)\n",
    "\n",
    "    def __getitem__(self, idx):\n",
    "        data = (torch.from_numpy(np.load(self.feat_path +self.img_labels[idx])))\n",
    "        label = (torch.from_numpy(np.load(self.label_path +self.img_labels[idx])))\n",
    "        if self.transform:\n",
    "            data = self.transform(data)\n",
    "        if self.target_transform:\n",
    "            label = self.target_transform(label)\n",
    "        return data, label\n",
    "\n",
    "class CustomTestDataset(Dataset):\n",
    "    def __init__(self, feat_path=test_feat_path , label_path=test_label_path , transform=None, target_transform=None):\n",
    "        self.img_labels = os.listdir(train_feat_path)\n",
    "        self.feat_path = feat_path \n",
    "        self.label_path = label_path\n",
    "        self.transform = transform\n",
    "        self.target_transform = target_transform\n",
    "\n",
    "    def __len__(self):\n",
    "        return len(self.img_labels)\n",
    "\n",
    "    def __getitem__(self, idx):\n",
    "        data = (torch.from_numpy(np.load(self.feat_path +self.img_labels[idx])))\n",
    "        label = (torch.from_numpy(np.load(self.label_path +self.img_labels[idx])))\n",
    "        print(self.feat_path +self.img_labels[idx])\n",
    "        return data, label\n",
    "    \n",
    "    def demo() :\n",
    "        for indices in train :\n",
    "            yield collate_fn(train_dataset[i] for i in indices)\n"
   ]
  },
  {
   "cell_type": "code",
   "execution_count": 4,
   "metadata": {},
   "outputs": [],
   "source": [
    "train_dataset=CustomTrainDataset()\n",
    "test_dataset=CustomTrainDataset()"
   ]
  },
  {
   "cell_type": "markdown",
   "metadata": {},
   "source": [
    "## model"
   ]
  },
  {
   "cell_type": "code",
   "execution_count": 5,
   "metadata": {},
   "outputs": [],
   "source": [
    "def normalize(x, m, s): \n",
    "    return (x-m)/s"
   ]
  },
  {
   "cell_type": "code",
   "execution_count": 6,
   "metadata": {},
   "outputs": [],
   "source": [
    "class Model(nn.Module):\n",
    "    # number of input feature, number of hidden feature, number of output feature\n",
    "    def __init__(self, n_in, nh, n_out):\n",
    "        super().__init__()\n",
    "        #self.fc = (32, 1500*120)\n",
    "        #self.fc = (1500, 120)\n",
    "        # data size = 32, 1500, 120\n",
    "        #set_trace()\n",
    "        self.layers = [nn.Linear(n_in, nh), nn.ReLU(), nn.Linear(nh, n_out)] \n",
    "        print(self.layers)       \n",
    "    def __call__(self, x):\n",
    "        for k in self.layers:\n",
    "            x = k(x)\n",
    "        return x"
   ]
  },
  {
   "cell_type": "code",
   "execution_count": 7,
   "metadata": {},
   "outputs": [],
   "source": [
    "def M_accuracy(yhat, y):\n",
    "    predictions = yhat.detach().numpy()\n",
    "    true_values = y.detach().numpy()\n",
    "    correct = ((predictions >=0.5) == true_values)\n",
    "    return correct.mean().item()\n",
    "\n",
    "    precision=np.array([])\n",
    "    for i in range(len(y)) :\n",
    "        predictions=yhat[i].detach().numpy()\n",
    "        true_values=y[i].detach().numpy()\n",
    "        predictions=np.where(predictions <= 0.5, 0, 1)\n",
    "        correct = (predictions == true_values)\n",
    "        precision=np.append(precision,correct.mean().item())\n",
    "    return np.mean(precision)\n",
    "\n",
    "def M_loss_func(yhat,y):\n",
    "    predictions = yhat\n",
    "    true_values = y\n",
    "    return torch.where(true_values==1, 1-predictions, predictions).mean()\n"
   ]
  },
  {
   "cell_type": "markdown",
   "metadata": {},
   "source": [
    "learing rate : .001/3/3/3  -> (tensor(-0.8370, grad_fn=<MeanBackward0>), 0.7207684659090909)"
   ]
  },
  {
   "cell_type": "code",
   "execution_count": 8,
   "metadata": {},
   "outputs": [],
   "source": [
    "batch=32\n",
    "lr = 0.2#.001/3/3/3 \n",
    "nh = 50\n",
    "train = DataLoader(train_dataset, batch_size=batch, shuffle=True)"
   ]
  },
  {
   "cell_type": "code",
   "execution_count": 9,
   "metadata": {},
   "outputs": [],
   "source": [
    "d,l =next(iter(train))\n",
    "c = l.max()\n",
    "k, m=d[1].size()"
   ]
  },
  {
   "cell_type": "code",
   "execution_count": 10,
   "metadata": {},
   "outputs": [
    {
     "name": "stdout",
     "output_type": "stream",
     "text": [
      "[Linear(in_features=120, out_features=50, bias=True), ReLU(), Linear(in_features=50, out_features=88, bias=True)]\n"
     ]
    }
   ],
   "source": [
    "model = Model(m, nh, l.size(dim=2)) #model = Model(120, nh, l.size(dim=2))\n",
    "preds = model(d)"
   ]
  },
  {
   "cell_type": "code",
   "execution_count": 13,
   "metadata": {},
   "outputs": [
    {
     "data": {
      "text/plain": [
       "(tensor(0.1057, grad_fn=<MeanBackward0>), 0.5618892045454545)"
      ]
     },
     "execution_count": 13,
     "metadata": {},
     "output_type": "execute_result"
    }
   ],
   "source": [
    "loss = M_loss_func(preds, l)\n",
    "acc = M_accuracy(preds, l)\n",
    "loss , acc"
   ]
  },
  {
   "cell_type": "markdown",
   "metadata": {},
   "source": [
    "## loop"
   ]
  },
  {
   "cell_type": "code",
   "execution_count": 11,
   "metadata": {},
   "outputs": [],
   "source": [
    "batch = 32\n",
    "train = DataLoader(train_dataset, batch_size=batch, shuffle=True)\n",
    "\n",
    "losses, metrics = [], []\n",
    "epoch = train.__len__()\n",
    "lr=.001"
   ]
  },
  {
   "cell_type": "code",
   "execution_count": 12,
   "metadata": {},
   "outputs": [],
   "source": [
    "from torch.utils.data import DataLoader\n",
    "train = DataLoader(train_dataset, batch_size=batch, shuffle=True)\n",
    "epoch = train.__len__()"
   ]
  },
  {
   "cell_type": "code",
   "execution_count": 13,
   "metadata": {},
   "outputs": [],
   "source": [
    "def get_epoch(k):\n",
    "    losses, metrics = [], []\n",
    "    print(\"epoch\\t\",\"\\t loss \\tacc\")\n",
    "    for i in range(0,k):\n",
    "        train_epoch()\n",
    "        print(i,\"\\t\",loss,\"\\t\",acc)\n",
    "\n",
    "def train_epoch():\n",
    "    xb,yb =next(iter(train))\n",
    "    yhatb = model(xb)\n",
    "    loss = M_loss_func(yhatb, yb)\n",
    "    acc = M_accuracy(yhatb, yb)\n",
    "    \n",
    "    losses.append(loss); metrics.append(acc)\n",
    "        \n",
    "    # Backpropagation\n",
    "    loss.backward()\n",
    "\n",
    "    # Update Wight and Bias with SGD\n",
    "    with torch.no_grad():\n",
    "        for l in model.layers:\n",
    "            if hasattr(l, 'weight'):\n",
    "                l.weight -= l.weight.grad * lr\n",
    "                l.bias   -= l.bias.grad * lr \n",
    "                l.weight.grad.zero_()\n",
    "                #l.weight.step()\n",
    "                l.bias.grad.zero_()\n",
    "                #l.bias.step()"
   ]
  },
  {
   "cell_type": "code",
   "execution_count": null,
   "metadata": {},
   "outputs": [],
   "source": [
    "get_epoch(epoch)"
   ]
  },
  {
   "cell_type": "code",
   "execution_count": 14,
   "metadata": {},
   "outputs": [
    {
     "name": "stdout",
     "output_type": "stream",
     "text": [
      "batch\tloss\tacc.\n",
      "0 \t tensor(-0.6037, grad_fn=<MeanBackward0>) \t 0.732216856060606\n",
      "1 \t tensor(-1.3154, grad_fn=<MeanBackward0>) \t 0.7674190340909091\n",
      "2 \t tensor(-2.1997, grad_fn=<MeanBackward0>) \t 0.817290009469697\n",
      "3 \t tensor(-3.8776, grad_fn=<MeanBackward0>) \t 0.8535828598484848\n",
      "4 \t tensor(-6.1445, grad_fn=<MeanBackward0>) \t 0.8882563920454546\n",
      "5 \t tensor(-10.0363, grad_fn=<MeanBackward0>) \t 0.9103080018939393\n",
      "6 \t tensor(-16.6251, grad_fn=<MeanBackward0>) \t 0.9562485795454545\n",
      "7 \t tensor(-26.8980, grad_fn=<MeanBackward0>) \t 0.9641126893939393\n",
      "8 \t tensor(-44.1784, grad_fn=<MeanBackward0>) \t 0.9641107954545455\n",
      "9 \t tensor(-66.0680, grad_fn=<MeanBackward0>) \t 0.9661910511363636\n",
      "10 \t tensor(-117.6178, grad_fn=<MeanBackward0>) \t 0.9653967803030303\n",
      "11 \t tensor(-179.2612, grad_fn=<MeanBackward0>) \t 0.9649822443181818\n",
      "12 \t tensor(-283.4868, grad_fn=<MeanBackward0>) \t 0.9646077178030303\n",
      "13 \t tensor(-472.3953, grad_fn=<MeanBackward0>) \t 0.9645340909090909\n",
      "14 \t tensor(-761.5257, grad_fn=<MeanBackward0>) \t 0.9682161458333334\n",
      "15 \t tensor(-1186.1348, grad_fn=<MeanBackward0>) \t 0.9681257102272727\n",
      "16 \t tensor(-1946.7896, grad_fn=<MeanBackward0>) \t 0.9654580965909091\n",
      "17 \t tensor(-2897.2002, grad_fn=<MeanBackward0>) \t 0.9627990056818182\n",
      "18 \t tensor(-5397.1411, grad_fn=<MeanBackward0>) \t 0.9663061079545454\n",
      "19 \t tensor(-8778.1504, grad_fn=<MeanBackward0>) \t 0.9689005681818181\n",
      "20 \t tensor(-13161.9316, grad_fn=<MeanBackward0>) \t 0.9650445075757575\n",
      "21 \t tensor(-19900.2480, grad_fn=<MeanBackward0>) \t 0.9675021306818182\n",
      "22 \t tensor(-32819.1758, grad_fn=<MeanBackward0>) \t 0.9673226799242425\n",
      "23 \t tensor(-54804.2734, grad_fn=<MeanBackward0>) \t 0.968383759469697\n",
      "24 \t tensor(-89428.1641, grad_fn=<MeanBackward0>) \t 0.9656100852272728\n",
      "25 \t tensor(-154092.9375, grad_fn=<MeanBackward0>) \t 0.9658589015151515\n",
      "26 \t tensor(-222625.2344, grad_fn=<MeanBackward0>) \t 0.9639668560606061\n",
      "27 \t tensor(-359539.8750, grad_fn=<MeanBackward0>) \t 0.965756865530303\n",
      "28 \t tensor(-609746.9375, grad_fn=<MeanBackward0>) \t 0.9660179924242425\n",
      "29 \t tensor(-894713., grad_fn=<MeanBackward0>) \t 0.9680655776515151\n",
      "30 \t tensor(-1564230.8750, grad_fn=<MeanBackward0>) \t 0.9670741003787878\n",
      "31 \t tensor(-2431109.5000, grad_fn=<MeanBackward0>) \t 0.9683866003787879\n",
      "32 \t tensor(-3876634.2500, grad_fn=<MeanBackward0>) \t 0.9628491950757576\n",
      "33 \t tensor(-6175466., grad_fn=<MeanBackward0>) \t 0.9677554450757576\n",
      "34 \t tensor(-9902237., grad_fn=<MeanBackward0>) \t 0.9660362215909091\n",
      "35 \t tensor(-15713794., grad_fn=<MeanBackward0>) \t 0.9647478693181818\n",
      "36 \t tensor(-26327186., grad_fn=<MeanBackward0>) \t 0.9637952178030303\n",
      "37 \t tensor(-41547696., grad_fn=<MeanBackward0>) \t 0.9657618371212121\n",
      "38 \t tensor(-69088304., grad_fn=<MeanBackward0>) \t 0.9665608428030303\n",
      "39 \t tensor(-1.0694e+08, grad_fn=<MeanBackward0>) \t 0.9652419507575758\n",
      "40 \t tensor(-1.7018e+08, grad_fn=<MeanBackward0>) \t 0.9673875473484849\n",
      "41 \t tensor(-2.9564e+08, grad_fn=<MeanBackward0>) \t 0.9665710227272727\n",
      "42 \t tensor(-4.6016e+08, grad_fn=<MeanBackward0>) \t 0.9619303977272727\n",
      "43 \t tensor(-7.2586e+08, grad_fn=<MeanBackward0>) \t 0.9647052556818182\n",
      "44 \t tensor(-1.1531e+09, grad_fn=<MeanBackward0>) \t 0.9626839488636364\n",
      "45 \t tensor(-1.8489e+09, grad_fn=<MeanBackward0>) \t 0.9637033617424242\n",
      "46 \t tensor(-3.1347e+09, grad_fn=<MeanBackward0>) \t 0.9655563446969697\n",
      "47 \t tensor(-4.8956e+09, grad_fn=<MeanBackward0>) \t 0.9652990056818181\n",
      "48 \t tensor(-8.0062e+09, grad_fn=<MeanBackward0>) \t 0.9634005681818182\n",
      "49 \t tensor(-1.2857e+10, grad_fn=<MeanBackward0>) \t 0.9641015625\n",
      "50 \t tensor(-2.0268e+10, grad_fn=<MeanBackward0>) \t 0.9634758522727273\n",
      "51 \t tensor(-3.5582e+10, grad_fn=<MeanBackward0>) \t 0.9661363636363637\n",
      "52 \t tensor(-5.4951e+10, grad_fn=<MeanBackward0>) \t 0.9672935606060606\n",
      "53 \t tensor(-9.0662e+10, grad_fn=<MeanBackward0>) \t 0.9653982007575758\n",
      "54 \t tensor(-1.3748e+11, grad_fn=<MeanBackward0>) \t 0.9662258522727273\n",
      "55 \t tensor(-2.2158e+11, grad_fn=<MeanBackward0>) \t 0.9635272253787879\n",
      "56 \t tensor(-3.5043e+11, grad_fn=<MeanBackward0>) \t 0.9661811079545455\n"
     ]
    }
   ],
   "source": [
    "print(\"batch\\tloss\\tacc.\")\n",
    "#optimizer=optim.SGD([loss, acc], lr=0.1)\n",
    "\n",
    "for e in range(0,epoch) :\n",
    "    for b in range(0,batch):\n",
    "        # Feedforward\n",
    "        xb,yb =next(iter(train))\n",
    "        yhatb = model(xb)\n",
    "        loss = M_loss_func(yhatb, yb)\n",
    "        # Metrics\n",
    "        acc = M_accuracy(yhatb, yb)\n",
    "        losses.append(loss); metrics.append(acc)\n",
    "        \n",
    "        # Backpropagation\n",
    "        loss.backward()\n",
    "\n",
    "        # Update Wight and Bias with SGD\n",
    "        with torch.no_grad():\n",
    "            for l in model.layers:\n",
    "                if hasattr(l, 'weight'):\n",
    "                    l.weight -= l.weight.grad * lr\n",
    "                    l.bias   -= l.bias.grad * lr \n",
    "                    l.weight.grad.zero_()\n",
    "                    #l.weight.step()\n",
    "                    l.bias.grad.zero_()\n",
    "                    #l.bias.step()\n",
    "    print(e,\"\\t\",loss,\"\\t\",acc)"
   ]
  },
  {
   "cell_type": "code",
   "execution_count": 15,
   "metadata": {},
   "outputs": [],
   "source": [
    "temp_l, temp_acc=[],[]\n",
    "for k in losses :\n",
    "    temp_l.append(k.detach())\n",
    "    #temp_l.append(k)\n",
    "\n",
    "for k in metrics :\n",
    "    #temp_acc.append(k.detach())\n",
    "    temp_acc.append(k)"
   ]
  },
  {
   "cell_type": "code",
   "execution_count": 16,
   "metadata": {},
   "outputs": [
    {
     "data": {
      "text/plain": [
       "1824"
      ]
     },
     "execution_count": 16,
     "metadata": {},
     "output_type": "execute_result"
    }
   ],
   "source": [
    "len(losses)"
   ]
  },
  {
   "cell_type": "code",
   "execution_count": 17,
   "metadata": {},
   "outputs": [
    {
     "data": {
      "text/plain": [
       "<matplotlib.legend.Legend at 0x2c9256a8160>"
      ]
     },
     "execution_count": 17,
     "metadata": {},
     "output_type": "execute_result"
    },
    {
     "data": {
      "image/png": "[encoded data removed]",
      "text/plain": [
       "<Figure size 648x648 with 1 Axes>"
      ]
     },
     "metadata": {
      "needs_background": "light"
     },
     "output_type": "display_data"
    }
   ],
   "source": [
    "x = torch.arange(len(losses)).numpy()\n",
    "fig,ax = plt.subplots(figsize=(9, 9))\n",
    "ax.grid(True)\n",
    "ax.plot(x, temp_l, label=\"Loss\")\n",
    "ax.legend(loc='upper right')"
   ]
  },
  {
   "cell_type": "code",
   "execution_count": 18,
   "metadata": {},
   "outputs": [
    {
     "data": {
      "text/plain": [
       "<matplotlib.legend.Legend at 0x2c923e59c70>"
      ]
     },
     "execution_count": 18,
     "metadata": {},
     "output_type": "execute_result"
    },
    {
     "data": {
      "image/png": "[encoded data removed]",
      "text/plain": [
       "<Figure size 648x648 with 1 Axes>"
      ]
     },
     "metadata": {
      "needs_background": "light"
     },
     "output_type": "display_data"
    }
   ],
   "source": [
    "x = torch.arange(len(losses)).numpy()\n",
    "fig,ax = plt.subplots(figsize=(9, 9))\n",
    "ax.grid(True)\n",
    "ax.plot(x, temp_acc, label=\"Accuracy\")\n",
    "ax.legend(loc='upper right')"
   ]
  },
  {
   "cell_type": "code",
   "execution_count": 19,
   "metadata": {},
   "outputs": [
    {
     "data": {
      "text/plain": [
       "(tensor(-3.5043e+11, grad_fn=<MeanBackward0>), 0.9661811079545455)"
      ]
     },
     "execution_count": 19,
     "metadata": {},
     "output_type": "execute_result"
    }
   ],
   "source": [
    "losses[-1], metrics[-1]"
   ]
  }
 ],
 "metadata": {
  "interpreter": {
   "hash": "c9bf447bc3f95dcfbc19cb1a84d6b160112105653e59c16eb73ab72854d9f644"
  },
  "kernelspec": {
   "display_name": "Python 3.8.3 ('base')",
   "language": "python",
   "name": "python3"
  },
  "language_info": {
   "codemirror_mode": {
    "name": "ipython",
    "version": 3
   },
   "file_extension": ".py",
   "mimetype": "text/x-python",
   "name": "python",
   "nbconvert_exporter": "python",
   "pygments_lexer": "ipython3",
   "version": "3.8.3"
  },
  "orig_nbformat": 4
 },
 "nbformat": 4,
 "nbformat_minor": 2
}
