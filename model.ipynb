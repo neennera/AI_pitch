{
 "cells": [
  {
   "cell_type": "code",
   "execution_count": 1,
   "metadata": {},
   "outputs": [],
   "source": [
    "import os,sys\n",
    "import pickle\n",
    "import numpy as np                                       # fast vectors and matrices\n",
    "from glob import glob\n",
    "from time import time\n",
    "import tensorflow as tf\n",
    "from torch.utils.data import Dataset\n",
    "from torchvision import datasets\n",
    "from torchvision.transforms import ToTensor\n",
    "import matplotlib.pyplot as plt\n",
    "import shutil\n",
    "from torch.utils.data import DataLoader\n",
    "from torch import optim\n",
    "\n",
    "import matplotlib.pyplot as plt                          # plotting\n",
    "'''\n",
    "from scipy.fftpack import fft\n",
    "from sklearn.metrics import average_precision_score\n",
    "'''\n",
    "%matplotlib inline"
   ]
  },
  {
   "cell_type": "code",
   "execution_count": 2,
   "metadata": {},
   "outputs": [
    {
     "name": "stdout",
     "output_type": "stream",
     "text": [
      "WARNING:tensorflow:From c:\\Users\\WINDOW X\\anaconda3\\lib\\site-packages\\tensorflow\\python\\compat\\v2_compat.py:111: disable_resource_variables (from tensorflow.python.ops.variable_scope) is deprecated and will be removed in a future version.\n",
      "Instructions for updating:\n",
      "non-resource variables are not supported in the long term\n"
     ]
    }
   ],
   "source": [
    "sys.path.insert(0,'library\\\\')\n",
    "import config\n",
    "import diagnostics\n",
    "import base_model   "
   ]
  },
  {
   "cell_type": "markdown",
   "metadata": {},
   "source": [
    "## Data Loader"
   ]
  },
  {
   "cell_type": "code",
   "execution_count": 2,
   "metadata": {},
   "outputs": [],
   "source": [
    "train_feat_path=\"processed_dataset\\\\train\\\\feat\\\\\"\n",
    "train_label_path=\"processed_dataset\\\\train\\\\label\\\\\"\n",
    "test_feat_path=\"processed_dataset\\\\test\\\\feat\\\\\"\n",
    "test_label_path=\"processed_dataset\\\\test\\\\label\\\\\"\n",
    "\n",
    "train_name=os.listdir(train_feat_path)\n",
    "test_name=os.listdir(test_feat_path)"
   ]
  },
  {
   "cell_type": "code",
   "execution_count": 3,
   "metadata": {},
   "outputs": [],
   "source": [
    "class CustomTrainDataset(Dataset):\n",
    "    def __init__(self, feat_path=train_feat_path , label_path=train_label_path , transform=None, target_transform=None):\n",
    "        self.img_labels = os.listdir(train_feat_path)\n",
    "        self.feat_path = feat_path \n",
    "        self.label_path = label_path\n",
    "        self.transform = transform\n",
    "        self.target_transform = target_transform\n",
    "\n",
    "    def __len__(self):\n",
    "        return len(self.img_labels)\n",
    "\n",
    "    def __getitem__(self, idx):\n",
    "        data = (torch.from_numpy(np.load(self.feat_path +self.img_labels[idx])))\n",
    "        label = (torch.from_numpy(np.load(self.label_path +self.img_labels[idx])))\n",
    "        if self.transform:\n",
    "            data = self.transform(data)\n",
    "        if self.target_transform:\n",
    "            label = self.target_transform(label)\n",
    "        return data, label\n",
    "\n",
    "class CustomTestDataset(Dataset):\n",
    "    def __init__(self, feat_path=test_feat_path , label_path=test_label_path , transform=None, target_transform=None):\n",
    "        self.img_labels = os.listdir(train_feat_path)\n",
    "        self.feat_path = feat_path \n",
    "        self.label_path = label_path\n",
    "        self.transform = transform\n",
    "        self.target_transform = target_transform\n",
    "\n",
    "    def __len__(self):\n",
    "        return len(self.img_labels)\n",
    "\n",
    "    def __getitem__(self, idx):\n",
    "        data = (torch.from_numpy(np.load(self.feat_path +self.img_labels[idx])))\n",
    "        label = (torch.from_numpy(np.load(self.label_path +self.img_labels[idx])))\n",
    "        print(self.feat_path +self.img_labels[idx])\n",
    "        return data, label\n",
    "    \n",
    "    def demo() :\n",
    "        for indices in train :\n",
    "            yield collate_fn(train_dataset[i] for i in indices)\n"
   ]
  },
  {
   "cell_type": "code",
   "execution_count": 4,
   "metadata": {},
   "outputs": [],
   "source": [
    "train_dataset=CustomTrainDataset()\n",
    "test_dataset=CustomTrainDataset()"
   ]
  },
  {
   "cell_type": "code",
   "execution_count": 5,
   "metadata": {},
   "outputs": [],
   "source": [
    "from torch.utils.data import DataLoader\n",
    "\n",
    "train = DataLoader(train_dataset, batch_size=32, shuffle=True)\n",
    "test = DataLoader(train_dataset, batch_size=32, shuffle=True)"
   ]
  },
  {
   "cell_type": "markdown",
   "metadata": {},
   "source": [
    "## model"
   ]
  },
  {
   "cell_type": "code",
   "execution_count": 6,
   "metadata": {},
   "outputs": [],
   "source": [
    "import torch\n",
    "from torch import tensor\n",
    "from torch import nn\n",
    "import torch.nn.functional as F\n",
    "import matplotlib.pyplot as plt\n",
    "\n",
    "from pathlib import Path\n",
    "from IPython.core.debugger import set_trace\n",
    "#from fastai import datasets\n",
    "import pickle, gzip, math, torch\n",
    "import operator"
   ]
  },
  {
   "cell_type": "code",
   "execution_count": 12,
   "metadata": {},
   "outputs": [],
   "source": [
    "def normalize(x, m, s): \n",
    "    return (x-m)/s"
   ]
  },
  {
   "cell_type": "code",
   "execution_count": 14,
   "metadata": {},
   "outputs": [],
   "source": [
    "class Model(nn.Module):\n",
    "    # number of input feature, number of hidden feature, number of output feature\n",
    "    def __init__(self, n_in, nh, n_out):\n",
    "        super().__init__()\n",
    "        #self.fc = (32, 1500*120)\n",
    "        #self.fc = (1500, 120)\n",
    "        # data size = 32, 1500, 120\n",
    "        #set_trace()\n",
    "        self.layers = [nn.Linear(n_in, nh), nn.ReLU(), nn.Linear(nh, n_out)] \n",
    "        print(self.layers)       \n",
    "    def __call__(self, x):\n",
    "        for k in self.layers:\n",
    "            x = k(x)\n",
    "        return x"
   ]
  },
  {
   "cell_type": "code",
   "execution_count": 68,
   "metadata": {},
   "outputs": [
    {
     "data": {
      "text/plain": [
       "1.860667858272791"
      ]
     },
     "execution_count": 68,
     "metadata": {},
     "output_type": "execute_result"
    }
   ],
   "source": [
    "# loss function\n",
    "loss_func = F.cross_entropy\n",
    "'''\n",
    "def accuracy(yhat, y):\n",
    "    return (torch.argmax(yhat, dim=-1) == torch.argmax(y, dim=-1)).float().mean()\n",
    "'''\n",
    "#usinh mean sqrt error\n",
    "def accuracy(yhat, y):\n",
    "    precision=np.array([])\n",
    "    for i in range(len(y)) :\n",
    "        predictions=yhat[i].detach().numpy()\n",
    "        true_values=y[i].detach().numpy()\n",
    "        sq=np.sqrt(((predictions-true_values)**2).mean())\n",
    "        precision=np.append(precision,sq)\n",
    "        '''\n",
    "        #N = true_values.shape[1]\n",
    "        accuracy = (true_values == predictions).sum() / N\n",
    "        TP = ((predictions == 1) & (true_values == 1)).sum()\n",
    "        FP = ((predictions == 1) & (true_values == 0)).sum()\n",
    "        np.append(precision,TP/(TP+FP))\n",
    "        '''\n",
    "        #print(TP/(TP+FP))\n",
    "    return np.mean(precision)\n"
   ]
  },
  {
   "cell_type": "code",
   "execution_count": 105,
   "metadata": {},
   "outputs": [],
   "source": [
    "from collections import Counter"
   ]
  },
  {
   "cell_type": "code",
   "execution_count": 124,
   "metadata": {},
   "outputs": [
    {
     "data": {
      "text/plain": [
       "0.6214973958333333"
      ]
     },
     "execution_count": 124,
     "metadata": {},
     "output_type": "execute_result"
    }
   ],
   "source": [
    "def M_accuracy(yhat, y):\n",
    "    precision=np.array([])\n",
    "    for i in range(len(y)) :\n",
    "        predictions=yhat[i].detach().numpy()\n",
    "        true_values=y[i].detach().numpy()\n",
    "        predictions=np.where(predictions <= 0.5, 0, 1)\n",
    "        correct = (predictions == true_values)\n",
    "        precision=np.append(precision,correct.mean().item())\n",
    "    return np.mean(precision)\n",
    "\n",
    "def M_loss_func():\n",
    "    return \n",
    "\n",
    "acc = M_accuracy(preds, l)\n",
    "acc"
   ]
  },
  {
   "cell_type": "code",
   "execution_count": 109,
   "metadata": {},
   "outputs": [
    {
     "ename": "AttributeError",
     "evalue": "'numpy.ndarray' object has no attribute 'int'",
     "output_type": "error",
     "traceback": [
      "\u001b[1;31m---------------------------------------------------------------------------\u001b[0m",
      "\u001b[1;31mAttributeError\u001b[0m                            Traceback (most recent call last)",
      "\u001b[1;32m<ipython-input-109-f78400b96cb0>\u001b[0m in \u001b[0;36m<module>\u001b[1;34m\u001b[0m\n\u001b[1;32m----> 1\u001b[1;33m \u001b[0macc\u001b[0m \u001b[1;33m=\u001b[0m \u001b[0mM_accuracy\u001b[0m\u001b[1;33m(\u001b[0m\u001b[0mpreds\u001b[0m\u001b[1;33m,\u001b[0m \u001b[0ml\u001b[0m\u001b[1;33m)\u001b[0m\u001b[1;33m\u001b[0m\u001b[1;33m\u001b[0m\u001b[0m\n\u001b[0m\u001b[0;32m      2\u001b[0m \u001b[0macc\u001b[0m\u001b[1;33m\u001b[0m\u001b[1;33m\u001b[0m\u001b[0m\n",
      "\u001b[1;32m<ipython-input-108-8dbae4f44375>\u001b[0m in \u001b[0;36mM_accuracy\u001b[1;34m(yhat, y)\u001b[0m\n\u001b[0;32m      7\u001b[0m         \u001b[0mcorrect\u001b[0m \u001b[1;33m=\u001b[0m \u001b[0mpredictions\u001b[0m \u001b[1;33m==\u001b[0m \u001b[0mtrue_values\u001b[0m\u001b[1;33m\u001b[0m\u001b[1;33m\u001b[0m\u001b[0m\n\u001b[0;32m      8\u001b[0m         \u001b[0mtype\u001b[0m\u001b[1;33m(\u001b[0m\u001b[0mcorrect\u001b[0m\u001b[1;33m)\u001b[0m\u001b[1;33m\u001b[0m\u001b[1;33m\u001b[0m\u001b[0m\n\u001b[1;32m----> 9\u001b[1;33m         \u001b[0mprint\u001b[0m\u001b[1;33m(\u001b[0m\u001b[0mCounter\u001b[0m\u001b[1;33m(\u001b[0m\u001b[1;33m(\u001b[0m\u001b[0mcorrect\u001b[0m\u001b[1;33m>\u001b[0m\u001b[1;36m0.0\u001b[0m\u001b[1;33m)\u001b[0m\u001b[1;33m.\u001b[0m\u001b[0mint\u001b[0m\u001b[1;33m(\u001b[0m\u001b[1;33m)\u001b[0m\u001b[1;33m.\u001b[0m\u001b[0mnumpy\u001b[0m\u001b[1;33m(\u001b[0m\u001b[1;33m)\u001b[0m\u001b[1;33m[\u001b[0m\u001b[1;33m:\u001b[0m\u001b[1;33m,\u001b[0m\u001b[1;36m0\u001b[0m\u001b[1;33m]\u001b[0m\u001b[1;33m)\u001b[0m\u001b[1;33m)\u001b[0m\u001b[1;33m\u001b[0m\u001b[1;33m\u001b[0m\u001b[0m\n\u001b[0m\u001b[0;32m     10\u001b[0m         \u001b[1;31m#sq=np.sqrt(((predictions-true_values)**2).mean())\u001b[0m\u001b[1;33m\u001b[0m\u001b[1;33m\u001b[0m\u001b[1;33m\u001b[0m\u001b[0m\n\u001b[0;32m     11\u001b[0m         \u001b[0mprecision\u001b[0m\u001b[1;33m=\u001b[0m\u001b[0mnp\u001b[0m\u001b[1;33m.\u001b[0m\u001b[0mappend\u001b[0m\u001b[1;33m(\u001b[0m\u001b[0mprecision\u001b[0m\u001b[1;33m,\u001b[0m\u001b[0mcorrect\u001b[0m\u001b[1;33m.\u001b[0m\u001b[0mfloat\u001b[0m\u001b[1;33m(\u001b[0m\u001b[1;33m)\u001b[0m\u001b[1;33m.\u001b[0m\u001b[0mmean\u001b[0m\u001b[1;33m(\u001b[0m\u001b[1;33m)\u001b[0m\u001b[1;33m.\u001b[0m\u001b[0mitem\u001b[0m\u001b[1;33m(\u001b[0m\u001b[1;33m)\u001b[0m\u001b[1;33m)\u001b[0m\u001b[1;33m\u001b[0m\u001b[1;33m\u001b[0m\u001b[0m\n",
      "\u001b[1;31mAttributeError\u001b[0m: 'numpy.ndarray' object has no attribute 'int'"
     ]
    }
   ],
   "source": [
    "acc = M_accuracy(preds, l)\n",
    "acc"
   ]
  },
  {
   "cell_type": "code",
   "execution_count": 92,
   "metadata": {},
   "outputs": [],
   "source": [
    "# batch size\n",
    "bs = 32\n",
    "# learning rate\n",
    "epoch = 32\n",
    "#lr = 0.03\n",
    "lr = .001/3/3/3\n",
    "nh = 50"
   ]
  },
  {
   "cell_type": "code",
   "execution_count": 93,
   "metadata": {},
   "outputs": [],
   "source": [
    "d,l =next(iter(train))\n",
    "c = l.max()\n",
    "k, m=d[1].size()"
   ]
  },
  {
   "cell_type": "code",
   "execution_count": 47,
   "metadata": {},
   "outputs": [
    {
     "name": "stdout",
     "output_type": "stream",
     "text": [
      "[Linear(in_features=120, out_features=50, bias=True), ReLU(), Linear(in_features=50, out_features=88, bias=True)]\n"
     ]
    }
   ],
   "source": [
    "model = Model(m, nh, l.size(dim=2)) #model = Model(120, nh, l.size(dim=2))\n",
    "preds = model(d)"
   ]
  },
  {
   "cell_type": "code",
   "execution_count": 90,
   "metadata": {},
   "outputs": [
    {
     "ename": "TypeError",
     "evalue": "cross_entropy_loss(): argument 'target' (position 2) must be Tensor, not Linear",
     "output_type": "error",
     "traceback": [
      "\u001b[1;31m---------------------------------------------------------------------------\u001b[0m",
      "\u001b[1;31mTypeError\u001b[0m                                 Traceback (most recent call last)",
      "\u001b[1;32m<ipython-input-90-2a30bafabe75>\u001b[0m in \u001b[0;36m<module>\u001b[1;34m\u001b[0m\n\u001b[1;32m----> 1\u001b[1;33m \u001b[0mloss\u001b[0m \u001b[1;33m=\u001b[0m \u001b[0mloss_func\u001b[0m\u001b[1;33m(\u001b[0m\u001b[0mpreds\u001b[0m\u001b[1;33m,\u001b[0m \u001b[0ml\u001b[0m\u001b[1;33m)\u001b[0m\u001b[1;33m\u001b[0m\u001b[1;33m\u001b[0m\u001b[0m\n\u001b[0m\u001b[0;32m      2\u001b[0m \u001b[0macc\u001b[0m \u001b[1;33m=\u001b[0m \u001b[0mM_accuracy\u001b[0m\u001b[1;33m(\u001b[0m\u001b[0mpreds\u001b[0m\u001b[1;33m,\u001b[0m \u001b[0ml\u001b[0m\u001b[1;33m)\u001b[0m\u001b[1;33m\u001b[0m\u001b[1;33m\u001b[0m\u001b[0m\n\u001b[0;32m      3\u001b[0m \u001b[0mloss\u001b[0m \u001b[1;33m,\u001b[0m \u001b[0macc\u001b[0m\u001b[1;33m\u001b[0m\u001b[1;33m\u001b[0m\u001b[0m\n",
      "\u001b[1;32mc:\\Users\\WINDOW X\\anaconda3\\lib\\site-packages\\torch\\nn\\functional.py\u001b[0m in \u001b[0;36mcross_entropy\u001b[1;34m(input, target, weight, size_average, ignore_index, reduce, reduction, label_smoothing)\u001b[0m\n\u001b[0;32m   2994\u001b[0m     \u001b[1;32mif\u001b[0m \u001b[0msize_average\u001b[0m \u001b[1;32mis\u001b[0m \u001b[1;32mnot\u001b[0m \u001b[1;32mNone\u001b[0m \u001b[1;32mor\u001b[0m \u001b[0mreduce\u001b[0m \u001b[1;32mis\u001b[0m \u001b[1;32mnot\u001b[0m \u001b[1;32mNone\u001b[0m\u001b[1;33m:\u001b[0m\u001b[1;33m\u001b[0m\u001b[1;33m\u001b[0m\u001b[0m\n\u001b[0;32m   2995\u001b[0m         \u001b[0mreduction\u001b[0m \u001b[1;33m=\u001b[0m \u001b[0m_Reduction\u001b[0m\u001b[1;33m.\u001b[0m\u001b[0mlegacy_get_string\u001b[0m\u001b[1;33m(\u001b[0m\u001b[0msize_average\u001b[0m\u001b[1;33m,\u001b[0m \u001b[0mreduce\u001b[0m\u001b[1;33m)\u001b[0m\u001b[1;33m\u001b[0m\u001b[1;33m\u001b[0m\u001b[0m\n\u001b[1;32m-> 2996\u001b[1;33m     \u001b[1;32mreturn\u001b[0m \u001b[0mtorch\u001b[0m\u001b[1;33m.\u001b[0m\u001b[0m_C\u001b[0m\u001b[1;33m.\u001b[0m\u001b[0m_nn\u001b[0m\u001b[1;33m.\u001b[0m\u001b[0mcross_entropy_loss\u001b[0m\u001b[1;33m(\u001b[0m\u001b[0minput\u001b[0m\u001b[1;33m,\u001b[0m \u001b[0mtarget\u001b[0m\u001b[1;33m,\u001b[0m \u001b[0mweight\u001b[0m\u001b[1;33m,\u001b[0m \u001b[0m_Reduction\u001b[0m\u001b[1;33m.\u001b[0m\u001b[0mget_enum\u001b[0m\u001b[1;33m(\u001b[0m\u001b[0mreduction\u001b[0m\u001b[1;33m)\u001b[0m\u001b[1;33m,\u001b[0m \u001b[0mignore_index\u001b[0m\u001b[1;33m,\u001b[0m \u001b[0mlabel_smoothing\u001b[0m\u001b[1;33m)\u001b[0m\u001b[1;33m\u001b[0m\u001b[1;33m\u001b[0m\u001b[0m\n\u001b[0m\u001b[0;32m   2997\u001b[0m \u001b[1;33m\u001b[0m\u001b[0m\n\u001b[0;32m   2998\u001b[0m \u001b[1;33m\u001b[0m\u001b[0m\n",
      "\u001b[1;31mTypeError\u001b[0m: cross_entropy_loss(): argument 'target' (position 2) must be Tensor, not Linear"
     ]
    }
   ],
   "source": [
    "loss = loss_func(preds, l)\n",
    "acc = M_accuracy(preds, l)\n",
    "loss , acc"
   ]
  },
  {
   "cell_type": "code",
   "execution_count": null,
   "metadata": {},
   "outputs": [],
   "source": [
    "preds[0], l[0]"
   ]
  },
  {
   "cell_type": "markdown",
   "metadata": {},
   "source": [
    "## loop"
   ]
  },
  {
   "cell_type": "code",
   "execution_count": 28,
   "metadata": {},
   "outputs": [
    {
     "name": "stdout",
     "output_type": "stream",
     "text": [
      "batch\tloss\tacc.\n"
     ]
    }
   ],
   "source": [
    "batch = 32\n",
    "train = DataLoader(train_dataset, batch_size=batch, shuffle=True)\n",
    "\n",
    "losses, metrics = [], []\n",
    "epoch = train.__len__()"
   ]
  },
  {
   "cell_type": "code",
   "execution_count": null,
   "metadata": {},
   "outputs": [],
   "source": [
    "from torch.utils.data import DataLoader\n",
    "train = DataLoader(train_dataset, batch_size=batch, shuffle=True)\n",
    "epoch = train.__len__()"
   ]
  },
  {
   "cell_type": "code",
   "execution_count": 129,
   "metadata": {},
   "outputs": [
    {
     "name": "stdout",
     "output_type": "stream",
     "text": [
      "batch\tloss\tacc.\n",
      "0 \t tensor(408.9779, grad_fn=<DivBackward1>) \t 0.6983274147727272\n",
      "1 \t tensor(368.8148, grad_fn=<DivBackward1>) \t 0.6946432291666667\n",
      "2 \t tensor(358.7202, grad_fn=<DivBackward1>) \t 0.696170928030303\n",
      "3 \t tensor(385.0581, grad_fn=<DivBackward1>) \t 0.6972462121212122\n",
      "4 \t tensor(381.0847, grad_fn=<DivBackward1>) \t 0.6990250946969696\n",
      "5 \t tensor(387.1973, grad_fn=<DivBackward1>) \t 0.6975094696969697\n",
      "6 \t tensor(359.7737, grad_fn=<DivBackward1>) \t 0.7096268939393939\n",
      "7 \t tensor(366.9465, grad_fn=<DivBackward1>) \t 0.700819365530303\n",
      "8 \t tensor(340.3318, grad_fn=<DivBackward1>) \t 0.7010016571969697\n",
      "9 \t tensor(378.0589, grad_fn=<DivBackward1>) \t 0.6994777462121211\n",
      "10 \t tensor(376.0557, grad_fn=<DivBackward1>) \t 0.7065407196969697\n",
      "11 \t tensor(395.8561, grad_fn=<DivBackward1>) \t 0.7049053030303031\n",
      "12 \t tensor(369.6150, grad_fn=<DivBackward1>) \t 0.7028357007575758\n",
      "13 \t tensor(352.0243, grad_fn=<DivBackward1>) \t 0.7068231534090909\n",
      "14 \t tensor(405.3780, grad_fn=<DivBackward1>) \t 0.7003435132575757\n",
      "15 \t tensor(328.6809, grad_fn=<DivBackward1>) \t 0.6957895359848485\n",
      "16 \t tensor(361.2584, grad_fn=<DivBackward1>) \t 0.7032601799242424\n",
      "17 \t tensor(364.7550, grad_fn=<DivBackward1>) \t 0.7052043087121213\n",
      "18 \t tensor(348.3639, grad_fn=<DivBackward1>) \t 0.6992182765151516\n",
      "19 \t tensor(356.9737, grad_fn=<DivBackward1>) \t 0.7002961647727273\n",
      "20 \t tensor(370.8211, grad_fn=<DivBackward1>) \t 0.6969711174242424\n",
      "21 \t tensor(362.3712, grad_fn=<DivBackward1>) \t 0.6919907670454546\n",
      "22 \t tensor(386.9087, grad_fn=<DivBackward1>) \t 0.6942376893939395\n",
      "23 \t tensor(386.9418, grad_fn=<DivBackward1>) \t 0.7040913825757575\n",
      "24 \t tensor(367.6625, grad_fn=<DivBackward1>) \t 0.6996444128787879\n",
      "25 \t tensor(368.9467, grad_fn=<DivBackward1>) \t 0.6950821496212121\n",
      "26 \t tensor(340.0039, grad_fn=<DivBackward1>) \t 0.6954765625000001\n",
      "27 \t tensor(355.8934, grad_fn=<DivBackward1>) \t 0.7026486742424243\n",
      "28 \t tensor(369.6895, grad_fn=<DivBackward1>) \t 0.706048768939394\n",
      "29 \t tensor(369.6141, grad_fn=<DivBackward1>) \t 0.7014917140151515\n",
      "30 \t tensor(336.2668, grad_fn=<DivBackward1>) \t 0.7021183712121212\n",
      "31 \t tensor(399.0016, grad_fn=<DivBackward1>) \t 0.7028776041666667\n"
     ]
    }
   ],
   "source": [
    "print(\"batch\\tloss\\tacc.\")\n",
    "#optimizer=optim.SGD([loss, acc], lr=0.1)\n",
    "\n",
    "for e in range(0,10) :\n",
    "    # b = batch number\n",
    "    #for b in range((n-1)//bs + 1):\n",
    "    for b in range(0,batch):\n",
    "        # Feedforward\n",
    "        xb,yb =next(iter(train))\n",
    "        yhatb = model(xb)\n",
    "        loss = loss_func(yhatb, yb)\n",
    "        Optimizer = optim.SGD([xb, yb], lr=0.1)\n",
    "\n",
    "        # Metrics\n",
    "        acc = M_accuracy(yhatb, yb)\n",
    "        losses.append(loss); metrics.append(acc)\n",
    "        \n",
    "        # Backpropagation\n",
    "        loss.backward()\n",
    "        '''\n",
    "        Optimizer.step()\n",
    "        Optimizer.zero_grad(set_to_none=False)\n",
    "        '''\n",
    "\n",
    "        # Update Wight and Bias with SGD\n",
    "        with torch.no_grad():\n",
    "            for l in model.layers:\n",
    "                if hasattr(l, 'weight'):\n",
    "                    l.weight -= l.weight.grad * lr\n",
    "                    l.bias   -= l.bias.grad * lr \n",
    "                    l.weight.grad.zero_()\n",
    "                    l.weight.step()\n",
    "                    l.bias.grad.zero_()\n",
    "                    l.bias.step()\n",
    "                    \n",
    "\n",
    "    \n",
    "    print(e,\"\\t\",loss,\"\\t\",acc)"
   ]
  },
  {
   "cell_type": "code",
   "execution_count": 130,
   "metadata": {},
   "outputs": [
    {
     "data": {
      "text/plain": [
       "numpy.float64"
      ]
     },
     "execution_count": 130,
     "metadata": {},
     "output_type": "execute_result"
    }
   ],
   "source": [
    "type(metrics[0])"
   ]
  },
  {
   "cell_type": "code",
   "execution_count": 131,
   "metadata": {},
   "outputs": [],
   "source": [
    "temp_l, temp_acc=[],[]\n",
    "for k in losses :\n",
    "    temp_l.append(k.detach())\n",
    "    #temp_l.append(k)\n",
    "\n",
    "for k in metrics :\n",
    "    #temp_acc.append(k.detach())\n",
    "    temp_acc.append(k)"
   ]
  },
  {
   "cell_type": "code",
   "execution_count": 132,
   "metadata": {},
   "outputs": [
    {
     "data": {
      "text/plain": [
       "<matplotlib.legend.Legend at 0x17d57660820>"
      ]
     },
     "execution_count": 132,
     "metadata": {},
     "output_type": "execute_result"
    },
    {
     "data": {
      "image/png": "[encoded data removed]",
      "text/plain": [
       "<Figure size 648x648 with 1 Axes>"
      ]
     },
     "metadata": {
      "needs_background": "light"
     },
     "output_type": "display_data"
    }
   ],
   "source": [
    "x = torch.arange(len(losses)).numpy()\n",
    "fig,ax = plt.subplots(figsize=(9, 9))\n",
    "ax.grid(True)\n",
    "ax.plot(x, temp_l, label=\"Loss\")\n",
    "ax.legend(loc='upper right')"
   ]
  },
  {
   "cell_type": "code",
   "execution_count": 133,
   "metadata": {},
   "outputs": [
    {
     "data": {
      "text/plain": [
       "<matplotlib.legend.Legend at 0x17d576fa940>"
      ]
     },
     "execution_count": 133,
     "metadata": {},
     "output_type": "execute_result"
    },
    {
     "data": {
      "image/png": "[encoded data removed]",
      "text/plain": [
       "<Figure size 648x648 with 1 Axes>"
      ]
     },
     "metadata": {
      "needs_background": "light"
     },
     "output_type": "display_data"
    }
   ],
   "source": [
    "x = torch.arange(len(losses)).numpy()\n",
    "fig,ax = plt.subplots(figsize=(9, 9))\n",
    "ax.grid(True)\n",
    "ax.plot(x, temp_acc, label=\"Accuracy\")\n",
    "ax.legend(loc='upper right')"
   ]
  },
  {
   "cell_type": "code",
   "execution_count": 134,
   "metadata": {},
   "outputs": [
    {
     "data": {
      "text/plain": [
       "(tensor(398.9960, grad_fn=<DivBackward1>), 1.3234760593622923)"
      ]
     },
     "execution_count": 134,
     "metadata": {},
     "output_type": "execute_result"
    }
   ],
   "source": [
    "loss_func(model(xb), yb), accuracy(model(xb), yb)"
   ]
  },
  {
   "cell_type": "markdown",
   "metadata": {},
   "source": [
    "## lookup"
   ]
  },
  {
   "cell_type": "code",
   "execution_count": 44,
   "metadata": {},
   "outputs": [
    {
     "data": {
      "text/plain": [
       "<matplotlib.image.AxesImage at 0x1fbdf9e0f10>"
      ]
     },
     "execution_count": 44,
     "metadata": {},
     "output_type": "execute_result"
    },
    {
     "data": {
      "image/png": "[encoded data removed]",
      "text/plain": [
       "<Figure size 432x288 with 1 Axes>"
      ]
     },
     "metadata": {
      "needs_background": "light"
     },
     "output_type": "display_data"
    }
   ],
   "source": [
    "import matplotlib.pyplot as plt\n",
    "plt.imshow(d[10], cmap=plt.cm.binary)"
   ]
  },
  {
   "cell_type": "code",
   "execution_count": 45,
   "metadata": {},
   "outputs": [
    {
     "name": "stdout",
     "output_type": "stream",
     "text": [
      "tensor([[0., 0., 0.,  ..., 0., 0., 0.],\n",
      "        [0., 0., 0.,  ..., 0., 0., 0.],\n",
      "        [0., 0., 0.,  ..., 0., 0., 0.],\n",
      "        ...,\n",
      "        [0., 0., 0.,  ..., 0., 0., 0.],\n",
      "        [0., 0., 0.,  ..., 0., 0., 0.],\n",
      "        [0., 0., 0.,  ..., 0., 0., 0.]])\n"
     ]
    }
   ],
   "source": [
    "print(l[10])"
   ]
  }
 ],
 "metadata": {
  "interpreter": {
   "hash": "c9bf447bc3f95dcfbc19cb1a84d6b160112105653e59c16eb73ab72854d9f644"
  },
  "kernelspec": {
   "display_name": "Python 3.8.3 ('base')",
   "language": "python",
   "name": "python3"
  },
  "language_info": {
   "codemirror_mode": {
    "name": "ipython",
    "version": 3
   },
   "file_extension": ".py",
   "mimetype": "text/x-python",
   "name": "python",
   "nbconvert_exporter": "python",
   "pygments_lexer": "ipython3",
   "version": "3.8.3"
  },
  "orig_nbformat": 4
 },
 "nbformat": 4,
 "nbformat_minor": 2
}
