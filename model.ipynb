{
 "cells": [
  {
   "cell_type": "code",
   "execution_count": 1,
   "metadata": {},
   "outputs": [],
   "source": [
    "import os,sys\n",
    "import pickle\n",
    "import numpy as np                                       # fast vectors and matrices\n",
    "from glob import glob\n",
    "from time import time\n",
    "import tensorflow as tf\n",
    "from torch.utils.data import Dataset\n",
    "from torchvision import datasets\n",
    "from torchvision.transforms import ToTensor\n",
    "import matplotlib.pyplot as plt\n",
    "import shutil\n",
    "\n",
    "\n",
    "import matplotlib.pyplot as plt                          # plotting\n",
    "'''\n",
    "from scipy.fftpack import fft\n",
    "from sklearn.metrics import average_precision_score\n",
    "'''\n",
    "%matplotlib inline"
   ]
  },
  {
   "cell_type": "code",
   "execution_count": 2,
   "metadata": {},
   "outputs": [
    {
     "name": "stdout",
     "output_type": "stream",
     "text": [
      "WARNING:tensorflow:From c:\\Users\\WINDOW X\\anaconda3\\lib\\site-packages\\tensorflow\\python\\compat\\v2_compat.py:111: disable_resource_variables (from tensorflow.python.ops.variable_scope) is deprecated and will be removed in a future version.\n",
      "Instructions for updating:\n",
      "non-resource variables are not supported in the long term\n"
     ]
    }
   ],
   "source": [
    "sys.path.insert(0,'library\\\\')\n",
    "import config\n",
    "import diagnostics\n",
    "import base_model   "
   ]
  },
  {
   "cell_type": "markdown",
   "metadata": {},
   "source": [
    "## Data Loader"
   ]
  },
  {
   "cell_type": "code",
   "execution_count": 2,
   "metadata": {},
   "outputs": [],
   "source": [
    "train_feat_path=\"processed_dataset\\\\train\\\\feat\\\\\"\n",
    "train_label_path=\"processed_dataset\\\\train\\\\label\\\\\"\n",
    "test_feat_path=\"processed_dataset\\\\test\\\\feat\\\\\"\n",
    "test_label_path=\"processed_dataset\\\\test\\\\label\\\\\"\n",
    "\n",
    "train_name=os.listdir(train_feat_path)\n",
    "test_name=os.listdir(test_feat_path)"
   ]
  },
  {
   "cell_type": "code",
   "execution_count": 3,
   "metadata": {},
   "outputs": [],
   "source": [
    "class CustomTrainDataset(Dataset):\n",
    "    def __init__(self, feat_path=train_feat_path , label_path=train_label_path , transform=None, target_transform=None):\n",
    "        self.img_labels = os.listdir(train_feat_path)\n",
    "        self.feat_path = feat_path \n",
    "        self.label_path = label_path\n",
    "        self.transform = transform\n",
    "        self.target_transform = target_transform\n",
    "\n",
    "    def __len__(self):\n",
    "        return len(self.img_labels)\n",
    "\n",
    "    def __getitem__(self, idx):\n",
    "        data = (torch.from_numpy(np.load(self.feat_path +self.img_labels[idx])))\n",
    "        label = (torch.from_numpy(np.load(self.label_path +self.img_labels[idx])))\n",
    "        if self.transform:\n",
    "            data = self.transform(data)\n",
    "        if self.target_transform:\n",
    "            label = self.target_transform(label)\n",
    "        return data, label\n",
    "\n",
    "class CustomTestDataset(Dataset):\n",
    "    def __init__(self, feat_path=test_feat_path , label_path=test_label_path , transform=None, target_transform=None):\n",
    "        self.img_labels = os.listdir(train_feat_path)\n",
    "        self.feat_path = feat_path \n",
    "        self.label_path = label_path\n",
    "        self.transform = transform\n",
    "        self.target_transform = target_transform\n",
    "\n",
    "    def __len__(self):\n",
    "        return len(self.img_labels)\n",
    "\n",
    "    def __getitem__(self, idx):\n",
    "        data = (torch.from_numpy(np.load(self.feat_path +self.img_labels[idx])))\n",
    "        label = (torch.from_numpy(np.load(self.label_path +self.img_labels[idx])))\n",
    "        print(self.feat_path +self.img_labels[idx])\n",
    "        return data, label\n",
    "    \n",
    "    def demo() :\n",
    "        for indices in train :\n",
    "            yield collate_fn(train_dataset[i] for i in indices)\n"
   ]
  },
  {
   "cell_type": "code",
   "execution_count": 4,
   "metadata": {},
   "outputs": [],
   "source": [
    "train_dataset=CustomTrainDataset()\n",
    "test_dataset=CustomTrainDataset()"
   ]
  },
  {
   "cell_type": "code",
   "execution_count": 5,
   "metadata": {},
   "outputs": [],
   "source": [
    "from torch.utils.data import DataLoader\n",
    "\n",
    "train = DataLoader(train_dataset, batch_size=32, shuffle=True)\n",
    "test = DataLoader(train_dataset, batch_size=32, shuffle=True)"
   ]
  },
  {
   "cell_type": "markdown",
   "metadata": {},
   "source": [
    "## model"
   ]
  },
  {
   "cell_type": "code",
   "execution_count": 6,
   "metadata": {},
   "outputs": [],
   "source": [
    "import torch\n",
    "from torch import tensor\n",
    "from torch import nn\n",
    "import torch.nn.functional as F\n",
    "import matplotlib.pyplot as plt\n",
    "\n",
    "from pathlib import Path\n",
    "from IPython.core.debugger import set_trace\n",
    "#from fastai import datasets\n",
    "import pickle, gzip, math, torch\n",
    "import operator"
   ]
  },
  {
   "cell_type": "code",
   "execution_count": 12,
   "metadata": {},
   "outputs": [],
   "source": [
    "def normalize(x, m, s): \n",
    "    return (x-m)/s"
   ]
  },
  {
   "cell_type": "code",
   "execution_count": 14,
   "metadata": {},
   "outputs": [],
   "source": [
    "class Model(nn.Module):\n",
    "    # number of input feature, number of hidden feature, number of output feature\n",
    "    def __init__(self, n_in, nh, n_out):\n",
    "        super().__init__()\n",
    "        #self.fc = (32, 1500*120)\n",
    "        #self.fc = (1500, 120)\n",
    "        # data size = 32, 1500, 120\n",
    "        #set_trace()\n",
    "        self.layers = [nn.Linear(n_in, nh), nn.ReLU(), nn.Linear(nh, n_out)] \n",
    "        print(self.layers)       \n",
    "    def __call__(self, x):\n",
    "        for k in self.layers:\n",
    "            x = k(x)\n",
    "        return x"
   ]
  },
  {
   "cell_type": "code",
   "execution_count": 68,
   "metadata": {},
   "outputs": [
    {
     "data": {
      "text/plain": [
       "1.860667858272791"
      ]
     },
     "execution_count": 68,
     "metadata": {},
     "output_type": "execute_result"
    }
   ],
   "source": [
    "# loss function\n",
    "loss_func = F.cross_entropy\n",
    "'''\n",
    "def accuracy(yhat, y):\n",
    "    return (torch.argmax(yhat, dim=-1) == torch.argmax(y, dim=-1)).float().mean()\n",
    "'''\n",
    "#usinh mean sqrt error\n",
    "def accuracy(yhat, y):\n",
    "    precision=np.array([])\n",
    "    for i in range(len(y)) :\n",
    "        predictions=yhat[i].detach().numpy()\n",
    "        true_values=y[i].detach().numpy()\n",
    "        sq=np.sqrt(((predictions-true_values)**2).mean())\n",
    "        precision=np.append(precision,sq)\n",
    "        '''\n",
    "        #N = true_values.shape[1]\n",
    "        accuracy = (true_values == predictions).sum() / N\n",
    "        TP = ((predictions == 1) & (true_values == 1)).sum()\n",
    "        FP = ((predictions == 1) & (true_values == 0)).sum()\n",
    "        np.append(precision,TP/(TP+FP))\n",
    "        '''\n",
    "        #print(TP/(TP+FP))\n",
    "    return np.mean(precision)\n",
    "\n",
    "acc = accuracy(preds, l)"
   ]
  },
  {
   "cell_type": "code",
   "execution_count": 27,
   "metadata": {},
   "outputs": [],
   "source": [
    "# batch size\n",
    "bs = 32\n",
    "# learning rate\n",
    "epoch = 32\n",
    "#lr = 0.03\n",
    "lr = .001/3/3/3\n",
    "nh = 50"
   ]
  },
  {
   "cell_type": "code",
   "execution_count": 17,
   "metadata": {},
   "outputs": [],
   "source": [
    "d,l =next(iter(train))\n",
    "c = l.max()\n",
    "k, m=d[1].size()"
   ]
  },
  {
   "cell_type": "code",
   "execution_count": 47,
   "metadata": {},
   "outputs": [
    {
     "name": "stdout",
     "output_type": "stream",
     "text": [
      "[Linear(in_features=120, out_features=50, bias=True), ReLU(), Linear(in_features=50, out_features=88, bias=True)]\n"
     ]
    }
   ],
   "source": [
    "model = Model(m, nh, l.size(dim=2)) #model = Model(120, nh, l.size(dim=2))\n",
    "preds = model(d)"
   ]
  },
  {
   "cell_type": "code",
   "execution_count": null,
   "metadata": {},
   "outputs": [],
   "source": [
    "loss = loss_func(preds, l)\n",
    "acc = accuracy(preds, l)\n",
    "loss , acc"
   ]
  },
  {
   "cell_type": "code",
   "execution_count": null,
   "metadata": {},
   "outputs": [],
   "source": [
    "preds[0], l[0]"
   ]
  },
  {
   "cell_type": "markdown",
   "metadata": {},
   "source": [
    "## loop"
   ]
  },
  {
   "cell_type": "code",
   "execution_count": 69,
   "metadata": {},
   "outputs": [],
   "source": [
    "losses, metrics = [], []\n",
    "epoch = 32"
   ]
  },
  {
   "cell_type": "code",
   "execution_count": 70,
   "metadata": {},
   "outputs": [],
   "source": [
    "from torch.utils.data import DataLoader\n",
    "train = DataLoader(train_dataset, batch_size=32, shuffle=True)"
   ]
  },
  {
   "cell_type": "code",
   "execution_count": 71,
   "metadata": {},
   "outputs": [],
   "source": [
    "epoch = train.__len__()\n",
    "batch = 32"
   ]
  },
  {
   "cell_type": "code",
   "execution_count": 72,
   "metadata": {},
   "outputs": [],
   "source": [
    "from torch import optim"
   ]
  },
  {
   "cell_type": "code",
   "execution_count": 28,
   "metadata": {},
   "outputs": [
    {
     "name": "stdout",
     "output_type": "stream",
     "text": [
      "batch\tloss\tacc.\n"
     ]
    }
   ],
   "source": [
    "print(\"batch\\tloss\\tacc.\")"
   ]
  },
  {
   "cell_type": "code",
   "execution_count": 73,
   "metadata": {},
   "outputs": [
    {
     "name": "stdout",
     "output_type": "stream",
     "text": [
      "batch\tloss\tacc.\n",
      "0 \t tensor(363.2929, grad_fn=<DivBackward1>) \t 1.7518307846039534\n",
      "1 \t tensor(394.8199, grad_fn=<DivBackward1>) \t 1.7601745277643204\n",
      "2 \t tensor(352.4863, grad_fn=<DivBackward1>) \t 1.613266946747899\n",
      "3 \t tensor(369.5139, grad_fn=<DivBackward1>) \t 1.6422372963279486\n",
      "4 \t tensor(381.8125, grad_fn=<DivBackward1>) \t 1.458900298923254\n",
      "5 \t tensor(380.8111, grad_fn=<DivBackward1>) \t 1.4932689685374498\n",
      "6 \t tensor(357.5006, grad_fn=<DivBackward1>) \t 1.467623047530651\n",
      "7 \t tensor(373.3049, grad_fn=<DivBackward1>) \t 1.4684826396405697\n",
      "8 \t tensor(410.5851, grad_fn=<DivBackward1>) \t 1.42317995429039\n",
      "9 \t tensor(381.4717, grad_fn=<DivBackward1>) \t 1.436615690588951\n",
      "10 \t tensor(380.4386, grad_fn=<DivBackward1>) \t 1.3815788570791483\n",
      "11 \t tensor(392.9521, grad_fn=<DivBackward1>) \t 1.34197161719203\n",
      "12 \t tensor(386.0205, grad_fn=<DivBackward1>) \t 1.3246487621217966\n",
      "13 \t tensor(372.8880, grad_fn=<DivBackward1>) \t 1.3339696787297726\n",
      "14 \t tensor(356.0449, grad_fn=<DivBackward1>) \t 1.3701128419488668\n",
      "15 \t tensor(360.6400, grad_fn=<DivBackward1>) \t 1.3519195653498173\n",
      "16 \t tensor(376.1324, grad_fn=<DivBackward1>) \t 1.3283985387533903\n",
      "17 \t tensor(411.5031, grad_fn=<DivBackward1>) \t 1.3608372695744038\n",
      "18 \t tensor(387.1503, grad_fn=<DivBackward1>) \t 1.2876329440623522\n",
      "19 \t tensor(365.2445, grad_fn=<DivBackward1>) \t 1.2885693609714508\n",
      "20 \t tensor(382.3880, grad_fn=<DivBackward1>) \t 1.306825639680028\n",
      "21 \t tensor(352.2606, grad_fn=<DivBackward1>) \t 1.3055439684540033\n",
      "22 \t tensor(368.6966, grad_fn=<DivBackward1>) \t 1.23121234215796\n",
      "23 \t tensor(371.2336, grad_fn=<DivBackward1>) \t 1.264258237555623\n",
      "24 \t tensor(364.9432, grad_fn=<DivBackward1>) \t 1.2853567842394114\n",
      "25 \t tensor(386.2129, grad_fn=<DivBackward1>) \t 1.165033446624875\n",
      "26 \t tensor(375.6736, grad_fn=<DivBackward1>) \t 1.2278368789702654\n",
      "27 \t tensor(364.3244, grad_fn=<DivBackward1>) \t 1.1404404789209366\n",
      "28 \t tensor(370.7319, grad_fn=<DivBackward1>) \t 1.274662060663104\n",
      "29 \t tensor(378.1235, grad_fn=<DivBackward1>) \t 1.2423764113336802\n",
      "30 \t tensor(379.9950, grad_fn=<DivBackward1>) \t 1.2715822663158178\n",
      "31 \t tensor(368.7961, grad_fn=<DivBackward1>) \t 1.274730747565627\n",
      "32 \t tensor(359.0210, grad_fn=<DivBackward1>) \t 1.2426597140729427\n",
      "33 \t tensor(404.4777, grad_fn=<DivBackward1>) \t 1.2207801453769207\n",
      "34 \t tensor(383.4328, grad_fn=<DivBackward1>) \t 1.248097276315093\n",
      "35 \t tensor(357.5330, grad_fn=<DivBackward1>) \t 1.247083080932498\n",
      "36 \t tensor(381.9359, grad_fn=<DivBackward1>) \t 1.2653008475899696\n",
      "37 \t tensor(399.4657, grad_fn=<DivBackward1>) \t 1.1655656304210424\n",
      "38 \t tensor(381.3571, grad_fn=<DivBackward1>) \t 1.167711390182376\n",
      "39 \t tensor(389.6558, grad_fn=<DivBackward1>) \t 1.2117153108119965\n",
      "40 \t tensor(360.9160, grad_fn=<DivBackward1>) \t 1.3145790472626686\n",
      "41 \t tensor(366.1556, grad_fn=<DivBackward1>) \t 1.2446515690535307\n",
      "42 \t tensor(381.5192, grad_fn=<DivBackward1>) \t 1.2636265978217125\n",
      "43 \t tensor(365.5623, grad_fn=<DivBackward1>) \t 1.17169270478189\n",
      "44 \t tensor(332.4993, grad_fn=<DivBackward1>) \t 1.2323022671043873\n",
      "45 \t tensor(383.9859, grad_fn=<DivBackward1>) \t 1.246176639571786\n",
      "46 \t tensor(369.1241, grad_fn=<DivBackward1>) \t 1.2096228748559952\n",
      "47 \t tensor(379.5328, grad_fn=<DivBackward1>) \t 1.2240583132952452\n",
      "48 \t tensor(394.9156, grad_fn=<DivBackward1>) \t 1.2359687872231007\n",
      "49 \t tensor(375.8653, grad_fn=<DivBackward1>) \t 1.2473644185811281\n",
      "50 \t tensor(385.3531, grad_fn=<DivBackward1>) \t 1.2393985912203789\n",
      "51 \t tensor(393.6770, grad_fn=<DivBackward1>) \t 1.2651776038110256\n",
      "52 \t tensor(377.2825, grad_fn=<DivBackward1>) \t 1.2569790035486221\n",
      "53 \t tensor(347.3660, grad_fn=<DivBackward1>) \t 1.2824334129691124\n",
      "54 \t tensor(374.2285, grad_fn=<DivBackward1>) \t 1.172328868880868\n",
      "55 \t tensor(363.9938, grad_fn=<DivBackward1>) \t 1.2701334077864885\n",
      "56 \t tensor(390.0760, grad_fn=<DivBackward1>) \t 1.206990098580718\n"
     ]
    }
   ],
   "source": [
    "print(\"batch\\tloss\\tacc.\")\n",
    "#optimizer = optim.SGD([loss, acc], lr=0.1)\n",
    "\n",
    "for e in range(0,epoch):\n",
    "    # b = batch number\n",
    "    #for b in range((n-1)//bs + 1):\n",
    "    for b in range(0,batch):\n",
    "\n",
    "        # Feedforward\n",
    "        xb,yb =next(iter(train))\n",
    "        yhatb = model(xb)\n",
    "        loss = loss_func(yhatb, yb)\n",
    "        Optimizer = optim.SGD([xb, yb], lr=0.1)\n",
    "\n",
    "        # Metrics\n",
    "        acc = accuracy(yhatb, yb)\n",
    "        losses.append(loss); metrics.append(acc)\n",
    "        \n",
    "        # Backpropagation\n",
    "        loss.backward()\n",
    "        Optimizer.step()\n",
    "        Optimizer.zero_grad(set_to_none=False)\n",
    "        \n",
    "        # Update Wight and Bias with SGD\n",
    "        with torch.no_grad():\n",
    "            for l in model.layers:\n",
    "                if hasattr(l, 'weight'):\n",
    "                    l.weight -= l.weight.grad * lr\n",
    "                    l.bias   -= l.bias.grad * lr \n",
    "                    l.weight.grad.zero_()\n",
    "                    l.bias.grad.zero_()\n",
    "\n",
    "    \n",
    "    print(e,\"\\t\",loss,\"\\t\",acc)"
   ]
  },
  {
   "cell_type": "code",
   "execution_count": 84,
   "metadata": {},
   "outputs": [
    {
     "data": {
      "text/plain": [
       "numpy.float64"
      ]
     },
     "execution_count": 84,
     "metadata": {},
     "output_type": "execute_result"
    }
   ],
   "source": [
    "type(metrics[0])"
   ]
  },
  {
   "cell_type": "code",
   "execution_count": 85,
   "metadata": {},
   "outputs": [],
   "source": [
    "temp_l, temp_acc=[],[]\n",
    "for k in losses :\n",
    "    temp_l.append(k.detach())\n",
    "    #temp_l.append(k)\n",
    "\n",
    "for k in metrics :\n",
    "    #temp_acc.append(k.detach())\n",
    "    temp_acc.append(k)"
   ]
  },
  {
   "cell_type": "code",
   "execution_count": 87,
   "metadata": {},
   "outputs": [
    {
     "data": {
      "text/plain": [
       "<matplotlib.legend.Legend at 0x17d4f44d5e0>"
      ]
     },
     "execution_count": 87,
     "metadata": {},
     "output_type": "execute_result"
    },
    {
     "data": {
      "image/png": "[encoded data removed]",
      "text/plain": [
       "<Figure size 648x648 with 1 Axes>"
      ]
     },
     "metadata": {
      "needs_background": "light"
     },
     "output_type": "display_data"
    }
   ],
   "source": [
    "x = torch.arange(len(losses)).numpy()\n",
    "fig,ax = plt.subplots(figsize=(9, 9))\n",
    "ax.grid(True)\n",
    "ax.plot(x, temp_l, label=\"Loss\")\n",
    "ax.legend(loc='upper right')"
   ]
  },
  {
   "cell_type": "code",
   "execution_count": 88,
   "metadata": {},
   "outputs": [
    {
     "data": {
      "text/plain": [
       "<matplotlib.legend.Legend at 0x17d550755b0>"
      ]
     },
     "execution_count": 88,
     "metadata": {},
     "output_type": "execute_result"
    },
    {
     "data": {
      "image/png": "[encoded data removed]",
      "text/plain": [
       "<Figure size 648x648 with 1 Axes>"
      ]
     },
     "metadata": {
      "needs_background": "light"
     },
     "output_type": "display_data"
    }
   ],
   "source": [
    "x = torch.arange(len(losses)).numpy()\n",
    "fig,ax = plt.subplots(figsize=(9, 9))\n",
    "ax.grid(True)\n",
    "ax.plot(x, temp_acc, label=\"Accuracy\")\n",
    "ax.legend(loc='upper right')"
   ]
  },
  {
   "cell_type": "code",
   "execution_count": 42,
   "metadata": {},
   "outputs": [
    {
     "data": {
      "text/plain": [
       "(tensor(366.0570, grad_fn=<DivBackward1>), tensor(0.0261))"
      ]
     },
     "execution_count": 42,
     "metadata": {},
     "output_type": "execute_result"
    }
   ],
   "source": [
    "loss_func(model(xb), yb), accuracy(model(xb), yb)"
   ]
  },
  {
   "cell_type": "markdown",
   "metadata": {},
   "source": [
    "## lookup"
   ]
  },
  {
   "cell_type": "code",
   "execution_count": 44,
   "metadata": {},
   "outputs": [
    {
     "data": {
      "text/plain": [
       "<matplotlib.image.AxesImage at 0x1fbdf9e0f10>"
      ]
     },
     "execution_count": 44,
     "metadata": {},
     "output_type": "execute_result"
    },
    {
     "data": {
      "image/png": "[encoded data removed]",
      "text/plain": [
       "<Figure size 432x288 with 1 Axes>"
      ]
     },
     "metadata": {
      "needs_background": "light"
     },
     "output_type": "display_data"
    }
   ],
   "source": [
    "import matplotlib.pyplot as plt\n",
    "plt.imshow(d[10], cmap=plt.cm.binary)"
   ]
  },
  {
   "cell_type": "code",
   "execution_count": 45,
   "metadata": {},
   "outputs": [
    {
     "name": "stdout",
     "output_type": "stream",
     "text": [
      "tensor([[0., 0., 0.,  ..., 0., 0., 0.],\n",
      "        [0., 0., 0.,  ..., 0., 0., 0.],\n",
      "        [0., 0., 0.,  ..., 0., 0., 0.],\n",
      "        ...,\n",
      "        [0., 0., 0.,  ..., 0., 0., 0.],\n",
      "        [0., 0., 0.,  ..., 0., 0., 0.],\n",
      "        [0., 0., 0.,  ..., 0., 0., 0.]])\n"
     ]
    }
   ],
   "source": [
    "print(l[10])"
   ]
  }
 ],
 "metadata": {
  "interpreter": {
   "hash": "c9bf447bc3f95dcfbc19cb1a84d6b160112105653e59c16eb73ab72854d9f644"
  },
  "kernelspec": {
   "display_name": "Python 3.8.3 ('base')",
   "language": "python",
   "name": "python3"
  },
  "language_info": {
   "codemirror_mode": {
    "name": "ipython",
    "version": 3
   },
   "file_extension": ".py",
   "mimetype": "text/x-python",
   "name": "python",
   "nbconvert_exporter": "python",
   "pygments_lexer": "ipython3",
   "version": "3.8.3"
  },
  "orig_nbformat": 4
 },
 "nbformat": 4,
 "nbformat_minor": 2
}
