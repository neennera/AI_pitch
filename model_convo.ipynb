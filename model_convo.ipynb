{
 "cells": [
  {
   "cell_type": "code",
   "execution_count": 2,
   "metadata": {},
   "outputs": [],
   "source": [
    "import os,sys, operator\n",
    "import shutil, gzip, math\n",
    "import pickle\n",
    "import numpy as np                                       # fast vectors and matrices\n",
    "from glob import glob\n",
    "from time import time\n",
    "import matplotlib.pyplot as plt\n",
    "\n",
    "import tensorflow as tf\n",
    "\n",
    "import torch\n",
    "from torch.utils.data import DataLoader\n",
    "from torch import optim\n",
    "from torch import tensor\n",
    "from torch import nn\n",
    "import torch.nn.functional as F\n",
    "from torch import nn\n",
    "\n",
    "from pathlib import Path\n",
    "from IPython.core.debugger import set_trace\n",
    "from collections import Counter\n",
    "\n",
    "%matplotlib inline"
   ]
  },
  {
   "cell_type": "markdown",
   "metadata": {},
   "source": [
    "## Data Loader"
   ]
  },
  {
   "cell_type": "code",
   "execution_count": 3,
   "metadata": {},
   "outputs": [],
   "source": [
    "from torch.utils.data import Dataset"
   ]
  },
  {
   "cell_type": "code",
   "execution_count": 4,
   "metadata": {},
   "outputs": [],
   "source": [
    "train_feat_path=\"processed_dataset\\\\train\\\\feat\\\\\"\n",
    "train_label_path=\"processed_dataset\\\\train\\\\label\\\\\"\n",
    "test_feat_path=\"processed_dataset\\\\test\\\\feat\\\\\"\n",
    "test_label_path=\"processed_dataset\\\\test\\\\label\\\\\"\n",
    "\n",
    "train_name=os.listdir(train_feat_path)\n",
    "test_name=os.listdir(test_feat_path)\n",
    "\n",
    "class CustomTrainDataset(Dataset):\n",
    "    def __init__(self, feat_path=train_feat_path , label_path=train_label_path , transform=None, target_transform=None):\n",
    "        self.img_labels = os.listdir(train_feat_path)\n",
    "        self.feat_path = feat_path \n",
    "        self.label_path = label_path\n",
    "        self.transform = transform\n",
    "        self.target_transform = target_transform\n",
    "\n",
    "    def __len__(self):\n",
    "        return len(self.img_labels)\n",
    "\n",
    "    def __getitem__(self, idx):\n",
    "        data = (torch.from_numpy(np.load(self.feat_path +self.img_labels[idx])))\n",
    "        label = (torch.from_numpy(np.load(self.label_path +self.img_labels[idx])))\n",
    "        if self.transform:\n",
    "            data = self.transform(data)\n",
    "        if self.target_transform:\n",
    "            label = self.target_transform(label)\n",
    "        return data, label\n",
    "\n",
    "class CustomTestDataset(Dataset):\n",
    "    def __init__(self, feat_path=test_feat_path , label_path=test_label_path , transform=None, target_transform=None):\n",
    "        self.img_labels = os.listdir(train_feat_path)\n",
    "        self.feat_path = feat_path \n",
    "        self.label_path = label_path\n",
    "        self.transform = transform\n",
    "        self.target_transform = target_transform\n",
    "\n",
    "    def __len__(self):\n",
    "        return len(self.img_labels)\n",
    "\n",
    "    def __getitem__(self, idx):\n",
    "        data = (torch.from_numpy(np.load(self.feat_path +self.img_labels[idx])))\n",
    "        label = (torch.from_numpy(np.load(self.label_path +self.img_labels[idx])))\n",
    "        print(self.feat_path +self.img_labels[idx])\n",
    "        return data, label\n",
    "    \n",
    "    def demo() :\n",
    "        for indices in train :\n",
    "            yield collate_fn(train_dataset[i] for i in indices)\n"
   ]
  },
  {
   "cell_type": "code",
   "execution_count": 5,
   "metadata": {},
   "outputs": [],
   "source": [
    "train_dataset=CustomTrainDataset()\n",
    "test_dataset=CustomTrainDataset()"
   ]
  },
  {
   "cell_type": "markdown",
   "metadata": {},
   "source": [
    "## model"
   ]
  },
  {
   "cell_type": "code",
   "execution_count": 6,
   "metadata": {},
   "outputs": [],
   "source": [
    "class Model(nn.Module):\n",
    "    def __init__(self):\n",
    "        super().__init__()\n",
    "        time= 1500\n",
    "        batch = 32\n",
    "        \n",
    "        self.lstm_unit = 128\n",
    "        self.karnel= 3\n",
    "        self.stride = 5\n",
    "        feat = [120, 118, 256, 88]\n",
    "\n",
    "        #self.layers = [ nn.Conv1d( 1500, 1500, kernel_size) ] #, nn.ReLU()]\n",
    "        self.convo1 = nn.Conv1d( 120, 256, 5, padding='same')  # ลอง padding=\"same\" เพื่อให้ time เท่าเดิมครับ\n",
    "        self.convo2 = nn.Conv1d( 256, 88, 5, padding='same')\n",
    "        self.relu = nn.ReLU()\n",
    "        #self.lstm = nn.LSTM(input_size=256, hidden_size=256, bidirectional=True, batch_first=True)\n",
    "        #self.lstm2 = nn.LSTM(input_size=512, hidden_size=88, batch_first=True)\n",
    "        #self.linear = nn.Linear(998,1500 , bias=True)\n",
    "        #self.activation = torch.nn.Sigmoid()\n",
    "        self.activation = torch.nn.Sigmoid()\n",
    "\n",
    "    def forward(self, x):\n",
    "        x = normalized(x)  # ควรมาใส่ตรงนี้คับ\n",
    "        x = torch.transpose(x, 1,2)  # reformat from (B, T, C) to (B, C, T)\n",
    "        x = self.convo1(x)   # (B, C=120, T=1500) -> (B, C=conv1_out_dim, T=1500)\n",
    "        x= self.relu(x)\n",
    "        x = self.convo2(x)\n",
    "        x= self.relu(x)\n",
    "       \n",
    "        x = torch.transpose(x, 1,2)  # convert (B, C, T) -> (B, T, C)\n",
    "        #print(x.shape)\n",
    "        #x, _ = self.lstm(x)  # lstm return [output, (h, c)]\n",
    "        #print(x.shape)\n",
    "        #x, _ = self.lstm2(x) \n",
    "        x = self.activation(x)\n",
    "        #1500 88\n",
    "        return x\n",
    "\n",
    "def normalized(data):\n",
    "    return (data - data.mean(1, keepdims=True)) / data.std(1, keepdims=True)"
   ]
  },
  {
   "cell_type": "code",
   "execution_count": 6,
   "metadata": {},
   "outputs": [
    {
     "ename": "NameError",
     "evalue": "name 'train' is not defined",
     "output_type": "error",
     "traceback": [
      "\u001b[1;31m---------------------------------------------------------------------------\u001b[0m",
      "\u001b[1;31mNameError\u001b[0m                                 Traceback (most recent call last)",
      "\u001b[1;32m<ipython-input-6-c1b2a034445a>\u001b[0m in \u001b[0;36m<module>\u001b[1;34m\u001b[0m\n\u001b[1;32m----> 1\u001b[1;33m \u001b[0mx\u001b[0m\u001b[1;33m,\u001b[0m\u001b[0my\u001b[0m \u001b[1;33m=\u001b[0m \u001b[0mnext\u001b[0m\u001b[1;33m(\u001b[0m\u001b[0miter\u001b[0m\u001b[1;33m(\u001b[0m\u001b[0mtrain\u001b[0m\u001b[1;33m)\u001b[0m\u001b[1;33m)\u001b[0m\u001b[1;33m\u001b[0m\u001b[1;33m\u001b[0m\u001b[0m\n\u001b[0m\u001b[0;32m      2\u001b[0m \u001b[1;33m\u001b[0m\u001b[0m\n\u001b[0;32m      3\u001b[0m \u001b[0mmodel\u001b[0m \u001b[1;33m=\u001b[0m \u001b[0mModel\u001b[0m\u001b[1;33m(\u001b[0m\u001b[1;33m)\u001b[0m\u001b[1;33m\u001b[0m\u001b[1;33m\u001b[0m\u001b[0m\n\u001b[0;32m      4\u001b[0m \u001b[0moptimizer\u001b[0m \u001b[1;33m=\u001b[0m \u001b[0mtorch\u001b[0m\u001b[1;33m.\u001b[0m\u001b[0moptim\u001b[0m\u001b[1;33m.\u001b[0m\u001b[0mAdam\u001b[0m\u001b[1;33m(\u001b[0m\u001b[0mmodel\u001b[0m\u001b[1;33m.\u001b[0m\u001b[0mparameters\u001b[0m\u001b[1;33m(\u001b[0m\u001b[1;33m)\u001b[0m\u001b[1;33m,\u001b[0m \u001b[0mlr\u001b[0m\u001b[1;33m=\u001b[0m\u001b[1;36m3e-4\u001b[0m\u001b[1;33m)\u001b[0m\u001b[1;33m\u001b[0m\u001b[1;33m\u001b[0m\u001b[0m\n\u001b[0;32m      5\u001b[0m \u001b[0mxy\u001b[0m \u001b[1;33m=\u001b[0m\u001b[0mmodel\u001b[0m\u001b[1;33m(\u001b[0m\u001b[0mx\u001b[0m\u001b[1;33m)\u001b[0m\u001b[1;33m\u001b[0m\u001b[1;33m\u001b[0m\u001b[0m\n",
      "\u001b[1;31mNameError\u001b[0m: name 'train' is not defined"
     ]
    }
   ],
   "source": [
    " x,y = next(iter(train))\n",
    "\n",
    "model = Model()\n",
    "optimizer = torch.optim.Adam(model.parameters(), lr=3e-4)\n",
    " xy =model(x)\n",
    "# temp=x[0]\n",
    "# ans_temp=xy"
   ]
  },
  {
   "cell_type": "code",
   "execution_count": 74,
   "metadata": {},
   "outputs": [
    {
     "data": {
      "text/plain": [
       "torch.Size([64, 1500, 88])"
      ]
     },
     "execution_count": 74,
     "metadata": {},
     "output_type": "execute_result"
    }
   ],
   "source": [
    "xy.size()"
   ]
  },
  {
   "cell_type": "code",
   "execution_count": 7,
   "metadata": {},
   "outputs": [],
   "source": [
    "loss_f = nn.MSELoss()\n",
    "\n",
    "def M_accuracy(yhat, y):\n",
    "    predictions = yhat.detach().numpy()\n",
    "    true_values = y.detach().numpy()\n",
    "    correct = (predictions >= 0.5) == true_values\n",
    "    return correct.mean().item()\n",
    "\n",
    "def M_loss_func(yhat,y):\n",
    "    predictions = yhat\n",
    "    true_values = y\n",
    "    return loss_f(predictions, true_values) #*128/2."
   ]
  },
  {
   "cell_type": "markdown",
   "metadata": {},
   "source": [
    "## loop"
   ]
  },
  {
   "cell_type": "code",
   "execution_count": 8,
   "metadata": {},
   "outputs": [],
   "source": [
    "from torch.utils.data import DataLoader\n",
    "batch = 64\n",
    "train = DataLoader(train_dataset, batch_size=batch, shuffle=True)\n",
    "test = DataLoader(test_dataset, batch_size=batch)\n",
    "epoch = 50\n",
    "\n",
    "device = \"cuda\" if torch.cuda.is_available() else \"cpu\""
   ]
  },
  {
   "cell_type": "code",
   "execution_count": 14,
   "metadata": {},
   "outputs": [],
   "source": [
    "def save():\n",
    "    loss_log=[]\n",
    "    lr_log=[]\n",
    "    acc_log=[]\n",
    "    baseline_log=[]\n",
    "    \n",
    "    torch.save(model.state_dict(), \"weight/convo_convo/mymodel.pt\")\n",
    "    with open('weight/sigmoid/baseline_log.pkl', 'rb') as f:\n",
    "        baseline_log = pickle.load(f)\n",
    "    with open('weight/sigmoid/loss_log.pkl', 'rb') as f:\n",
    "        loss_log = pickle.load(f)\n",
    "    with open('weight/sigmoid/acc_log.pkl', 'rb') as f:\n",
    "        acc_log = pickle.load(f)\n",
    "    with open('weight/sigmoid/lr_log.pkl', 'rb') as f:\n",
    "        lr_log = pickle.load(f)\n",
    "\n",
    "    for k in losses :\n",
    "        loss_log.append(float(k))\n",
    "    for k in losses :\n",
    "        loss_log.append(float(k))\n",
    "    acc_log = acc_log + metrics\n",
    "    baseline_log = baseline_log + baseline\n",
    "\n",
    "    with open('weight/sigmoid/baseline_log.pkl', 'wb') as f:\n",
    "        pickle.dump(baseline_log, f)\n",
    "    with open('weight/sigmoid/loss_log.pkl', 'wb') as f:\n",
    "        pickle.dump(loss_log, f)\n",
    "    with open('weight/sigmoid/acc_log.pkl', 'wb') as f:\n",
    "        pickle.dump(acc_log, f)\n",
    "    with open('weight/sigmoid/lr_log.pkl', 'wb') as f:\n",
    "        pickle.dump(lr_log, f)"
   ]
  },
  {
   "cell_type": "code",
   "execution_count": 12,
   "metadata": {},
   "outputs": [],
   "source": [
    "def get_epoch(k):\n",
    "    print(\"epoch\",\"\\t train loss \\t accuracy \\t\\t val loss\")\n",
    "    train_loss ,train_acc, val_loss=0,0,0\n",
    "    for i in range(0,k) :\n",
    "        train_epoch(i)\n",
    "        save()\n",
    "\n",
    "def train_epoch(k):\n",
    "    train_batch_loss = []\n",
    "    train_batch_acc = []\n",
    "    for batch in train:\n",
    "        xb, yb = batch\n",
    "        optimizer.zero_grad()\n",
    "        \n",
    "        yhatb = model(xb)\n",
    "        loss = M_loss_func(yhatb, yb)\n",
    "        acc = M_accuracy(yhatb, yb)\n",
    "               \n",
    "        \n",
    "        loss.backward()\n",
    "        optimizer.step()\n",
    "\n",
    "        train_batch_loss.append(loss.detach().cpu().numpy())\n",
    "        train_batch_acc.append(acc)\n",
    "        baseline_mse = M_loss_func(torch.zeros_like(yb), yb)\n",
    "\n",
    "        losses.append(loss.detach().cpu().numpy()),metrics.append(acc)\n",
    "        #print(\"\\t\\t\", loss.detach().cpu().numpy() , \"\\t\", acc, \"\\t\\t\" , yhatb.mean())\n",
    "        baseline.append(baseline_mse)\n",
    "\n",
    "    train_loss = np.mean(train_batch_loss)  # average train loss among all batches\n",
    "    train_acc = np.mean(train_batch_acc)  # average acc among all batches     \n",
    "\n",
    "    val_batch_loss = []\n",
    "    for batch in test:\n",
    "        x, y = batch\n",
    "        x = x.to(device)\n",
    "        y = y.to(device)\n",
    "        \n",
    "        # we don't need to calculate gradients when evaluating\n",
    "        with torch.no_grad():\n",
    "            yhatb = model(x)  # forward propagation\n",
    "            loss = M_loss_func(yhatb, y)  # compute val loss\n",
    "        val_batch_loss.append(loss.cpu().numpy())\n",
    "    \n",
    "    val_loss = np.mean(val_batch_loss)\n",
    "    print(k, \"\\t\", train_loss , \"\\t\", train_acc,\"\\t\", val_loss, \"\\t\" , yhatb.mean())"
   ]
  },
  {
   "cell_type": "code",
   "execution_count": 10,
   "metadata": {},
   "outputs": [],
   "source": [
    "device = \"cuda\" if torch.cuda.is_available() else \"cpu\"\n",
    "model = Model()\n",
    "model = model.to(device)"
   ]
  },
  {
   "cell_type": "code",
   "execution_count": 13,
   "metadata": {},
   "outputs": [
    {
     "name": "stdout",
     "output_type": "stream",
     "text": [
      "epoch \t train loss \t accuracy \t\t val loss\n",
      "0 \t 0.2765229 \t 0.03438147193144499 \t 0.2765267 \t tensor(0.5266)\n"
     ]
    },
    {
     "ename": "NameError",
     "evalue": "name 'save' is not defined",
     "output_type": "error",
     "traceback": [
      "\u001b[1;31m---------------------------------------------------------------------------\u001b[0m",
      "\u001b[1;31mNameError\u001b[0m                                 Traceback (most recent call last)",
      "\u001b[1;32m<ipython-input-13-733210784997>\u001b[0m in \u001b[0;36m<module>\u001b[1;34m\u001b[0m\n\u001b[0;32m      4\u001b[0m \u001b[0moptimizer\u001b[0m \u001b[1;33m=\u001b[0m \u001b[0mtorch\u001b[0m\u001b[1;33m.\u001b[0m\u001b[0moptim\u001b[0m\u001b[1;33m.\u001b[0m\u001b[0mAdam\u001b[0m\u001b[1;33m(\u001b[0m\u001b[0mmodel\u001b[0m\u001b[1;33m.\u001b[0m\u001b[0mparameters\u001b[0m\u001b[1;33m(\u001b[0m\u001b[1;33m)\u001b[0m\u001b[1;33m,\u001b[0m \u001b[0mlr\u001b[0m\u001b[1;33m)\u001b[0m\u001b[1;33m\u001b[0m\u001b[1;33m\u001b[0m\u001b[0m\n\u001b[0;32m      5\u001b[0m \u001b[0mmodel\u001b[0m\u001b[1;33m=\u001b[0m\u001b[0mModel\u001b[0m\u001b[1;33m(\u001b[0m\u001b[1;33m)\u001b[0m\u001b[1;33m\u001b[0m\u001b[1;33m\u001b[0m\u001b[0m\n\u001b[1;32m----> 6\u001b[1;33m \u001b[0mget_epoch\u001b[0m\u001b[1;33m(\u001b[0m\u001b[1;36m5\u001b[0m\u001b[1;33m)\u001b[0m\u001b[1;33m\u001b[0m\u001b[1;33m\u001b[0m\u001b[0m\n\u001b[0m",
      "\u001b[1;32m<ipython-input-12-4afbf382b914>\u001b[0m in \u001b[0;36mget_epoch\u001b[1;34m(k)\u001b[0m\n\u001b[0;32m      4\u001b[0m     \u001b[1;32mfor\u001b[0m \u001b[0mi\u001b[0m \u001b[1;32min\u001b[0m \u001b[0mrange\u001b[0m\u001b[1;33m(\u001b[0m\u001b[1;36m0\u001b[0m\u001b[1;33m,\u001b[0m\u001b[0mk\u001b[0m\u001b[1;33m)\u001b[0m \u001b[1;33m:\u001b[0m\u001b[1;33m\u001b[0m\u001b[1;33m\u001b[0m\u001b[0m\n\u001b[0;32m      5\u001b[0m         \u001b[0mtrain_epoch\u001b[0m\u001b[1;33m(\u001b[0m\u001b[0mi\u001b[0m\u001b[1;33m)\u001b[0m\u001b[1;33m\u001b[0m\u001b[1;33m\u001b[0m\u001b[0m\n\u001b[1;32m----> 6\u001b[1;33m         \u001b[0msave\u001b[0m\u001b[1;33m(\u001b[0m\u001b[1;33m)\u001b[0m\u001b[1;33m\u001b[0m\u001b[1;33m\u001b[0m\u001b[0m\n\u001b[0m\u001b[0;32m      7\u001b[0m \u001b[1;33m\u001b[0m\u001b[0m\n\u001b[0;32m      8\u001b[0m \u001b[1;32mdef\u001b[0m \u001b[0mtrain_epoch\u001b[0m\u001b[1;33m(\u001b[0m\u001b[0mk\u001b[0m\u001b[1;33m)\u001b[0m\u001b[1;33m:\u001b[0m\u001b[1;33m\u001b[0m\u001b[1;33m\u001b[0m\u001b[0m\n",
      "\u001b[1;31mNameError\u001b[0m: name 'save' is not defined"
     ]
    }
   ],
   "source": [
    "losses, metrics, baseline,lr_log = [], [], [], []\n",
    "\n",
    "lr=3e-4\n",
    "optimizer = torch.optim.Adam(model.parameters(), lr)\n",
    "model=Model()\n",
    "get_epoch(5)"
   ]
  },
  {
   "cell_type": "markdown",
   "metadata": {},
   "source": [
    "## Graph Represent"
   ]
  },
  {
   "cell_type": "code",
   "execution_count": 23,
   "metadata": {},
   "outputs": [],
   "source": [
    "with open('weight/sigmoid/baseline_log.pkl', 'rb') as f:\n",
    "    baseline_log = pickle.load(f)\n",
    "with open('weight/sigmoid/loss_log.pkl', 'rb') as f:\n",
    "    loss_log = pickle.load(f)\n",
    "with open('weight/sigmoid/acc_log.pkl', 'rb') as f:\n",
    "    acc_log = pickle.load(f)\n",
    "with open('weight/sigmoid/lr_log.pkl', 'rb') as f:\n",
    "    lr_log = pickle.load(f)\n",
    "\n",
    "lr = 10e-4/2./2/2/2/2\n",
    "for k in losses :\n",
    "    loss_log.append(float(k))\n",
    "for param_group in optimizer.param_groups:\n",
    "    lr_log.append(param_group[\"lr\"])\n",
    "acc_log = acc_log + metrics\n",
    "baseline_log = baseline_log + baseline"
   ]
  },
  {
   "cell_type": "code",
   "execution_count": 27,
   "metadata": {},
   "outputs": [],
   "source": [
    "lr = 10e-4/2./2/2/2/2\n",
    "loss_log=[]\n",
    "lr_log=[]\n",
    "acc_log=[]\n",
    "baseline_log=[]\n",
    "for k in losses :\n",
    "    loss_log.append(float(k))\n",
    "acc_log = acc_log + metrics\n",
    "baseline_log = baseline_log + baseline"
   ]
  },
  {
   "cell_type": "code",
   "execution_count": 44,
   "metadata": {},
   "outputs": [
    {
     "name": "stderr",
     "output_type": "stream",
     "text": [
      "No handles with labels found to put in legend.\n",
      "<ipython-input-44-c5eebc6553a0>:18: UserWarning: Matplotlib is currently using module://ipykernel.pylab.backend_inline, which is a non-GUI backend, so cannot show the figure.\n",
      "  fig.show()\n"
     ]
    },
    {
     "data": {
      "image/png": "[encoded data removed]",
      "text/plain": [
       "<Figure size 648x648 with 3 Axes>"
      ]
     },
     "metadata": {
      "needs_background": "light"
     },
     "output_type": "display_data"
    }
   ],
   "source": [
    "x = torch.arange(len(acc_log)).numpy()\n",
    "fig,ax = plt.subplots(3,1,figsize=(9, 9))\n",
    "\n",
    "#0 = loss & baseline\n",
    "#1 = Accuracy\n",
    "#2 = learing rate\n",
    "\n",
    "ax[0].plot(x, baseline_log, label=\"Baseline Loss\")\n",
    "ax[0].plot(x, loss_log, label=\"train Loss\")\n",
    "ax[1].plot(x, acc_log, label=\"Accuracy\")\n",
    "#ax[2].plot(len(x), lr_log, label=\"learing rate\")\n",
    "\n",
    "for k in ax :\n",
    "    k.legend()\n",
    "    k.grid(True)\n",
    "\n",
    "\n",
    "fig.show()"
   ]
  },
  {
   "cell_type": "code",
   "execution_count": 45,
   "metadata": {},
   "outputs": [],
   "source": [
    "with open('weight/convo_convo/baseline_log.pkl', 'wb') as f:\n",
    "    pickle.dump(baseline_log, f)\n",
    "with open('weight/convo_convo/loss_log.pkl', 'wb') as f:\n",
    "    pickle.dump(loss_log, f)\n",
    "with open('weight/convo_convo/acc_log.pkl', 'wb') as f:\n",
    "    pickle.dump(acc_log, f)\n",
    "with open('weight/convo_convo/lr_log.pkl', 'wb') as f:\n",
    "    pickle.dump(lr_log, f)"
   ]
  },
  {
   "cell_type": "markdown",
   "metadata": {},
   "source": [
    "## test"
   ]
  },
  {
   "cell_type": "code",
   "execution_count": 16,
   "metadata": {},
   "outputs": [],
   "source": [
    "batch = 64\n",
    "test = DataLoader(test_dataset, batch_size=batch, shuffle=True)"
   ]
  },
  {
   "cell_type": "code",
   "execution_count": 17,
   "metadata": {},
   "outputs": [],
   "source": [
    "def get_test_epoch(k):\n",
    "    for i in range(0,k) :\n",
    "        test_epoch()\n",
    "\n",
    "def test_epoch():\n",
    "    x,y =next(iter(test))\n",
    "    for i in range(batch) :\n",
    "        xb=x[i]\n",
    "        yb=y[i]\n",
    "        yhatb = model(xb)\n",
    "        acc = M_accuracy(yhatb, yb)    \n",
    "        metrics_test.append(acc)"
   ]
  },
  {
   "cell_type": "code",
   "execution_count": null,
   "metadata": {},
   "outputs": [],
   "source": [
    "print( \"accuracy : \", sum(metrics_test)/len(metrics_test))"
   ]
  },
  {
   "cell_type": "code",
   "execution_count": 18,
   "metadata": {},
   "outputs": [],
   "source": [
    "x,y = next(iter(test))\n",
    "xy=model(x)"
   ]
  },
  {
   "cell_type": "code",
   "execution_count": 23,
   "metadata": {},
   "outputs": [
    {
     "data": {
      "text/plain": [
       "torch.Size([1500, 88])"
      ]
     },
     "execution_count": 23,
     "metadata": {},
     "output_type": "execute_result"
    }
   ],
   "source": [
    "xy[0].shape"
   ]
  },
  {
   "cell_type": "code",
   "execution_count": 51,
   "metadata": {},
   "outputs": [],
   "source": [
    "tx = xy.detach().numpy()\n",
    "ty = y[0].detach().numpy()\n",
    "tx = 1*(tx>=0.5)"
   ]
  },
  {
   "cell_type": "code",
   "execution_count": 52,
   "metadata": {},
   "outputs": [
    {
     "data": {
      "text/plain": [
       "array([[1, 1, 1, ..., 1, 1, 1],\n",
       "       [1, 1, 1, ..., 1, 1, 1],\n",
       "       [1, 1, 1, ..., 1, 1, 1],\n",
       "       ...,\n",
       "       [1, 1, 1, ..., 1, 1, 1],\n",
       "       [1, 1, 1, ..., 1, 1, 1],\n",
       "       [1, 1, 1, ..., 1, 1, 1]])"
      ]
     },
     "execution_count": 52,
     "metadata": {},
     "output_type": "execute_result"
    }
   ],
   "source": [
    "check = 1*(tx==ty)\n",
    "check[0]"
   ]
  },
  {
   "cell_type": "code",
   "execution_count": 34,
   "metadata": {},
   "outputs": [
    {
     "data": {
      "text/plain": [
       "0.9661060606060606"
      ]
     },
     "execution_count": 34,
     "metadata": {},
     "output_type": "execute_result"
    }
   ],
   "source": [
    "check.mean()"
   ]
  },
  {
   "cell_type": "code",
   "execution_count": 36,
   "metadata": {},
   "outputs": [],
   "source": [
    "xy = 1*(xy>=0.5)"
   ]
  },
  {
   "cell_type": "code",
   "execution_count": 29,
   "metadata": {},
   "outputs": [
    {
     "data": {
      "text/plain": [
       "torch.Size([32, 1500, 88])"
      ]
     },
     "execution_count": 29,
     "metadata": {},
     "output_type": "execute_result"
    }
   ],
   "source": [
    "xy.size()"
   ]
  },
  {
   "cell_type": "code",
   "execution_count": null,
   "metadata": {},
   "outputs": [],
   "source": [
    "k.mean() * len(k)"
   ]
  },
  {
   "cell_type": "code",
   "execution_count": 39,
   "metadata": {},
   "outputs": [
    {
     "data": {
      "image/png": "[encoded data removed]",
      "text/plain": [
       "<Figure size 432x288 with 2 Axes>"
      ]
     },
     "metadata": {
      "needs_background": "light"
     },
     "output_type": "display_data"
    }
   ],
   "source": [
    "fig,ax = plt.subplots(2,1)\n",
    "k = torch.transpose(xy[0], 0,1).detach().numpy()\n",
    "ax[0].imshow(k)\n",
    "ky = torch.transpose(y[0], 0,1).detach().numpy()\n",
    "ax[1].imshow(ky)\n",
    "plt.show()"
   ]
  },
  {
   "cell_type": "code",
   "execution_count": 38,
   "metadata": {},
   "outputs": [
    {
     "data": {
      "image/png": "[encoded data removed]",
      "text/plain": [
       "<Figure size 864x720 with 2 Axes>"
      ]
     },
     "metadata": {
      "needs_background": "light"
     },
     "output_type": "display_data"
    }
   ],
   "source": [
    "x=np.arange(0,len(tx))\n",
    "fig,ax = plt.subplots(2,1)\n",
    "ax[0].grid(), ax[1].grid()\n",
    "ax[0].set_ylim(0, 88)\n",
    "ax[1].set_ylim(0, 88)\n",
    "\n",
    "fig.set_figwidth(12)\n",
    "fig.set_figheight(10)\n",
    "\n",
    "ax[0].set_title('model prediction')\n",
    "for i in range(1500):\n",
    "    for j in range(88) :\n",
    "        if(tx[0][i][j]==1) :\n",
    "            ax[0].scatter(i,j, s=2,c=\"b\") \n",
    "\n",
    "ax[1].set_title('true value')\n",
    "for i in range(1500):\n",
    "    for j in range(88) :\n",
    "        if(ty[i][j]==1) :\n",
    "            ax[1].scatter(i,j, s=2,c=\"b\") \n",
    "\n",
    "plt.show()"
   ]
  },
  {
   "cell_type": "code",
   "execution_count": 71,
   "metadata": {},
   "outputs": [
    {
     "name": "stdout",
     "output_type": "stream",
     "text": [
      "88.0\n"
     ]
    }
   ],
   "source": [
    "#วัดตัวที่ทายผิดใน epoch test\n",
    "\n",
    "N=np.array([])\n",
    "for i in range(batch) :\n",
    "    ct=0;\n",
    "    for j in range(1500) :\n",
    "        for k in range(88) : \n",
    "            if(xy[i][j][k] != y[i][j][k]) :\n",
    "                ct+=1    \n",
    "    N=np.append(N,ct)\n",
    "\n",
    "print(N.mean())"
   ]
  },
  {
   "cell_type": "code",
   "execution_count": 75,
   "metadata": {},
   "outputs": [
    {
     "name": "stdout",
     "output_type": "stream",
     "text": [
      "0.0\n"
     ]
    }
   ],
   "source": [
    "#วัดตัวที่ทาย 1 เป็น 0 ใน epoch test\n",
    "K=np.array([])\n",
    "for i in range(batch) :\n",
    "    for j in range(1500) :\n",
    "        ct,CT =0,0;\n",
    "        for k in range(88) : \n",
    "            if y[i][j][k]==1 :\n",
    "                CT+=1\n",
    "                if(xy[i][j][k]==0) :\n",
    "                    ct+=1\n",
    "        if(CT==0) :\n",
    "            if(ct==0) : K=np.append(K,0)\n",
    "            else : K=np.append(K,ct)\n",
    "        else : K=np.append(K,ct/CT)\n",
    "\n",
    "print(K.mean())"
   ]
  }
 ],
 "metadata": {
  "kernelspec": {
   "display_name": "Python 3.8.3 ('base')",
   "language": "python",
   "name": "python3"
  },
  "language_info": {
   "codemirror_mode": {
    "name": "ipython",
    "version": 3
   },
   "file_extension": ".py",
   "mimetype": "text/x-python",
   "name": "python",
   "nbconvert_exporter": "python",
   "pygments_lexer": "ipython3",
   "version": "3.8.3"
  },
  "orig_nbformat": 4,
  "vscode": {
   "interpreter": {
    "hash": "c9bf447bc3f95dcfbc19cb1a84d6b160112105653e59c16eb73ab72854d9f644"
   }
  }
 },
 "nbformat": 4,
 "nbformat_minor": 2
}
