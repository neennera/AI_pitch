{
 "cells": [
  {
   "cell_type": "code",
   "execution_count": 1,
   "metadata": {},
   "outputs": [],
   "source": [
    "import os,sys, operator\n",
    "import shutil, gzip, math\n",
    "import pickle\n",
    "import numpy as np                                       # fast vectors and matrices\n",
    "from glob import glob\n",
    "from time import time\n",
    "import matplotlib.pyplot as plt\n",
    "\n",
    "import tensorflow as tf\n",
    "\n",
    "import torch\n",
    "from torch.utils.data import Dataset\n",
    "from torchvision import datasets\n",
    "from torchvision.transforms import ToTensor\n",
    "from torch.utils.data import DataLoader\n",
    "from torch import optim\n",
    "from torch import tensor\n",
    "from torch import nn\n",
    "import torch.nn.functional as F\n",
    "from torch import nn\n",
    "\n",
    "from pathlib import Path\n",
    "from IPython.core.debugger import set_trace\n",
    "from collections import Counter\n",
    "\n",
    "%matplotlib inline"
   ]
  },
  {
   "cell_type": "markdown",
   "metadata": {},
   "source": [
    "## Data Loader"
   ]
  },
  {
   "cell_type": "code",
   "execution_count": 2,
   "metadata": {},
   "outputs": [],
   "source": [
    "train_feat_path=\"processed_dataset\\\\train\\\\feat\\\\\"\n",
    "train_label_path=\"processed_dataset\\\\train\\\\label\\\\\"\n",
    "test_feat_path=\"processed_dataset\\\\test\\\\feat\\\\\"\n",
    "test_label_path=\"processed_dataset\\\\test\\\\label\\\\\"\n",
    "\n",
    "train_name=os.listdir(train_feat_path)\n",
    "test_name=os.listdir(test_feat_path)\n",
    "\n",
    "class CustomTrainDataset(Dataset):\n",
    "    def __init__(self, feat_path=train_feat_path , label_path=train_label_path , transform=None, target_transform=None):\n",
    "        self.img_labels = os.listdir(train_feat_path)\n",
    "        self.feat_path = feat_path \n",
    "        self.label_path = label_path\n",
    "        self.transform = transform\n",
    "        self.target_transform = target_transform\n",
    "\n",
    "    def __len__(self):\n",
    "        return len(self.img_labels)\n",
    "\n",
    "    def __getitem__(self, idx):\n",
    "        data = (torch.from_numpy(np.load(self.feat_path +self.img_labels[idx])))\n",
    "        label = (torch.from_numpy(np.load(self.label_path +self.img_labels[idx])))\n",
    "        if self.transform:\n",
    "            data = self.transform(data)\n",
    "        if self.target_transform:\n",
    "            label = self.target_transform(label)\n",
    "        return data, label\n",
    "\n",
    "class CustomTestDataset(Dataset):\n",
    "    def __init__(self, feat_path=test_feat_path , label_path=test_label_path , transform=None, target_transform=None):\n",
    "        self.img_labels = os.listdir(train_feat_path)\n",
    "        self.feat_path = feat_path \n",
    "        self.label_path = label_path\n",
    "        self.transform = transform\n",
    "        self.target_transform = target_transform\n",
    "\n",
    "    def __len__(self):\n",
    "        return len(self.img_labels)\n",
    "\n",
    "    def __getitem__(self, idx):\n",
    "        data = (torch.from_numpy(np.load(self.feat_path +self.img_labels[idx])))\n",
    "        label = (torch.from_numpy(np.load(self.label_path +self.img_labels[idx])))\n",
    "        print(self.feat_path +self.img_labels[idx])\n",
    "        return data, label\n",
    "    \n",
    "    def demo() :\n",
    "        for indices in train :\n",
    "            yield collate_fn(train_dataset[i] for i in indices)\n"
   ]
  },
  {
   "cell_type": "code",
   "execution_count": 3,
   "metadata": {},
   "outputs": [],
   "source": [
    "train_dataset=CustomTrainDataset()\n",
    "test_dataset=CustomTrainDataset()"
   ]
  },
  {
   "cell_type": "markdown",
   "metadata": {},
   "source": [
    "## model"
   ]
  },
  {
   "cell_type": "code",
   "execution_count": 4,
   "metadata": {},
   "outputs": [],
   "source": [
    "class Model(nn.Module):\n",
    "    def __init__(self):\n",
    "        super().__init__()\n",
    "        time= 1500\n",
    "        batch = 32\n",
    "        \n",
    "        self.lstm_unit = 128\n",
    "        self.karnel= 3\n",
    "        self.stride = 5\n",
    "        feat = [120, 118, 256, 88]\n",
    "\n",
    "        #self.layers = [ nn.Conv1d( 1500, 1500, kernel_size) ] #, nn.ReLU()]\n",
    "        self.convo1 = nn.Conv1d( 120, 100, 3, padding='valid')\n",
    "        self.convo2 = nn.Conv1d( 100, 90, 2, padding='valid')\n",
    "        self.relu = nn.ReLU()\n",
    "        self.lstm = nn.LSTM(input_size=90, hidden_size=44, bidirectional=True, batch_first=True)\n",
    "        self.lstm2 = nn.LSTM(input_size=1497, hidden_size=128, bidirectional=True, batch_first=True)\n",
    "        self.linear = nn.Linear(1497,1500 , bias=True)\n",
    "\n",
    "    def __call__(self, x):\n",
    "        x=torch.transpose(x, 0, 1)  \n",
    "        x = self.convo1(x)\n",
    "        #x=torch.transpose(x, 0, 1) \n",
    "        x = self.convo2(x) \n",
    "        x = self.relu(x)\n",
    "        x = x+1\n",
    "        x = torch.log(x)\n",
    "\n",
    "        \n",
    "        #x, _ = self.lstm2(x)\n",
    "        x = self.linear(x)\n",
    "        \n",
    "        x=torch.transpose(x, 0, 1)\n",
    "        #print(x.size())   \n",
    "        x, _ = self.lstm(x)  \n",
    "        x = normalize(x)\n",
    "\n",
    "        return x\n",
    "\n",
    "def normalize(x, m, s): \n",
    "    return (x-m)/s\n",
    "\n",
    "class GetLSTMOutput(nn.Module):\n",
    "        def forward(self, x):\n",
    "            out, _ = x\n",
    "            return out"
   ]
  },
  {
   "cell_type": "code",
   "execution_count": 18,
   "metadata": {},
   "outputs": [],
   "source": [
    "x,y = next(iter(train))\n",
    "\n",
    "model = Model()\n",
    "optimizer = torch.optim.Adam(model.parameters(), lr=3e-4)\n",
    "xy =model(x[0])\n",
    "temp=x[0]\n",
    "ans_temp=xy"
   ]
  },
  {
   "cell_type": "code",
   "execution_count": 5,
   "metadata": {},
   "outputs": [],
   "source": [
    "loss_f = nn.MSELoss()\n",
    "def normalize(data): \n",
    "    return (data - data.min()) / (data.max()-data.min())\n",
    "\n",
    "def M_accuracy(yhat, y):\n",
    "    predictions = yhat.detach().numpy()\n",
    "    true_values = y.detach().numpy()\n",
    "    correct = (predictions >= 0.5) == true_values\n",
    "    return correct.mean().item()\n",
    "\n",
    "    predictions = (predictions >=0.5) \n",
    "    correct = ((predictions >=0.5) == true_values)\n",
    "    return correct.mean().item()\n",
    "\n",
    "def M_loss_func(yhat,y):\n",
    "    predictions = yhat\n",
    "    true_values = y\n",
    "    return loss_f(true_values, predictions)"
   ]
  },
  {
   "cell_type": "markdown",
   "metadata": {},
   "source": [
    "## loop"
   ]
  },
  {
   "cell_type": "code",
   "execution_count": 6,
   "metadata": {},
   "outputs": [],
   "source": [
    "from torch.utils.data import DataLoader\n",
    "batch = 16\n",
    "train = DataLoader(train_dataset, batch_size=batch, shuffle=True)\n",
    "test = DataLoader(test_dataset, batch_size=batch, shuffle=True)\n",
    "epoch = len(train)"
   ]
  },
  {
   "cell_type": "code",
   "execution_count": 7,
   "metadata": {},
   "outputs": [],
   "source": [
    "def get_epoch(k):\n",
    "    print(\"epoch\",\"\\t train loss \\t accuracy \\t\\t val loss\")\n",
    "    train_loss ,train_acc, val_loss=0,0,0\n",
    "    for i in range(0,k) :\n",
    "        train_epoch(i)\n",
    "\n",
    "def train_epoch(k):\n",
    "    x,y =next(iter(train))\n",
    "    train_batch_loss = []\n",
    "    train_batch_acc = []\n",
    "    for i in range(batch) :\n",
    "        xb=x[i]\n",
    "        yb=y[i]\n",
    "        \n",
    "        yhatb = model(xb)\n",
    "        loss = M_loss_func(yhatb, yb)\n",
    "        acc = M_accuracy(yhatb, yb)\n",
    "        \n",
    "        train_batch_loss.append(loss.detach().cpu().numpy())\n",
    "        train_batch_acc.append(acc)\n",
    "        baseline_mse = nn.MSELoss()(torch.zeros_like(yb), yb)\n",
    "        \n",
    "        optimizer.zero_grad()\n",
    "        loss.backward()\n",
    "        optimizer.step()\n",
    "\n",
    "        losses.append(loss.detach().cpu().numpy()),metrics.append(acc)\n",
    "        baseline.append(baseline_mse)  \n",
    "\n",
    "    train_loss = np.mean(train_batch_loss)  # average train loss among all batches\n",
    "    train_acc = np.mean(train_batch_acc)  # average acc among all batches     \n",
    "\n",
    "    val_batch_loss = []\n",
    "    xx,yy =next(iter(test))\n",
    "    for i in range(batch) :\n",
    "        xb=xx[i]\n",
    "        yb=yy[i]\n",
    "        \n",
    "        # we don't need to calculate gradients when evaluating\n",
    "        with torch.no_grad():\n",
    "            yhatb = model(xb)  # forward propagation\n",
    "            loss = M_loss_func(yhatb, yb)  # compute val loss\n",
    "        val_batch_loss.append(loss.cpu().numpy())\n",
    "    \n",
    "    val_loss = np.mean(val_batch_loss)\n",
    "    print(k, \"\\t\", train_loss , \"\\t\", train_acc,\"\\t\", val_loss, \"\\t\" , yhatb.mean())"
   ]
  },
  {
   "cell_type": "code",
   "execution_count": 8,
   "metadata": {},
   "outputs": [],
   "source": [
    "device = \"cuda\" if torch.cuda.is_available() else \"cpu\"\n",
    "model = Model()\n",
    "model = model.to(device)\n",
    "#model.load_state_dict(torch.load(\"weight/convo1/mymodel.pt\"))"
   ]
  },
  {
   "cell_type": "code",
   "execution_count": 28,
   "metadata": {},
   "outputs": [
    {
     "name": "stdout",
     "output_type": "stream",
     "text": [
      "epoch \t train loss \t accuracy \t\t val loss\n",
      "0 \t 0.07252851 \t 0.956464962121212 \t 0.06948987 \t tensor(0.1646)\n",
      "1 \t 0.07084801 \t 0.957640625 \t 0.07127616 \t tensor(0.1609)\n",
      "2 \t 0.069393866 \t 0.9597580492424242 \t 0.071019895 \t tensor(0.1597)\n",
      "3 \t 0.068941645 \t 0.9595473484848485 \t 0.07111661 \t tensor(0.1599)\n",
      "4 \t 0.070494294 \t 0.9562054924242425 \t 0.07251008 \t tensor(0.1650)\n",
      "5 \t 0.07359615 \t 0.9528484848484848 \t 0.072137356 \t tensor(0.1664)\n",
      "6 \t 0.073216125 \t 0.9566321022727273 \t 0.07827478 \t tensor(0.1770)\n",
      "7 \t 0.084571935 \t 0.9527064393939395 \t 0.097948104 \t tensor(0.2520)\n",
      "8 \t 0.090992376 \t 0.948234375 \t 0.07626639 \t tensor(0.1803)\n",
      "9 \t 0.07825744 \t 0.9512561553030303 \t 0.07603091 \t tensor(0.1696)\n",
      "10 \t 0.07516594 \t 0.954825284090909 \t 0.07565817 \t tensor(0.1732)\n",
      "11 \t 0.075086996 \t 0.9537447916666667 \t 0.07395184 \t tensor(0.1644)\n",
      "12 \t 0.07465688 \t 0.9527490530303031 \t 0.07187182 \t tensor(0.1638)\n",
      "13 \t 0.0743565 \t 0.9541458333333334 \t 0.07082865 \t tensor(0.1634)\n",
      "14 \t 0.07787031 \t 0.9583357007575758 \t 0.07235508 \t tensor(0.1636)\n"
     ]
    }
   ],
   "source": [
    "losses, metrics, baseline = [], [], []\n",
    "\n",
    "#optimizer = torch.optim.SGD(model.parameters(), lr=10e-4/2./2/2/2/2, momentum=0.95)\n",
    "optimizer = torch.optim.SGD(model.parameters(), lr=0.01, momentum=0.95)\n",
    "#model=Model()\n",
    "model.load_state_dict(torch.load(\"weight/convo1/mymodel.pt\"))\n",
    "get_epoch(15)\n",
    "torch.save(model.state_dict(), \"weight/convo1/mymodel.pt\")"
   ]
  },
  {
   "cell_type": "code",
   "execution_count": 71,
   "metadata": {},
   "outputs": [],
   "source": [
    "with open('weight/convo1/baseline_log.pkl', 'rb') as f:\n",
    "    baseline_log = pickle.load(f)\n",
    "with open('weight/convo1/loss_log.pkl', 'rb') as f:\n",
    "    loss_log = pickle.load(f)\n",
    "with open('weight/convo1/acc_log.pkl', 'rb') as f:\n",
    "    acc_log = pickle.load(f)\n",
    "with open('weight/convo1/lr_log.pkl', 'rb') as f:\n",
    "    lr_log = pickle.load(f)"
   ]
  },
  {
   "cell_type": "markdown",
   "metadata": {},
   "source": [
    "## Graph Represent"
   ]
  },
  {
   "cell_type": "code",
   "execution_count": 72,
   "metadata": {},
   "outputs": [],
   "source": [
    "for k in losses :\n",
    "    loss_log.append(float(k))\n",
    "for i in range(len(baseline)) :\n",
    "    lr_log.append(lr)\n",
    "acc_log = acc_log + metrics\n",
    "baseline_log = baseline_log + baseline"
   ]
  },
  {
   "cell_type": "code",
   "execution_count": 29,
   "metadata": {},
   "outputs": [],
   "source": [
    "lr=10e-4/2./2/2/2/2\n",
    "'''acc_log=[]\n",
    "baseline_log=[]\n",
    "loss_log=[]\n",
    "lr_log=[]'''\n",
    "\n",
    "for k in losses :\n",
    "    loss_log.append(float(k))\n",
    "for i in range(len(baseline)) :\n",
    "    lr_log.append(lr)\n",
    "acc_log = acc_log + metrics\n",
    "baseline_log = baseline_log + baseline"
   ]
  },
  {
   "cell_type": "code",
   "execution_count": 30,
   "metadata": {},
   "outputs": [
    {
     "name": "stderr",
     "output_type": "stream",
     "text": [
      "<ipython-input-30-867ec72a6036>:18: UserWarning: Matplotlib is currently using module://ipykernel.pylab.backend_inline, which is a non-GUI backend, so cannot show the figure.\n",
      "  fig.show()\n"
     ]
    },
    {
     "data": {
      "image/png": "[encoded data removed]",
      "text/plain": [
       "<Figure size 648x648 with 3 Axes>"
      ]
     },
     "metadata": {
      "needs_background": "light"
     },
     "output_type": "display_data"
    }
   ],
   "source": [
    "x = torch.arange(len(acc_log)).numpy()\n",
    "fig,ax = plt.subplots(3,1,figsize=(9, 9))\n",
    "\n",
    "#0 = loss & baseline\n",
    "#1 = Accuracy\n",
    "#2 = learing rate\n",
    "\n",
    "ax[0].plot(x, baseline_log, label=\"Baseline Loss\")\n",
    "ax[0].plot(x, loss_log, label=\"train Loss\")\n",
    "ax[1].plot(x, acc_log, label=\"Accuracy\")\n",
    "ax[2].plot(x, lr_log, label=\"learing rate\")\n",
    "\n",
    "for k in ax :\n",
    "    k.legend()\n",
    "    k.grid(True)\n",
    "\n",
    "\n",
    "fig.show()"
   ]
  },
  {
   "cell_type": "code",
   "execution_count": 31,
   "metadata": {},
   "outputs": [],
   "source": [
    "with open('weight/convo1/baseline_log.pkl', 'wb') as f:\n",
    "    pickle.dump(baseline_log, f)\n",
    "with open('weight/convo1/loss_log.pkl', 'wb') as f:\n",
    "    pickle.dump(loss_log, f)\n",
    "with open('weight/convo1/acc_log.pkl', 'wb') as f:\n",
    "    pickle.dump(acc_log, f)\n",
    "with open('weight/convo1/lr_log.pkl', 'wb') as f:\n",
    "    pickle.dump(lr_log, f)"
   ]
  },
  {
   "cell_type": "markdown",
   "metadata": {},
   "source": [
    "## TEST"
   ]
  },
  {
   "cell_type": "code",
   "execution_count": 32,
   "metadata": {},
   "outputs": [],
   "source": [
    "batch = 16\n",
    "test = DataLoader(test_dataset, batch_size=batch, shuffle=True)"
   ]
  },
  {
   "cell_type": "code",
   "execution_count": 33,
   "metadata": {},
   "outputs": [],
   "source": [
    "def get_test_epoch(k):\n",
    "    for i in range(0,k) :\n",
    "        test_epoch()\n",
    "\n",
    "def test_epoch():\n",
    "    x,y =next(iter(test))\n",
    "    for i in range(batch) :\n",
    "        xb=x[i]\n",
    "        yb=y[i]\n",
    "        yhatb = model(xb)\n",
    "        acc = M_accuracy(yhatb, yb)    \n",
    "        metrics_test.append(acc)"
   ]
  },
  {
   "cell_type": "code",
   "execution_count": 34,
   "metadata": {},
   "outputs": [],
   "source": [
    "metrics_test=[]\n",
    "get_test_epoch(10)"
   ]
  },
  {
   "cell_type": "code",
   "execution_count": 35,
   "metadata": {},
   "outputs": [
    {
     "name": "stdout",
     "output_type": "stream",
     "text": [
      "accuracy :  0.9546439867424235\n"
     ]
    }
   ],
   "source": [
    "print( \"accuracy : \", sum(metrics_test)/len(metrics_test))"
   ]
  },
  {
   "cell_type": "code",
   "execution_count": 36,
   "metadata": {},
   "outputs": [],
   "source": [
    "x,y = next(iter(test))\n",
    "xy=model(x[0])"
   ]
  },
  {
   "cell_type": "code",
   "execution_count": 37,
   "metadata": {},
   "outputs": [],
   "source": [
    "tx = xy.detach().numpy()\n",
    "ty = y.detach().numpy()\n",
    "tx = 1*(tx>=0.5)"
   ]
  },
  {
   "cell_type": "code",
   "execution_count": 38,
   "metadata": {},
   "outputs": [
    {
     "data": {
      "text/plain": [
       "(1, 0, 0.01268939393939394)"
      ]
     },
     "execution_count": 38,
     "metadata": {},
     "output_type": "execute_result"
    }
   ],
   "source": [
    "tx.max(),tx.min(),tx.mean()"
   ]
  },
  {
   "cell_type": "code",
   "execution_count": 39,
   "metadata": {},
   "outputs": [
    {
     "data": {
      "text/plain": [
       "(array([0, 0, 0, 0, 1, 0, 0, 0, 0, 0, 0, 0, 0, 0, 0, 0, 0, 1, 0, 0, 0, 0,\n",
       "        0, 0, 0, 0, 0, 0, 1, 0, 0, 0, 0, 0, 0, 0, 0, 0, 0, 0, 0, 0, 0, 0,\n",
       "        0, 0, 0, 0, 0, 0, 0, 0, 0, 0, 0, 0, 0, 0, 0, 0, 0, 0, 0, 0, 0, 0,\n",
       "        0, 0, 0, 0, 0, 0, 0, 0, 0, 0, 0, 0, 0, 0, 0, 0, 0, 0, 0, 0, 0, 0]),\n",
       " tensor([0., 0., 0., 0., 0., 0., 0., 0., 0., 0., 0., 0., 0., 0., 0., 0., 0., 0.,\n",
       "         0., 0., 0., 0., 0., 0., 1., 0., 0., 0., 0., 0., 0., 0., 0., 0., 0., 0.,\n",
       "         0., 0., 0., 0., 0., 0., 1., 0., 0., 0., 1., 0., 0., 0., 0., 0., 1., 0.,\n",
       "         0., 0., 0., 0., 0., 0., 0., 0., 0., 0., 0., 0., 0., 0., 0., 0., 0., 0.,\n",
       "         0., 0., 0., 0., 0., 0., 0., 0., 0., 0., 0., 0., 0., 0., 0., 0.]))"
      ]
     },
     "execution_count": 39,
     "metadata": {},
     "output_type": "execute_result"
    }
   ],
   "source": [
    "tx[0], y[0][0]"
   ]
  },
  {
   "cell_type": "code",
   "execution_count": 53,
   "metadata": {},
   "outputs": [
    {
     "data": {
      "image/png": "[encoded data removed]",
      "text/plain": [
       "<Figure size 864x720 with 2 Axes>"
      ]
     },
     "metadata": {
      "needs_background": "light"
     },
     "output_type": "display_data"
    }
   ],
   "source": [
    "id=0\n",
    "x=np.arange(0,len(tx[id]))\n",
    "fig,ax = plt.subplots(2,1)\n",
    "ax[0].grid(), ax[1].grid()\n",
    "ax[0].set_ylim(0, 88)\n",
    "ax[1].set_ylim(0, 88)\n",
    "\n",
    "fig.set_figwidth(12)\n",
    "fig.set_figheight(10)\n",
    "\n",
    "ax[0].set_title('model prediction')\n",
    "for i in range(1500):\n",
    "    for j in range(88) :\n",
    "        if(tx[i][j]==1) :\n",
    "            ax[0].scatter(i,j, s=2,c=\"b\") \n",
    "\n",
    "ax[1].set_title('true value')\n",
    "for i in range(1500):\n",
    "    for j in range(88) :\n",
    "        if(ty[id][i][j]==1) :\n",
    "            ax[1].scatter(i,j, s=2,c=\"b\") \n",
    "\n",
    "plt.show()"
   ]
  },
  {
   "cell_type": "code",
   "execution_count": 71,
   "metadata": {},
   "outputs": [
    {
     "name": "stdout",
     "output_type": "stream",
     "text": [
      "88.0\n"
     ]
    }
   ],
   "source": [
    "#วัดตัวที่ทายผิดใน epoch test\n",
    "\n",
    "N=np.array([])\n",
    "for i in range(batch) :\n",
    "    ct=0;\n",
    "    for j in range(1500) :\n",
    "        for k in range(88) : \n",
    "            if(xy[i][j][k] != y[i][j][k]) :\n",
    "                ct+=1    \n",
    "    N=np.append(N,ct)\n",
    "\n",
    "print(N.mean())"
   ]
  },
  {
   "cell_type": "code",
   "execution_count": 75,
   "metadata": {},
   "outputs": [
    {
     "name": "stdout",
     "output_type": "stream",
     "text": [
      "0.0\n"
     ]
    }
   ],
   "source": [
    "#วัดตัวที่ทาย 1 เป็น 0 ใน epoch test\n",
    "K=np.array([])\n",
    "for i in range(batch) :\n",
    "    for j in range(1500) :\n",
    "        ct,CT =0,0;\n",
    "        for k in range(88) : \n",
    "            if y[i][j][k]==1 :\n",
    "                CT+=1\n",
    "                if(xy[i][j][k]==0) :\n",
    "                    ct+=1\n",
    "        if(CT==0) :\n",
    "            if(ct==0) : K=np.append(K,0)\n",
    "            else : K=np.append(K,ct)\n",
    "        else : K=np.append(K,ct/CT)\n",
    "\n",
    "print(K.mean())"
   ]
  }
 ],
 "metadata": {
  "interpreter": {
   "hash": "c9bf447bc3f95dcfbc19cb1a84d6b160112105653e59c16eb73ab72854d9f644"
  },
  "kernelspec": {
   "display_name": "Python 3.8.3 ('base')",
   "language": "python",
   "name": "python3"
  },
  "language_info": {
   "codemirror_mode": {
    "name": "ipython",
    "version": 3
   },
   "file_extension": ".py",
   "mimetype": "text/x-python",
   "name": "python",
   "nbconvert_exporter": "python",
   "pygments_lexer": "ipython3",
   "version": "3.8.3"
  },
  "orig_nbformat": 4
 },
 "nbformat": 4,
 "nbformat_minor": 2
}
