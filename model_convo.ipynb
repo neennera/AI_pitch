{
 "cells": [
  {
   "cell_type": "code",
   "execution_count": 1,
   "metadata": {},
   "outputs": [],
   "source": [
    "import os,sys, operator\n",
    "import shutil, gzip, math\n",
    "import pickle\n",
    "import numpy as np                                       # fast vectors and matrices\n",
    "from glob import glob\n",
    "from time import time\n",
    "import matplotlib.pyplot as plt\n",
    "\n",
    "import tensorflow as tf\n",
    "\n",
    "import torch\n",
    "from torch.utils.data import DataLoader\n",
    "from torch import optim\n",
    "from torch import tensor\n",
    "from torch import nn\n",
    "import torch.nn.functional as F\n",
    "from torch import nn\n",
    "\n",
    "from pathlib import Path\n",
    "from IPython.core.debugger import set_trace\n",
    "from collections import Counter\n",
    "\n",
    "%matplotlib inline"
   ]
  },
  {
   "cell_type": "markdown",
   "metadata": {},
   "source": [
    "## Data Loader"
   ]
  },
  {
   "cell_type": "code",
   "execution_count": 2,
   "metadata": {},
   "outputs": [],
   "source": [
    "from torch.utils.data import Dataset"
   ]
  },
  {
   "cell_type": "code",
   "execution_count": 7,
   "metadata": {},
   "outputs": [],
   "source": [
    "train_feat_path=\"processed_dataset\\\\train\\\\feat\\\\\"\n",
    "train_label_path=\"processed_dataset\\\\train\\\\label\\\\\"\n",
    "test_feat_path=\"processed_dataset\\\\test\\\\feat\\\\\"\n",
    "test_label_path=\"processed_dataset\\\\test\\\\label\\\\\"\n",
    "\n",
    "train_name=os.listdir(train_feat_path)\n",
    "test_name=os.listdir(test_feat_path)\n",
    "\n",
    "class CustomTrainDataset(Dataset):\n",
    "    def __init__(self, feat_path=train_feat_path , label_path=train_label_path , transform=None, target_transform=None):\n",
    "        self.img_labels = os.listdir(train_feat_path)\n",
    "        self.feat_path = feat_path \n",
    "        self.label_path = label_path\n",
    "        self.transform = transform\n",
    "        self.target_transform = target_transform\n",
    "\n",
    "    def __len__(self):\n",
    "        return len(self.img_labels)\n",
    "\n",
    "    def __getitem__(self, idx):\n",
    "        data = (torch.from_numpy(np.load(self.feat_path +self.img_labels[idx])))\n",
    "        label = (torch.from_numpy(np.load(self.label_path +self.img_labels[idx])))\n",
    "        if self.transform:\n",
    "            data = self.transform(data)\n",
    "        if self.target_transform:\n",
    "            label = self.target_transform(label)\n",
    "        return data, label\n",
    "\n",
    "class CustomTestDataset(Dataset):\n",
    "    def __init__(self, feat_path=test_feat_path , label_path=test_label_path , transform=None, target_transform=None):\n",
    "        self.img_labels = os.listdir(train_feat_path)\n",
    "        self.feat_path = feat_path \n",
    "        self.label_path = label_path\n",
    "        self.transform = transform\n",
    "        self.target_transform = target_transform\n",
    "\n",
    "    def __len__(self):\n",
    "        return len(self.img_labels)\n",
    "\n",
    "    def __getitem__(self, idx):\n",
    "        data = (torch.from_numpy(np.load(self.feat_path +self.img_labels[idx])))\n",
    "        label = (torch.from_numpy(np.load(self.label_path +self.img_labels[idx])))\n",
    "        print(self.feat_path +self.img_labels[idx])\n",
    "        return data, label\n",
    "    \n",
    "    def demo() :\n",
    "        for indices in train :\n",
    "            yield collate_fn(train_dataset[i] for i in indices)\n"
   ]
  },
  {
   "cell_type": "code",
   "execution_count": 8,
   "metadata": {},
   "outputs": [],
   "source": [
    "train_dataset=CustomTrainDataset()\n",
    "test_dataset=CustomTrainDataset()"
   ]
  },
  {
   "cell_type": "markdown",
   "metadata": {},
   "source": [
    "## model"
   ]
  },
  {
   "cell_type": "code",
   "execution_count": 9,
   "metadata": {},
   "outputs": [],
   "source": [
    "class Model(nn.Module):\n",
    "    def __init__(self):\n",
    "        super().__init__()\n",
    "        time= 1500\n",
    "        batch = 32\n",
    "        \n",
    "        self.lstm_unit = 128\n",
    "        self.karnel= 3\n",
    "        self.stride = 5\n",
    "        feat = [120, 118, 256, 88]\n",
    "\n",
    "        #self.layers = [ nn.Conv1d( 1500, 1500, kernel_size) ] #, nn.ReLU()]\n",
    "        self.convo1 = nn.Conv1d( 120, 100, 3, padding='same')  # ลอง padding=\"same\" เพื่อให้ time เท่าเดิมครับ\n",
    "        self.convo2 = nn.Conv1d( 1500, 1000, 5, padding='same') \n",
    "        self.relu = nn.ReLU()\n",
    "        self.lstm = nn.LSTM(input_size=100, hidden_size=44, bidirectional=True, batch_first=True)\n",
    "        self.lstm2 = nn.LSTM(input_size=998, hidden_size=128, bidirectional=True, batch_first=True)\n",
    "        self.linear = nn.Linear(998,1500 , bias=True)\n",
    "\n",
    "    def __call__(self, x):\n",
    "        x = normalized(x)  # ควรมาใส่ตรงนี้คับ\n",
    "        #x = self.convo2(x)  # <-- อันนี้ไม่ต้องครับ\n",
    "        x = torch.transpose(x, 1,2)  # reformat from (B, T, C) to (B, C, T)\n",
    "        x = self.convo1(x)   # (B, C=120, T=1500) -> (B, C=conv1_out_dim, T=1500)\n",
    "        x= self.relu(x)\n",
    "        # เพิ่ม conv2 จากนี้ก้ได้คับ\n",
    "        #x = self.relu(x)\n",
    "       \n",
    "        x = torch.transpose(x, 1,2)  # convert (B, C, T) -> (B, T, C)\n",
    "        x, _ = self.lstm(x)  # lstm\n",
    "        return x\n",
    "\n",
    "def normalized(data):\n",
    "    return (data - data.mean(1, keepdims=True)) / data.std(1, keepdims=True)"
   ]
  },
  {
   "cell_type": "code",
   "execution_count": null,
   "metadata": {},
   "outputs": [],
   "source": [
    "x,y = next(iter(train))\n",
    "\n",
    "model = Model()\n",
    "optimizer = torch.optim.Adam(model.parameters(), lr=3e-4)\n",
    "xy =model(x[0])\n",
    "temp=x[0]\n",
    "ans_temp=xy"
   ]
  },
  {
   "cell_type": "code",
   "execution_count": 10,
   "metadata": {},
   "outputs": [],
   "source": [
    "loss_f = nn.MSELoss()\n",
    "\n",
    "def M_accuracy(yhat, y):\n",
    "    predictions = yhat.detach().numpy()\n",
    "    true_values = y.detach().numpy()\n",
    "    correct = (predictions >= 0.5) == true_values\n",
    "    return correct.mean().item()\n",
    "\n",
    "def M_loss_func(yhat,y):\n",
    "\n",
    "    predictions = yhat\n",
    "    true_values = y\n",
    "    return loss_f(true_values, predictions) #*128/2."
   ]
  },
  {
   "cell_type": "markdown",
   "metadata": {},
   "source": [
    "## loop"
   ]
  },
  {
   "cell_type": "code",
   "execution_count": 11,
   "metadata": {},
   "outputs": [],
   "source": [
    "from torch.utils.data import DataLoader\n",
    "batch = 32\n",
    "train = DataLoader(train_dataset, batch_size=batch, shuffle=True)\n",
    "test = DataLoader(test_dataset, batch_size=batch, shuffle=True)\n",
    "epoch = len(train)"
   ]
  },
  {
   "cell_type": "code",
   "execution_count": 12,
   "metadata": {},
   "outputs": [],
   "source": [
    "def get_epoch(k):\n",
    "    print(\"epoch\",\"\\t train loss \\t accuracy \\t\\t val loss\")\n",
    "    train_loss ,train_acc, val_loss=0,0,0\n",
    "    for i in range(0,k) :\n",
    "        train_epoch(i)\n",
    "\n",
    "def train_epoch(k):\n",
    "    train_batch_loss = []\n",
    "    train_batch_acc = []\n",
    "    for batch in train:\n",
    "        xb, yb = batch\n",
    "        optimizer.zero_grad()\n",
    "        \n",
    "        yhatb = model(xb)\n",
    "        loss = M_loss_func(yhatb, yb)\n",
    "        acc = M_accuracy(yhatb, yb)\n",
    "               \n",
    "        \n",
    "        loss.backward()\n",
    "        optimizer.step()\n",
    "\n",
    "        train_batch_loss.append(loss.detach().cpu().numpy())\n",
    "        train_batch_acc.append(acc)\n",
    "        baseline_mse = M_loss_func(torch.zeros_like(yb), yb)\n",
    "\n",
    "        losses.append(loss.detach().cpu().numpy()),metrics.append(acc)\n",
    "        baseline.append(baseline_mse)  \n",
    "\n",
    "    train_loss = np.mean(train_batch_loss)  # average train loss among all batches\n",
    "    train_acc = np.mean(train_batch_acc)  # average acc among all batches     \n",
    "\n",
    "    val_batch_loss = []\n",
    "    for batch in test:\n",
    "        x, y = batch\n",
    "        x = x.to(device)\n",
    "        y = y.to(device)\n",
    "        \n",
    "        # we don't need to calculate gradients when evaluating\n",
    "        with torch.no_grad():\n",
    "            yhatb = model(x)  # forward propagation\n",
    "            loss = M_loss_func(yhatb, y)  # compute val loss\n",
    "        val_batch_loss.append(loss.cpu().numpy())\n",
    "    \n",
    "    val_loss = np.mean(val_batch_loss)\n",
    "    print(k, \"\\t\", train_loss , \"\\t\", train_acc,\"\\t\", val_loss, \"\\t\" , yhatb.mean())"
   ]
  },
  {
   "cell_type": "code",
   "execution_count": 13,
   "metadata": {},
   "outputs": [],
   "source": [
    "device = \"cuda\" if torch.cuda.is_available() else \"cpu\"\n",
    "model = Model()\n",
    "model = model.to(device)\n",
    "#model.load_state_dict(torch.load(\"weight/convo1/mymodel.pt\"))"
   ]
  },
  {
   "cell_type": "code",
   "execution_count": 14,
   "metadata": {},
   "outputs": [
    {
     "name": "stdout",
     "output_type": "stream",
     "text": [
      "epoch \t train loss \t accuracy \t\t val loss\n",
      "0 \t 0.059502628 \t 0.9642463966497683 \t 0.059530035 \t tensor(0.0071)\n",
      "1 \t 0.059519414 \t 0.9642345524084834 \t 0.05948194 \t tensor(0.0066)\n",
      "2 \t 0.059484486 \t 0.9642702186337054 \t 0.059496917 \t tensor(0.0066)\n",
      "3 \t 0.05956118 \t 0.9642013532885244 \t 0.059532344 \t tensor(0.0067)\n",
      "4 \t 0.05955235 \t 0.9641925742386269 \t 0.059543338 \t tensor(0.0062)\n",
      "5 \t 0.059491303 \t 0.9642597361063644 \t 0.05953118 \t tensor(0.0065)\n",
      "6 \t 0.059479386 \t 0.9642702239737602 \t 0.05949399 \t tensor(0.0067)\n",
      "7 \t 0.059486933 \t 0.9642704909764942 \t 0.059475314 \t tensor(0.0064)\n",
      "8 \t 0.059512917 \t 0.9642395720598845 \t 0.05953782 \t tensor(0.0067)\n",
      "9 \t 0.059485596 \t 0.9642681680527077 \t 0.059490614 \t tensor(0.0068)\n",
      "10 \t 0.05951579 \t 0.9642352572957014 \t 0.059489224 \t tensor(0.0068)\n",
      "11 \t 0.059477232 \t 0.9642709769214703 \t 0.059509102 \t tensor(0.0069)\n",
      "12 \t 0.059520293 \t 0.9642226868069796 \t 0.05951962 \t tensor(0.0068)\n",
      "13 \t 0.05954217 \t 0.964217656475469 \t 0.059483834 \t tensor(0.0065)\n",
      "14 \t 0.059519332 \t 0.9642387229911901 \t 0.059510875 \t tensor(0.0067)\n",
      "15 \t 0.059533603 \t 0.9642231246914635 \t 0.059539713 \t tensor(0.0067)\n",
      "16 \t 0.0595208 \t 0.9642396201203768 \t 0.059491396 \t tensor(0.0071)\n",
      "17 \t 0.059511498 \t 0.9642459160448468 \t 0.059495 \t tensor(0.0064)\n",
      "18 \t 0.05951053 \t 0.9642428401733502 \t 0.059496835 \t tensor(0.0069)\n"
     ]
    },
    {
     "ename": "KeyboardInterrupt",
     "evalue": "",
     "output_type": "error",
     "traceback": [
      "\u001b[1;31m---------------------------------------------------------------------------\u001b[0m",
      "\u001b[1;31mKeyboardInterrupt\u001b[0m                         Traceback (most recent call last)",
      "\u001b[1;32m<ipython-input-14-43a0ec5e26df>\u001b[0m in \u001b[0;36m<module>\u001b[1;34m\u001b[0m\n\u001b[0;32m      6\u001b[0m \u001b[0mmodel\u001b[0m\u001b[1;33m=\u001b[0m\u001b[0mModel\u001b[0m\u001b[1;33m(\u001b[0m\u001b[1;33m)\u001b[0m\u001b[1;33m\u001b[0m\u001b[1;33m\u001b[0m\u001b[0m\n\u001b[0;32m      7\u001b[0m \u001b[1;31m#model.load_state_dict(torch.load(\"weight/linear/mymodel.pt\"))\u001b[0m\u001b[1;33m\u001b[0m\u001b[1;33m\u001b[0m\u001b[1;33m\u001b[0m\u001b[0m\n\u001b[1;32m----> 8\u001b[1;33m \u001b[0mget_epoch\u001b[0m\u001b[1;33m(\u001b[0m\u001b[1;36m25\u001b[0m\u001b[1;33m)\u001b[0m\u001b[1;33m\u001b[0m\u001b[1;33m\u001b[0m\u001b[0m\n\u001b[0m\u001b[0;32m      9\u001b[0m \u001b[0mtorch\u001b[0m\u001b[1;33m.\u001b[0m\u001b[0msave\u001b[0m\u001b[1;33m(\u001b[0m\u001b[0mmodel\u001b[0m\u001b[1;33m.\u001b[0m\u001b[0mstate_dict\u001b[0m\u001b[1;33m(\u001b[0m\u001b[1;33m)\u001b[0m\u001b[1;33m,\u001b[0m \u001b[1;34m\"weight/convo/mymodel.pt\"\u001b[0m\u001b[1;33m)\u001b[0m\u001b[1;33m\u001b[0m\u001b[1;33m\u001b[0m\u001b[0m\n",
      "\u001b[1;32m<ipython-input-12-6a468443a666>\u001b[0m in \u001b[0;36mget_epoch\u001b[1;34m(k)\u001b[0m\n\u001b[0;32m      3\u001b[0m     \u001b[0mtrain_loss\u001b[0m \u001b[1;33m,\u001b[0m\u001b[0mtrain_acc\u001b[0m\u001b[1;33m,\u001b[0m \u001b[0mval_loss\u001b[0m\u001b[1;33m=\u001b[0m\u001b[1;36m0\u001b[0m\u001b[1;33m,\u001b[0m\u001b[1;36m0\u001b[0m\u001b[1;33m,\u001b[0m\u001b[1;36m0\u001b[0m\u001b[1;33m\u001b[0m\u001b[1;33m\u001b[0m\u001b[0m\n\u001b[0;32m      4\u001b[0m     \u001b[1;32mfor\u001b[0m \u001b[0mi\u001b[0m \u001b[1;32min\u001b[0m \u001b[0mrange\u001b[0m\u001b[1;33m(\u001b[0m\u001b[1;36m0\u001b[0m\u001b[1;33m,\u001b[0m\u001b[0mk\u001b[0m\u001b[1;33m)\u001b[0m \u001b[1;33m:\u001b[0m\u001b[1;33m\u001b[0m\u001b[1;33m\u001b[0m\u001b[0m\n\u001b[1;32m----> 5\u001b[1;33m         \u001b[0mtrain_epoch\u001b[0m\u001b[1;33m(\u001b[0m\u001b[0mi\u001b[0m\u001b[1;33m)\u001b[0m\u001b[1;33m\u001b[0m\u001b[1;33m\u001b[0m\u001b[0m\n\u001b[0m\u001b[0;32m      6\u001b[0m \u001b[1;33m\u001b[0m\u001b[0m\n\u001b[0;32m      7\u001b[0m \u001b[1;32mdef\u001b[0m \u001b[0mtrain_epoch\u001b[0m\u001b[1;33m(\u001b[0m\u001b[0mk\u001b[0m\u001b[1;33m)\u001b[0m\u001b[1;33m:\u001b[0m\u001b[1;33m\u001b[0m\u001b[1;33m\u001b[0m\u001b[0m\n",
      "\u001b[1;32m<ipython-input-12-6a468443a666>\u001b[0m in \u001b[0;36mtrain_epoch\u001b[1;34m(k)\u001b[0m\n\u001b[0;32m     17\u001b[0m \u001b[1;33m\u001b[0m\u001b[0m\n\u001b[0;32m     18\u001b[0m \u001b[1;33m\u001b[0m\u001b[0m\n\u001b[1;32m---> 19\u001b[1;33m         \u001b[0mloss\u001b[0m\u001b[1;33m.\u001b[0m\u001b[0mbackward\u001b[0m\u001b[1;33m(\u001b[0m\u001b[1;33m)\u001b[0m\u001b[1;33m\u001b[0m\u001b[1;33m\u001b[0m\u001b[0m\n\u001b[0m\u001b[0;32m     20\u001b[0m         \u001b[0moptimizer\u001b[0m\u001b[1;33m.\u001b[0m\u001b[0mstep\u001b[0m\u001b[1;33m(\u001b[0m\u001b[1;33m)\u001b[0m\u001b[1;33m\u001b[0m\u001b[1;33m\u001b[0m\u001b[0m\n\u001b[0;32m     21\u001b[0m \u001b[1;33m\u001b[0m\u001b[0m\n",
      "\u001b[1;32mc:\\Users\\WINDOW X\\anaconda3\\lib\\site-packages\\torch\\_tensor.py\u001b[0m in \u001b[0;36mbackward\u001b[1;34m(self, gradient, retain_graph, create_graph, inputs)\u001b[0m\n\u001b[0;32m    361\u001b[0m                 \u001b[0mcreate_graph\u001b[0m\u001b[1;33m=\u001b[0m\u001b[0mcreate_graph\u001b[0m\u001b[1;33m,\u001b[0m\u001b[1;33m\u001b[0m\u001b[1;33m\u001b[0m\u001b[0m\n\u001b[0;32m    362\u001b[0m                 inputs=inputs)\n\u001b[1;32m--> 363\u001b[1;33m         \u001b[0mtorch\u001b[0m\u001b[1;33m.\u001b[0m\u001b[0mautograd\u001b[0m\u001b[1;33m.\u001b[0m\u001b[0mbackward\u001b[0m\u001b[1;33m(\u001b[0m\u001b[0mself\u001b[0m\u001b[1;33m,\u001b[0m \u001b[0mgradient\u001b[0m\u001b[1;33m,\u001b[0m \u001b[0mretain_graph\u001b[0m\u001b[1;33m,\u001b[0m \u001b[0mcreate_graph\u001b[0m\u001b[1;33m,\u001b[0m \u001b[0minputs\u001b[0m\u001b[1;33m=\u001b[0m\u001b[0minputs\u001b[0m\u001b[1;33m)\u001b[0m\u001b[1;33m\u001b[0m\u001b[1;33m\u001b[0m\u001b[0m\n\u001b[0m\u001b[0;32m    364\u001b[0m \u001b[1;33m\u001b[0m\u001b[0m\n\u001b[0;32m    365\u001b[0m     \u001b[1;32mdef\u001b[0m \u001b[0mregister_hook\u001b[0m\u001b[1;33m(\u001b[0m\u001b[0mself\u001b[0m\u001b[1;33m,\u001b[0m \u001b[0mhook\u001b[0m\u001b[1;33m)\u001b[0m\u001b[1;33m:\u001b[0m\u001b[1;33m\u001b[0m\u001b[1;33m\u001b[0m\u001b[0m\n",
      "\u001b[1;32mc:\\Users\\WINDOW X\\anaconda3\\lib\\site-packages\\torch\\autograd\\__init__.py\u001b[0m in \u001b[0;36mbackward\u001b[1;34m(tensors, grad_tensors, retain_graph, create_graph, grad_variables, inputs)\u001b[0m\n\u001b[0;32m    171\u001b[0m     \u001b[1;31m# some Python versions print out the first line of a multi-line function\u001b[0m\u001b[1;33m\u001b[0m\u001b[1;33m\u001b[0m\u001b[1;33m\u001b[0m\u001b[0m\n\u001b[0;32m    172\u001b[0m     \u001b[1;31m# calls in the traceback and some print out the last line\u001b[0m\u001b[1;33m\u001b[0m\u001b[1;33m\u001b[0m\u001b[1;33m\u001b[0m\u001b[0m\n\u001b[1;32m--> 173\u001b[1;33m     Variable._execution_engine.run_backward(  # Calls into the C++ engine to run the backward pass\n\u001b[0m\u001b[0;32m    174\u001b[0m         \u001b[0mtensors\u001b[0m\u001b[1;33m,\u001b[0m \u001b[0mgrad_tensors_\u001b[0m\u001b[1;33m,\u001b[0m \u001b[0mretain_graph\u001b[0m\u001b[1;33m,\u001b[0m \u001b[0mcreate_graph\u001b[0m\u001b[1;33m,\u001b[0m \u001b[0minputs\u001b[0m\u001b[1;33m,\u001b[0m\u001b[1;33m\u001b[0m\u001b[1;33m\u001b[0m\u001b[0m\n\u001b[0;32m    175\u001b[0m         allow_unreachable=True, accumulate_grad=True)  # Calls into the C++ engine to run the backward pass\n",
      "\u001b[1;31mKeyboardInterrupt\u001b[0m: "
     ]
    }
   ],
   "source": [
    "losses, metrics, baseline = [], [], []\n",
    "lr_log=[]\n",
    "\n",
    "lr=3e-4\n",
    "optimizer = torch.optim.Adam(model.parameters(), lr)\n",
    "model=Model()\n",
    "model.load_state_dict(torch.load(\"weight/convo/mymodel.pt\"))\n",
    "get_epoch(10)\n",
    "torch.save(model.state_dict(), \"weight/convo/mymodel.pt\")"
   ]
  },
  {
   "cell_type": "code",
   "execution_count": 34,
   "metadata": {},
   "outputs": [],
   "source": [
    "with open('weight/convo1/baseline_log.pkl', 'rb') as f:\n",
    "    baseline_log = pickle.load(f)\n",
    "with open('weight/convo1/loss_log.pkl', 'rb') as f:\n",
    "    loss_log = pickle.load(f)\n",
    "with open('weight/convo1/acc_log.pkl', 'rb') as f:\n",
    "    acc_log = pickle.load(f)\n",
    "with open('weight/convo1/lr_log.pkl', 'rb') as f:\n",
    "    lr_log = pickle.load(f)\n",
    "\n",
    "lr = 10e-4/2./2/2/2/2\n",
    "for k in losses :\n",
    "    loss_log.append(float(k))\n",
    "for param_group in optimizer.param_groups:\n",
    "    lr_log.append(param_group[\"lr\"])\n",
    "acc_log = acc_log + metrics\n",
    "baseline_log = baseline_log + baseline"
   ]
  },
  {
   "cell_type": "markdown",
   "metadata": {},
   "source": [
    "## Graph Represent"
   ]
  },
  {
   "cell_type": "code",
   "execution_count": 15,
   "metadata": {},
   "outputs": [],
   "source": [
    "lr = 10e-4/2./2/2/2/2\n",
    "loss_log=[]\n",
    "lr_log=[]\n",
    "acc_log=[]\n",
    "baseline_log=[]\n",
    "for k in losses :\n",
    "    loss_log.append(float(k))\n",
    "acc_log = acc_log + metrics\n",
    "baseline_log = baseline_log + baseline"
   ]
  },
  {
   "cell_type": "code",
   "execution_count": 20,
   "metadata": {},
   "outputs": [
    {
     "name": "stderr",
     "output_type": "stream",
     "text": [
      "No handles with labels found to put in legend.\n",
      "<ipython-input-20-c5eebc6553a0>:18: UserWarning: Matplotlib is currently using module://ipykernel.pylab.backend_inline, which is a non-GUI backend, so cannot show the figure.\n",
      "  fig.show()\n"
     ]
    },
    {
     "data": {
      "image/png": "[encoded data removed]",
      "text/plain": [
       "<Figure size 648x648 with 3 Axes>"
      ]
     },
     "metadata": {
      "needs_background": "light"
     },
     "output_type": "display_data"
    }
   ],
   "source": [
    "x = torch.arange(len(acc_log)).numpy()\n",
    "fig,ax = plt.subplots(3,1,figsize=(9, 9))\n",
    "\n",
    "#0 = loss & baseline\n",
    "#1 = Accuracy\n",
    "#2 = learing rate\n",
    "\n",
    "ax[0].plot(x, baseline_log, label=\"Baseline Loss\")\n",
    "ax[0].plot(x, loss_log, label=\"train Loss\")\n",
    "ax[1].plot(x, acc_log, label=\"Accuracy\")\n",
    "#ax[2].plot(len(x), lr_log, label=\"learing rate\")\n",
    "\n",
    "for k in ax :\n",
    "    k.legend()\n",
    "    k.grid(True)\n",
    "\n",
    "\n",
    "fig.show()"
   ]
  },
  {
   "cell_type": "code",
   "execution_count": 17,
   "metadata": {},
   "outputs": [],
   "source": [
    "with open('weight/convo1/baseline_log.pkl', 'wb') as f:\n",
    "    pickle.dump(baseline_log, f)\n",
    "with open('weight/convo1/loss_log.pkl', 'wb') as f:\n",
    "    pickle.dump(loss_log, f)\n",
    "with open('weight/convo1/acc_log.pkl', 'wb') as f:\n",
    "    pickle.dump(acc_log, f)\n",
    "with open('weight/convo1/lr_log.pkl', 'wb') as f:\n",
    "    pickle.dump(lr_log, f)"
   ]
  },
  {
   "cell_type": "markdown",
   "metadata": {},
   "source": [
    "## TEST"
   ]
  },
  {
   "cell_type": "code",
   "execution_count": 21,
   "metadata": {},
   "outputs": [],
   "source": [
    "batch = 32\n",
    "test = DataLoader(test_dataset, batch_size=batch, shuffle=True)"
   ]
  },
  {
   "cell_type": "code",
   "execution_count": 22,
   "metadata": {},
   "outputs": [],
   "source": [
    "def get_test_epoch(k):\n",
    "    for i in range(0,k) :\n",
    "        test_epoch()\n",
    "\n",
    "def test_epoch():\n",
    "    x,y =next(iter(test))\n",
    "    for i in range(batch) :\n",
    "        xb=x[i]\n",
    "        yb=y[i]\n",
    "        yhatb = model(xb)\n",
    "        acc = M_accuracy(yhatb, yb)    \n",
    "        metrics_test.append(acc)"
   ]
  },
  {
   "cell_type": "code",
   "execution_count": 39,
   "metadata": {},
   "outputs": [],
   "source": [
    "metrics_test=[]\n",
    "get_test_epoch(10)"
   ]
  },
  {
   "cell_type": "code",
   "execution_count": 40,
   "metadata": {},
   "outputs": [
    {
     "name": "stdout",
     "output_type": "stream",
     "text": [
      "accuracy :  0.9656726562500003\n"
     ]
    }
   ],
   "source": [
    "print( \"accuracy : \", sum(metrics_test)/len(metrics_test))"
   ]
  },
  {
   "cell_type": "code",
   "execution_count": 24,
   "metadata": {},
   "outputs": [],
   "source": [
    "x,y = next(iter(test))\n",
    "xy=model(x)"
   ]
  },
  {
   "cell_type": "code",
   "execution_count": 25,
   "metadata": {},
   "outputs": [],
   "source": [
    "tx = xy.detach().numpy()\n",
    "ty = y[0].detach().numpy()\n",
    "tx = 1*(tx>=0.5)"
   ]
  },
  {
   "cell_type": "code",
   "execution_count": 26,
   "metadata": {},
   "outputs": [
    {
     "data": {
      "text/plain": [
       "array([[1, 1, 1, ..., 1, 1, 1],\n",
       "       [1, 1, 1, ..., 1, 1, 1],\n",
       "       [1, 1, 1, ..., 1, 1, 1],\n",
       "       ...,\n",
       "       [1, 1, 1, ..., 1, 1, 1],\n",
       "       [1, 1, 1, ..., 1, 1, 1],\n",
       "       [1, 1, 1, ..., 1, 1, 1]])"
      ]
     },
     "execution_count": 26,
     "metadata": {},
     "output_type": "execute_result"
    }
   ],
   "source": [
    "check = 1*(tx==ty)\n",
    "check[0]"
   ]
  },
  {
   "cell_type": "code",
   "execution_count": 27,
   "metadata": {},
   "outputs": [
    {
     "data": {
      "text/plain": [
       "0.9720684185606061"
      ]
     },
     "execution_count": 27,
     "metadata": {},
     "output_type": "execute_result"
    }
   ],
   "source": [
    "check.mean()"
   ]
  },
  {
   "cell_type": "code",
   "execution_count": 28,
   "metadata": {},
   "outputs": [],
   "source": [
    "xy = 1*(xy>=0.5)"
   ]
  },
  {
   "cell_type": "code",
   "execution_count": 29,
   "metadata": {},
   "outputs": [
    {
     "data": {
      "text/plain": [
       "torch.Size([32, 1500, 88])"
      ]
     },
     "execution_count": 29,
     "metadata": {},
     "output_type": "execute_result"
    }
   ],
   "source": [
    "xy.size()"
   ]
  },
  {
   "cell_type": "code",
   "execution_count": null,
   "metadata": {},
   "outputs": [],
   "source": [
    "k.mean() * len(k)"
   ]
  },
  {
   "cell_type": "code",
   "execution_count": 34,
   "metadata": {},
   "outputs": [
    {
     "data": {
      "image/png": "[encoded data removed]",
      "text/plain": [
       "<Figure size 432x288 with 2 Axes>"
      ]
     },
     "metadata": {
      "needs_background": "light"
     },
     "output_type": "display_data"
    }
   ],
   "source": [
    "fig,ax = plt.subplots(2,1)\n",
    "k = torch.transpose(xy[0], 0,1).detach().numpy()\n",
    "ax[0].imshow(k)\n",
    "ky = torch.transpose(y[0], 0,1).detach().numpy()\n",
    "ax[1].imshow(ky)\n",
    "plt.show()"
   ]
  },
  {
   "cell_type": "code",
   "execution_count": 37,
   "metadata": {},
   "outputs": [
    {
     "data": {
      "image/png": "[encoded data removed]",
      "text/plain": [
       "<Figure size 864x720 with 2 Axes>"
      ]
     },
     "metadata": {
      "needs_background": "light"
     },
     "output_type": "display_data"
    }
   ],
   "source": [
    "x=np.arange(0,len(tx))\n",
    "fig,ax = plt.subplots(2,1)\n",
    "ax[0].grid(), ax[1].grid()\n",
    "ax[0].set_ylim(0, 88)\n",
    "ax[1].set_ylim(0, 88)\n",
    "\n",
    "fig.set_figwidth(12)\n",
    "fig.set_figheight(10)\n",
    "\n",
    "ax[0].set_title('model prediction')\n",
    "for i in range(1500):\n",
    "    for j in range(88) :\n",
    "        if(tx[0][i][j]==1) :\n",
    "            ax[0].scatter(i,j, s=2,c=\"b\") \n",
    "\n",
    "ax[1].set_title('true value')\n",
    "for i in range(1500):\n",
    "    for j in range(88) :\n",
    "        if(ty[i][j]==1) :\n",
    "            ax[1].scatter(i,j, s=2,c=\"b\") \n",
    "\n",
    "plt.show()"
   ]
  },
  {
   "cell_type": "code",
   "execution_count": 71,
   "metadata": {},
   "outputs": [
    {
     "name": "stdout",
     "output_type": "stream",
     "text": [
      "88.0\n"
     ]
    }
   ],
   "source": [
    "#วัดตัวที่ทายผิดใน epoch test\n",
    "\n",
    "N=np.array([])\n",
    "for i in range(batch) :\n",
    "    ct=0;\n",
    "    for j in range(1500) :\n",
    "        for k in range(88) : \n",
    "            if(xy[i][j][k] != y[i][j][k]) :\n",
    "                ct+=1    \n",
    "    N=np.append(N,ct)\n",
    "\n",
    "print(N.mean())"
   ]
  },
  {
   "cell_type": "code",
   "execution_count": 75,
   "metadata": {},
   "outputs": [
    {
     "name": "stdout",
     "output_type": "stream",
     "text": [
      "0.0\n"
     ]
    }
   ],
   "source": [
    "#วัดตัวที่ทาย 1 เป็น 0 ใน epoch test\n",
    "K=np.array([])\n",
    "for i in range(batch) :\n",
    "    for j in range(1500) :\n",
    "        ct,CT =0,0;\n",
    "        for k in range(88) : \n",
    "            if y[i][j][k]==1 :\n",
    "                CT+=1\n",
    "                if(xy[i][j][k]==0) :\n",
    "                    ct+=1\n",
    "        if(CT==0) :\n",
    "            if(ct==0) : K=np.append(K,0)\n",
    "            else : K=np.append(K,ct)\n",
    "        else : K=np.append(K,ct/CT)\n",
    "\n",
    "print(K.mean())"
   ]
  }
 ],
 "metadata": {
  "kernelspec": {
   "display_name": "Python 3.8.3 ('base')",
   "language": "python",
   "name": "python3"
  },
  "language_info": {
   "codemirror_mode": {
    "name": "ipython",
    "version": 3
   },
   "file_extension": ".py",
   "mimetype": "text/x-python",
   "name": "python",
   "nbconvert_exporter": "python",
   "pygments_lexer": "ipython3",
   "version": "3.8.3"
  },
  "orig_nbformat": 4,
  "vscode": {
   "interpreter": {
    "hash": "c9bf447bc3f95dcfbc19cb1a84d6b160112105653e59c16eb73ab72854d9f644"
   }
  }
 },
 "nbformat": 4,
 "nbformat_minor": 2
}
