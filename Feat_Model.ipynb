{
  "cells": [
    {
      "cell_type": "markdown",
      "metadata": {
        "id": "view-in-github",
        "colab_type": "text"
      },
      "source": [
        "<a href=\"https://colab.research.google.com/github/neennera/AI_pitch/blob/main/Feat_Model.ipynb\" target=\"_parent\"><img src=\"https://colab.research.google.com/assets/colab-badge.svg\" alt=\"Open In Colab\"/></a>"
      ]
    },
    {
      "cell_type": "code",
      "execution_count": 1,
      "metadata": {
        "id": "1AHs9mcVQpEh"
      },
      "outputs": [],
      "source": [
        "import torch\n",
        "import os\n",
        "from torch import nn\n",
        "from torch.utils.data import DataLoader\n",
        "from torchvision.transforms import ToTensor\n",
        "from torch.utils.data import Dataset\n",
        "import torchvision.models as models\n",
        "\n",
        "\n",
        "import pandas as pd\n",
        "import torchaudio\n",
        "import pickle\n",
        "import numpy as np\n",
        "from tqdm.auto import tqdm"
      ]
    },
    {
      "cell_type": "markdown",
      "metadata": {
        "id": "Y6OygEc_UgnK"
      },
      "source": [
        "# DataLoader"
      ]
    },
    {
      "cell_type": "code",
      "execution_count": 2,
      "metadata": {
        "colab": {
          "base_uri": "https://localhost:8080/"
        },
        "id": "FGOz1E0UtNRp",
        "outputId": "dad4b05f-4518-40ad-f52d-b76c17bffde4"
      },
      "outputs": [
        {
          "output_type": "stream",
          "name": "stdout",
          "text": [
            "Mounted at /content/gdrive\n"
          ]
        }
      ],
      "source": [
        "#import zipfile\n",
        "from google.colab import drive\n",
        "drive.mount('/content/gdrive')"
      ]
    },
    {
      "cell_type": "code",
      "execution_count": 3,
      "metadata": {
        "colab": {
          "base_uri": "https://localhost:8080/"
        },
        "id": "tgdtPV2-3o1R",
        "outputId": "5ceafdc7-73e1-436e-e37a-37624e41398f"
      },
      "outputs": [
        {
          "output_type": "stream",
          "name": "stdout",
          "text": [
            "Looking in indexes: https://pypi.org/simple, https://us-python.pkg.dev/colab-wheels/public/simple/\n",
            "Collecting patool\n",
            "  Downloading patool-1.12-py2.py3-none-any.whl (77 kB)\n",
            "\u001b[K     |████████████████████████████████| 77 kB 3.3 MB/s \n",
            "\u001b[?25hInstalling collected packages: patool\n",
            "Successfully installed patool-1.12\n",
            "Looking in indexes: https://pypi.org/simple, https://us-python.pkg.dev/colab-wheels/public/simple/\n",
            "Collecting pyunpack\n",
            "  Downloading pyunpack-0.3-py2.py3-none-any.whl (4.1 kB)\n",
            "Collecting easyprocess\n",
            "  Downloading EasyProcess-1.1-py3-none-any.whl (8.7 kB)\n",
            "Collecting entrypoint2\n",
            "  Downloading entrypoint2-1.1-py2.py3-none-any.whl (9.9 kB)\n",
            "Installing collected packages: entrypoint2, easyprocess, pyunpack\n",
            "Successfully installed easyprocess-1.1 entrypoint2-1.1 pyunpack-0.3\n"
          ]
        }
      ],
      "source": [
        "!pip install patool\n",
        "!pip install pyunpack\n",
        "from pyunpack import Archive\n",
        "Archive(\"/content/gdrive/MyDrive/AI/wav.rar\").extractall(\"/content/\")"
      ]
    },
    {
      "cell_type": "code",
      "execution_count": 4,
      "metadata": {
        "id": "GkFzAgE8uv1A"
      },
      "outputs": [],
      "source": [
        "classmap=[\"C\",\"C#\",\"D\",\"D#\",\"E\",\"F\",\"F#\",\"G\",\"G#\",\"A\",\"A#\",\"B\"]\n",
        "#df = pd.read_csv(\"/content/gdrive/MyDrive/AI/labels.csv\")"
      ]
    },
    {
      "cell_type": "code",
      "execution_count": 5,
      "metadata": {
        "id": "oy3pkUUvYEFU"
      },
      "outputs": [],
      "source": [
        "#from sklearn.model_selection import train_test_split\n",
        "#train_df, test_df = train_test_split(df, test_size=0.2)\n",
        "train_df = pd.read_csv(\"/content/gdrive/MyDrive/AI/train.csv\")\n",
        "test_df = pd.read_csv(\"/content/gdrive/MyDrive/AI/test.csv\")"
      ]
    },
    {
      "cell_type": "code",
      "execution_count": 6,
      "metadata": {
        "id": "0skXnvx9bL0q"
      },
      "outputs": [],
      "source": [
        "device = 'cuda' if torch.cuda.is_available() else 'cpu'\n",
        "\n",
        "target_sample_rate=16000.0\n",
        "mel_spectrogram = torchaudio.transforms.MelSpectrogram(\n",
        "    sample_rate=34624,\n",
        "    n_mels=254,\n",
        "    n_fft=2048,\n",
        "    hop_length=512\n",
        ")\n",
        "mel_spectrogram.to(device)\n",
        "\n",
        "def resample_if_necessary(signal, sr):\n",
        "  if sr != target_sample_rate:\n",
        "      resampler = torchaudio.transforms.Resample(sr, target_sample_rate)\n",
        "      signal = resampler(signal)\n",
        "  return signal\n",
        "\n",
        "def mix_down_if_necessary(signal):\n",
        "  if signal.shape[0] > 1:\n",
        "      signal = torch.mean(signal, dim=0, keepdim=True)\n",
        "  return signal\n",
        "\n",
        "def transformation(signal):\n",
        "  mel_spectrogram"
      ]
    },
    {
      "cell_type": "code",
      "execution_count": 7,
      "metadata": {
        "id": "wU4DS4YJwPaS"
      },
      "outputs": [],
      "source": [
        "class CustomTrainDataset(Dataset):\n",
        "    def __init__(self, feat_path=train_df[\"wav_path\"], transform=None, target_transform=None):\n",
        "        self.label = train_df[\"label\"]\n",
        "        self.feat_path = feat_path\n",
        "        self.path = \"/content/wav/\"\n",
        "\n",
        "    def __len__(self):\n",
        "        return len(self.label)\n",
        "\n",
        "    def __getitem__(self, idx):\n",
        "        path = self.path +self.feat_path[idx]+'.wav'\n",
        "        signal, sr = torchaudio.load(path)\n",
        "        signal = resample_if_necessary(signal, sr)\n",
        "        signal = mix_down_if_necessary(signal)\n",
        "        data = mel_spectrogram(signal)\n",
        "        data = data[0]\n",
        "        label = classmap.index(self.label[idx])\n",
        "        return data, label\n",
        "\n",
        "class CustomTestDataset(Dataset):\n",
        "    def __init__(self, feat_path=test_df[\"wav_path\"] , transform=None, target_transform=None):\n",
        "        self.label = test_df[\"label\"]\n",
        "        self.feat_path = feat_path \n",
        "        self.path = \"/content/wav/\"\n",
        "\n",
        "    def __len__(self):\n",
        "      return len(self.label)\n",
        "\n",
        "    def __getitem__(self, idx):\n",
        "        path = self.path +self.feat_path[idx]+'.wav'\n",
        "        signal, sr = torchaudio.load(path)\n",
        "        signal = resample_if_necessary(signal, sr)\n",
        "        signal = mix_down_if_necessary(signal)\n",
        "        data = mel_spectrogram(signal)\n",
        "        data = data[0]\n",
        "        label = classmap.index(self.label[idx])\n",
        "        return data, label\n",
        "\n",
        "train_dataset=CustomTrainDataset()\n",
        "test_dataset=CustomTestDataset()"
      ]
    },
    {
      "cell_type": "markdown",
      "metadata": {
        "id": "hXMirgfe0ZRG"
      },
      "source": [
        "#Model"
      ]
    },
    {
      "cell_type": "code",
      "execution_count": 8,
      "metadata": {
        "id": "eW8fVK_BzFaH"
      },
      "outputs": [],
      "source": [
        "class Model(nn.Module):\n",
        "    def __init__(self, feat_dim=256):\n",
        "        super(Model, self).__init__()\n",
        "\n",
        "        # wav2letter architecture\n",
        "        self.convo1 = self._get_conv_block(254, 256, 7)\n",
        "        self.convo2 = self._get_conv_block(256, 256, 7)\n",
        "        self.convo3 = self._get_conv_block(256, 512, 7)\n",
        "        self.convo4 = self._get_conv_block(512, 512, 7)\n",
        "        self.convo5 = self._get_conv_block(512, 2048, 32)\n",
        "        self.convo6 = self._get_conv_block(2048, 2048, 1)\n",
        "        #self.convo7 = self._get_conv_block(2048, 12, 1, activation=\"sigmoid\")\n",
        "        self.convo7 = self._get_conv_block(2048, 12, 1)\n",
        "        self.flatten = nn.Flatten()\n",
        "        self.linear = nn.Linear(512* 50, 12)\n",
        "\n",
        "    def _get_activation(self, name):\n",
        "      if name == \"relu\":\n",
        "        return nn.ReLU()\n",
        "      elif name == \"softmax\":\n",
        "        return nn.Softmax(dim=1)\n",
        "      elif name == \"sigmoid\":\n",
        "        return nn.Sigmoid()\n",
        "\n",
        "\n",
        "    def _get_conv_block(self, in_channel, out_channel, kernel_size, activation=\"relu\"):\n",
        "      return nn.Sequential(\n",
        "          nn.Conv1d(in_channel, out_channel, kernel_size, padding=\"same\"),\n",
        "          nn.BatchNorm1d(out_channel),\n",
        "          self._get_activation(activation)\n",
        "      )\n",
        "\n",
        "    def forward(self, x):\n",
        "        #x = torch.transpose(x, 1, 2)  # reformat from (B, T, C) to (B, C, T)\n",
        "        x = self.convo1(x)   # (B, C=120, T=1500) -> (B, C=conv1_out_dim, T=1500)\n",
        "        x = self.convo2(x)\n",
        "        x = self.convo3(x)\n",
        "        x = self.convo4(x)\n",
        "        #x = self.convo5(x)\n",
        "        #x = self.convo6(x)\n",
        "        #x = self.convo7(x)\n",
        "        #print(x.size())\n",
        "        x = self.flatten(x)\n",
        "        x = self.linear(x)\n",
        "        return x"
      ]
    },
    {
      "cell_type": "code",
      "execution_count": 9,
      "metadata": {
        "id": "F39K46Ly4-c_"
      },
      "outputs": [],
      "source": [
        "model = Model()\n",
        "model = model.to(device)\n",
        "optimizer = torch.optim.Adam(model.parameters(), 3e-4)\n",
        "\n",
        "checkpoint = { \n",
        "    'model': model.state_dict(),\n",
        "    'optimizer': optimizer.state_dict(),\n",
        "}"
      ]
    },
    {
      "cell_type": "code",
      "execution_count": 10,
      "metadata": {
        "id": "HzS7UjeK0xkO"
      },
      "outputs": [],
      "source": [
        "def save(train_losses,metrics_train,test_losses,metrics_test,i):\n",
        "    loss_log_test=[]\n",
        "    acc_log_test=[]\n",
        "    loss_log_train=[]\n",
        "    acc_log_train=[]\n",
        "    \n",
        "    path='/content/gdrive/MyDrive/AI/weight/con_wev/'+str(i)+'/checkpoint.pth'\n",
        "    path_log='/content/gdrive/MyDrive/AI/weight/con_wev/'+str(i)\n",
        "    path_old='/content/gdrive/MyDrive/AI/weight/con_wev/'+str(i-1)\n",
        "    torch.save(checkpoint, path)\n",
        "    torch.save(model.state_dict(), '/content/gdrive/MyDrive/AI/weight/con_wev/'+str(i)+'/model_weight.pth')\n",
        "\n",
        "    if(i>1):\n",
        "      with open(path_old+'/loss_log_test.pkl', 'rb') as f:\n",
        "          loss_log_test = pickle.load(f)\n",
        "      with open(path_old+'/acc_log_test.pkl', 'rb') as f:\n",
        "          acc_log_test = pickle.load(f)  \n",
        "      with open(path_old+'/loss_log_train.pkl', 'rb') as f:\n",
        "          loss_log_train = pickle.load(f)\n",
        "      with open(path_old+'/acc_log_train.pkl', 'rb') as f:\n",
        "          acc_log_train = pickle.load(f)    \n",
        "\n",
        "    for k in test_losses :\n",
        "        loss_log_test.append(k)\n",
        "    acc_log_test = acc_log_test + metrics_test\n",
        "\n",
        "    for k in train_losses :\n",
        "        loss_log_train.append(k)\n",
        "    acc_log_train = acc_log_train + metrics_train\n",
        "\n",
        "    with open(path_log+'/loss_log_train.pkl', 'wb') as f:\n",
        "        pickle.dump(loss_log_train, f)\n",
        "    with open(path_log+'/acc_log_train.pkl', 'wb') as f:\n",
        "        pickle.dump(acc_log_train, f)\n",
        "    with open(path_log+'/loss_log_test.pkl', 'wb') as f:\n",
        "        pickle.dump(loss_log_test, f)\n",
        "    with open(path_log+'/acc_log_test.pkl', 'wb') as f:\n",
        "        pickle.dump(acc_log_test, f)"
      ]
    },
    {
      "cell_type": "code",
      "execution_count": 11,
      "metadata": {
        "id": "Vaic96DF1PwO"
      },
      "outputs": [],
      "source": [
        "from sklearn.metrics import confusion_matrix, precision_score,accuracy_score\n",
        "#loss_fn = nn.MSELoss()\n",
        "loss_fn = nn.CrossEntropyLoss()\n",
        "def M_loss_func(pred, target):\n",
        "  \"\"\"k = len(target)\n",
        "  targets = torch.from_numpy(np.zeros((k,107), dtype=\"float32\"))\n",
        "  for i in range(k) :\n",
        "    targets[i][target[i]] = 1.0\"\"\"\n",
        "  \n",
        "  #pred = pred.argmax(dim=1)\n",
        "  #preds = torch.tensor(pred,dtype=torch.long).view(-1)\n",
        "  #target = torch.tensor(target,dtype=torch.long).view(-1)\n",
        "  return loss_fn(pred,target)\n",
        "\n",
        "def M_accuracy(pred,target):\n",
        "  #tn, fp, fn, tp = confusion_matrix(y_true, y_pred_class).ravel()\n",
        "  pred = pred.argmax(dim=1).detach().numpy()\n",
        "  return accuracy_score(target, pred)\n",
        "  #return precision_score(target, preds,average='micro')"
      ]
    },
    {
      "cell_type": "code",
      "execution_count": null,
      "metadata": {
        "colab": {
          "base_uri": "https://localhost:8080/",
          "height": 217
        },
        "id": "p5n8MbhSZWJ3",
        "outputId": "87653342-20c8-467d-d54b-29dd9e2a3361"
      },
      "outputs": [
        {
          "ename": "NameError",
          "evalue": "ignored",
          "output_type": "error",
          "traceback": [
            "\u001b[0;31m---------------------------------------------------------------------------\u001b[0m",
            "\u001b[0;31mNameError\u001b[0m                                 Traceback (most recent call last)",
            "\u001b[0;32m<ipython-input-88-b48aa50acfe8>\u001b[0m in \u001b[0;36m<module>\u001b[0;34m()\u001b[0m\n\u001b[1;32m      1\u001b[0m \u001b[0mmodel\u001b[0m\u001b[0;34m=\u001b[0m\u001b[0mModel\u001b[0m\u001b[0;34m(\u001b[0m\u001b[0;34m)\u001b[0m\u001b[0;34m\u001b[0m\u001b[0;34m\u001b[0m\u001b[0m\n\u001b[0;32m----> 2\u001b[0;31m \u001b[0myhatb\u001b[0m \u001b[0;34m=\u001b[0m \u001b[0mmodel\u001b[0m\u001b[0;34m(\u001b[0m\u001b[0mxb\u001b[0m\u001b[0;34m)\u001b[0m\u001b[0;34m\u001b[0m\u001b[0;34m\u001b[0m\u001b[0m\n\u001b[0m\u001b[1;32m      3\u001b[0m \u001b[0mloss\u001b[0m \u001b[0;34m=\u001b[0m \u001b[0mM_loss_func\u001b[0m\u001b[0;34m(\u001b[0m\u001b[0myhatb\u001b[0m\u001b[0;34m,\u001b[0m \u001b[0myb\u001b[0m\u001b[0;34m)\u001b[0m\u001b[0;34m\u001b[0m\u001b[0;34m\u001b[0m\u001b[0m\n\u001b[1;32m      4\u001b[0m \u001b[0macc\u001b[0m \u001b[0;34m=\u001b[0m \u001b[0mM_accuracy\u001b[0m\u001b[0;34m(\u001b[0m\u001b[0myhatb\u001b[0m\u001b[0;34m,\u001b[0m \u001b[0myb\u001b[0m\u001b[0;34m)\u001b[0m\u001b[0;34m\u001b[0m\u001b[0;34m\u001b[0m\u001b[0m\n",
            "\u001b[0;31mNameError\u001b[0m: name 'xb' is not defined"
          ]
        }
      ],
      "source": [
        "'''model=Model()\n",
        "yhatb = model(xb)\n",
        "loss = M_loss_func(yhatb, yb)\n",
        "acc = M_accuracy(yhatb, yb)'''"
      ]
    },
    {
      "cell_type": "markdown",
      "metadata": {
        "id": "bDjCUl0uJJe7"
      },
      "source": [
        "# Training loop"
      ]
    },
    {
      "cell_type": "code",
      "execution_count": 12,
      "metadata": {
        "id": "pwgmk_IHUfjk"
      },
      "outputs": [],
      "source": [
        "batch_size = 128\n",
        "epochs = 10\n",
        "lr = 3e-4\n",
        "device = 'cuda' if torch.cuda.is_available() else 'cpu'"
      ]
    },
    {
      "cell_type": "code",
      "execution_count": 13,
      "metadata": {
        "id": "t9F85zTY0oI2"
      },
      "outputs": [],
      "source": [
        "def get_epoch(k, train_dataloader, val_dataloader, batch_size,st,ed):\n",
        "    print(\"epoch\",\"\\t train loss \\t accuracy \\t\\t val loss \\t\\t val accuracy\")\n",
        "    train_loss ,train_acc, val_loss=0,0,0\n",
        "    for i in range(st,ed+1) :\n",
        "        train_epoch(i, train_dataloader, val_dataloader, batch_size)\n",
        "        #torch.save(model.state_dict(), \"weight/convo2/mymodel.pt\")\n",
        "\n",
        "def train_epoch(k, train_dataloader, val_dataloader, batch_size):\n",
        "    model.train()\n",
        "    train_batch_loss = []\n",
        "    train_batch_acc = []\n",
        "    for batch in tqdm(train_dataloader):\n",
        "        xb, yb = batch\n",
        "        xb = xb.to(device)\n",
        "        yb = yb.to(device)\n",
        "\n",
        "        optimizer.zero_grad()\n",
        "        yhatb = model(xb)\n",
        "\n",
        "        loss = M_loss_func(yhatb, yb)\n",
        "        acc = M_accuracy(yhatb, yb)\n",
        "        loss.backward()\n",
        "        optimizer.step()\n",
        "\n",
        "        train_batch_loss.append(loss.detach().cpu().numpy())\n",
        "        train_batch_acc.append(acc)\n",
        "\n",
        "    train_loss = np.mean(train_batch_loss)  # average train loss among all batches\n",
        "    train_acc = np.mean(train_batch_acc)  # average acc among all batches     \n",
        "\n",
        "    val_batch_loss = []\n",
        "    losses=[]\n",
        "    metrics=[]\n",
        "    for batch in tqdm(val_dataloader):\n",
        "        x, y = batch\n",
        "        x = x.to(device)\n",
        "        y = y.to(device)\n",
        "\n",
        "        # we don't need to calculate gradients when evaluating\n",
        "        with torch.no_grad():\n",
        "            yhatb = model(x)  # forward propagation\n",
        "            loss = M_loss_func(yhatb, y)  # compute val loss\n",
        "            acc = M_accuracy(yhatb, y)\n",
        "            losses.append(loss.detach().cpu())\n",
        "            metrics.append(acc)\n",
        "        val_batch_loss.append(loss.cpu().numpy())\n",
        "    val_loss = np.mean(val_batch_loss)\n",
        "    val_acc = np.mean(metrics)\n",
        "    save(train_batch_loss,train_batch_acc, losses,metrics,k)\n",
        "    print(k, \"\\t\", train_loss , \"\\t\", train_acc,\"\\t\", val_loss, \"\\t\" , val_acc)"
      ]
    },
    {
      "cell_type": "code",
      "execution_count": 14,
      "metadata": {
        "colab": {
          "base_uri": "https://localhost:8080/",
          "height": 49,
          "referenced_widgets": [
            "40ae4c0811754738970b5480fac732e0",
            "e97373649063425c927c4a3aa8b71475",
            "93c435a101d04ba59776c3bf008bd453",
            "3dd57961bed748258bf7d251ac4e5490",
            "0ca683fae9904b9eb2d72d5c22016fa3",
            "ff21f5c5cddb4e7da6101fb9db595f4f",
            "832f3a613f594c95946937b548000ec3",
            "9f7c446f43ed4edfa2c5ec70c928776c",
            "2096b7ea7b79402cb3ebbb11b8524f1b",
            "92df0c95d2604e04b9aecf27eb872b16",
            "62ae240abaf4438d9fb98c2907cfba3f"
          ]
        },
        "id": "rvu5THXtw-vX",
        "outputId": "df8668ff-d7f2-4ec2-93e7-8ae76d3c82c0"
      },
      "outputs": [
        {
          "output_type": "display_data",
          "data": {
            "text/plain": [
              "  0%|          | 0/42 [00:00<?, ?it/s]"
            ],
            "application/vnd.jupyter.widget-view+json": {
              "version_major": 2,
              "version_minor": 0,
              "model_id": "40ae4c0811754738970b5480fac732e0"
            }
          },
          "metadata": {}
        }
      ],
      "source": [
        "#train_dataloader = DataLoader(train_dataset, batch_size=batch_size, shuffle=True)\n",
        "val_dataloader = DataLoader(test_dataset, batch_size=batch_size)\n",
        "for batch in tqdm(val_dataloader):\n",
        "    xb, yb = batch\n",
        "    break"
      ]
    },
    {
      "cell_type": "code",
      "execution_count": null,
      "metadata": {
        "id": "ZN9q26-Q3YtT"
      },
      "outputs": [],
      "source": [
        "model = Model()\n",
        "device = 'cuda' if torch.cuda.is_available() else 'cpu'\n",
        "optimizer = torch.optim.Adam(model.parameters(), 3e-4)\n",
        "i=5\n",
        "model.load_state_dict(torch.load('/content/gdrive/MyDrive/AI/weight/con_wev/'+str(i)+'/model_weight.pth'))\n",
        "model = model.to(device)\n",
        "model.train()"
      ]
    },
    {
      "cell_type": "code",
      "execution_count": null,
      "metadata": {
        "colab": {
          "base_uri": "https://localhost:8080/",
          "height": 66,
          "referenced_widgets": [
            "7537501016bf41fca09531c38e1b1a4e",
            "9e48563468194ea08c8f291950eff3a1",
            "bfe7aaac92b84cb58970eed81bb720be",
            "ce713971575e46be81d255ff70b67611",
            "004c03e567164550898dea8813904d14",
            "e69d55309b704b4bafa675b93a2e6ad9",
            "280ff661ea1746c5bb19dc6fddd2af35",
            "f0970924bdac4469b52850941e31479b",
            "78deeb45ff824942a4a8805cef9767dd",
            "3855d1fd82874fa9a75251d5f2f83c0f",
            "9cb0c289ff574c2caad5f36760f826bf"
          ]
        },
        "id": "kughl24z3QHu",
        "outputId": "91fec1cd-ea6e-482e-c87a-f0ef3ac75bb9"
      },
      "outputs": [
        {
          "output_type": "stream",
          "name": "stdout",
          "text": [
            "epoch \t train loss \t accuracy \t\t val loss \t\t val accuracy\n"
          ]
        },
        {
          "output_type": "display_data",
          "data": {
            "text/plain": [
              "  0%|          | 0/167 [00:00<?, ?it/s]"
            ],
            "application/vnd.jupyter.widget-view+json": {
              "version_major": 2,
              "version_minor": 0,
              "model_id": "7537501016bf41fca09531c38e1b1a4e"
            }
          },
          "metadata": {}
        }
      ],
      "source": [
        "train_dataloader = DataLoader(train_dataset, batch_size=batch_size, shuffle=True, pin_memory=True, num_workers=0)\n",
        "test_dataloader = DataLoader(test_dataset, batch_size=batch_size, pin_memory=True, num_workers=0)\n",
        "get_epoch(15, train_dataloader, test_dataloader, batch_size,5,9)"
      ]
    },
    {
      "cell_type": "markdown",
      "metadata": {
        "id": "m-5Jpk2_d1kg"
      },
      "source": [
        "# Graph"
      ]
    },
    {
      "cell_type": "code",
      "execution_count": 46,
      "metadata": {
        "id": "2GCv4GVtd32I"
      },
      "outputs": [],
      "source": [
        "loss_log=[]\n",
        "acc_log=[]\n",
        "i=5\n",
        "\n",
        "path='/content/gdrive/MyDrive/AI/weight/con_wev/'+str(i-1)+'/checkpoint.pth'\n",
        "path_log='/content/gdrive/MyDrive/AI/weight/con_wev/'+str(i)\n",
        "path_old='/content/gdrive/MyDrive/AI/weight/con_wev/'+str(i-1)\n",
        "\n",
        "with open(path_log+'/loss_log_train.pkl', 'rb') as f:\n",
        "    loss_log_train = pickle.load(f)\n",
        "with open(path_log+'/acc_log_train.pkl', 'rb') as f:\n",
        "    acc_log_train = pickle.load(f)\n",
        "with open(path_log+'/loss_log_test.pkl', 'rb') as f:\n",
        "    loss_log_test = pickle.load(f)\n",
        "with open(path_log+'/acc_log_test.pkl', 'rb') as f:\n",
        "    acc_log_test = pickle.load(f)"
      ]
    },
    {
      "cell_type": "code",
      "source": [
        "len(loss_log_train)"
      ],
      "metadata": {
        "colab": {
          "base_uri": "https://localhost:8080/"
        },
        "id": "XsNiYT8btA2n",
        "outputId": "709de626-07aa-4e0c-c806-aa8d6be78271"
      },
      "execution_count": 19,
      "outputs": [
        {
          "output_type": "execute_result",
          "data": {
            "text/plain": [
              "501"
            ]
          },
          "metadata": {},
          "execution_count": 19
        }
      ]
    },
    {
      "cell_type": "code",
      "execution_count": 47,
      "metadata": {
        "id": "OTdS2oLYeOBQ",
        "colab": {
          "base_uri": "https://localhost:8080/",
          "height": 537
        },
        "outputId": "01f5051e-4a75-4bca-a305-c3d10a1b8900"
      },
      "outputs": [
        {
          "output_type": "display_data",
          "data": {
            "text/plain": [
              "<Figure size 648x648 with 4 Axes>"
            ],
            "image/png": "[encoded data removed]"
          },
          "metadata": {
            "needs_background": "light"
          }
        }
      ],
      "source": [
        "import matplotlib.pyplot as plt\n",
        "t = torch.arange(len(loss_log_train)).numpy()\n",
        "k = torch.arange(len(loss_log_test)).numpy()\n",
        "\n",
        "fig,ax = plt.subplots(4,1,figsize=(9, 9))\n",
        "ax[0].plot(t, loss_log_train, label=\"Loss train\")\n",
        "ax[1].plot(k, loss_log_test, label=\"Loss test\", color=\"y\")\n",
        "ax[2].plot(t, acc_log_train, label=\"Acc train\")\n",
        "ax[3].plot(k, acc_log_test, label=\"Acc test\", color=\"y\")\n",
        "\n",
        "for i in range(4):\n",
        "  ax[i].legend()"
      ]
    },
    {
      "cell_type": "markdown",
      "metadata": {
        "id": "0I0v14qrbrqr"
      },
      "source": [
        "# Predict\n",
        "\n"
      ]
    },
    {
      "cell_type": "code",
      "execution_count": 30,
      "metadata": {
        "id": "DAF3YUZ8POYz"
      },
      "outputs": [],
      "source": [
        "model = Model()\n",
        "model = model.to(device)\n",
        "device = 'cuda' if torch.cuda.is_available() else 'cpu'\n",
        "optimizer = torch.optim.Adam(model.parameters(), 3e-4)\n",
        "i=3\n",
        "path='/content/gdrive/MyDrive/AI/weight/con_wev/'+str(i)+'/checkpoint.pth'\n",
        "\n",
        "checkpoint = { \n",
        "    'model': model.state_dict(),\n",
        "    'optimizer': optimizer.state_dict(),\n",
        "}\n",
        "\n",
        "checkpoint = torch.load(path)\n",
        "model.load_state_dict(checkpoint['model'])\n",
        "optimizer.load_state_dict(checkpoint['optimizer'])"
      ]
    },
    {
      "cell_type": "code",
      "execution_count": 33,
      "metadata": {
        "id": "bXOZFEY05cpm",
        "colab": {
          "base_uri": "https://localhost:8080/"
        },
        "outputId": "6116bc63-9360-4455-aafe-1b611f43cabf"
      },
      "outputs": [
        {
          "output_type": "execute_result",
          "data": {
            "text/plain": [
              "Model(\n",
              "  (convo1): Sequential(\n",
              "    (0): Conv1d(254, 256, kernel_size=(7,), stride=(1,), padding=same)\n",
              "    (1): BatchNorm1d(256, eps=1e-05, momentum=0.1, affine=True, track_running_stats=True)\n",
              "    (2): ReLU()\n",
              "  )\n",
              "  (convo2): Sequential(\n",
              "    (0): Conv1d(256, 256, kernel_size=(7,), stride=(1,), padding=same)\n",
              "    (1): BatchNorm1d(256, eps=1e-05, momentum=0.1, affine=True, track_running_stats=True)\n",
              "    (2): ReLU()\n",
              "  )\n",
              "  (convo3): Sequential(\n",
              "    (0): Conv1d(256, 512, kernel_size=(7,), stride=(1,), padding=same)\n",
              "    (1): BatchNorm1d(512, eps=1e-05, momentum=0.1, affine=True, track_running_stats=True)\n",
              "    (2): ReLU()\n",
              "  )\n",
              "  (convo4): Sequential(\n",
              "    (0): Conv1d(512, 512, kernel_size=(7,), stride=(1,), padding=same)\n",
              "    (1): BatchNorm1d(512, eps=1e-05, momentum=0.1, affine=True, track_running_stats=True)\n",
              "    (2): ReLU()\n",
              "  )\n",
              "  (convo5): Sequential(\n",
              "    (0): Conv1d(512, 2048, kernel_size=(32,), stride=(1,), padding=same)\n",
              "    (1): BatchNorm1d(2048, eps=1e-05, momentum=0.1, affine=True, track_running_stats=True)\n",
              "    (2): ReLU()\n",
              "  )\n",
              "  (convo6): Sequential(\n",
              "    (0): Conv1d(2048, 2048, kernel_size=(1,), stride=(1,), padding=same)\n",
              "    (1): BatchNorm1d(2048, eps=1e-05, momentum=0.1, affine=True, track_running_stats=True)\n",
              "    (2): ReLU()\n",
              "  )\n",
              "  (convo7): Sequential(\n",
              "    (0): Conv1d(2048, 12, kernel_size=(1,), stride=(1,), padding=same)\n",
              "    (1): BatchNorm1d(12, eps=1e-05, momentum=0.1, affine=True, track_running_stats=True)\n",
              "    (2): ReLU()\n",
              "  )\n",
              "  (flatten): Flatten(start_dim=1, end_dim=-1)\n",
              "  (linear): Linear(in_features=25600, out_features=12, bias=True)\n",
              ")"
            ]
          },
          "metadata": {},
          "execution_count": 33
        }
      ],
      "source": [
        "model = Model()\n",
        "device = 'cuda' if torch.cuda.is_available() else 'cpu'\n",
        "optimizer = torch.optim.Adam(model.parameters(), 3e-4)\n",
        "i=3\n",
        "model.load_state_dict(torch.load('/content/gdrive/MyDrive/AI/weight/con_wev/'+str(i)+'/model_weight.pth'))\n",
        "model = model.to(device)\n",
        "model.eval()"
      ]
    },
    {
      "cell_type": "code",
      "execution_count": 31,
      "metadata": {
        "id": "gp9cn1MLeMP1"
      },
      "outputs": [],
      "source": [
        "def predict(model, input, target, class_mapping) :\n",
        "  model.eval() #เป็นสวิตท์ model.eval() ใช่ในการทาย // model.train() ใช้ในการเทรน\n",
        "  \n",
        "  with torch.no_grad(): #ใช้ model แบบไม่คำนวน grad\n",
        "    pred = model(input)\n",
        "    #จะ map ไปเป็น class โดย pred อยู่ในรูป (batch, number , class) -> (1,1,10)\n",
        "    pred_index = (pred.argmax(dim=1)).to(dtype=int)\n",
        "        # pred[0] เอามาแค่ตัวแรก\n",
        "        # argmax(0)  เลือกเอาอากิวเมนต์ที่มีค่าสูงสุด [เพราะ softmax ทำนายออกมาเป็น % ความน่าจะเป็น]\n",
        "    preds=[]\n",
        "    expected=[]\n",
        "    print(f\"Accuracy : {M_accuracy(pred,target)*100}\")\n",
        "    for i in range(len(pred_index)) :\n",
        "      preds.append(class_mapping[pred_index[i]])\n",
        "      expected.append(class_mapping[target[i]])\n",
        "  return preds, expected"
      ]
    },
    {
      "cell_type": "code",
      "execution_count": 34,
      "metadata": {
        "id": "hwQc30L9buls",
        "colab": {
          "base_uri": "https://localhost:8080/",
          "height": 413,
          "referenced_widgets": [
            "78ade362a9a94ff0ac8ac193422746ca",
            "cb04dc258fc94eaab5be24762de54f29",
            "1d32315bc9354952bd51a524017af548",
            "69938a6359a647789707e95bfae789e6",
            "a78e8b77cc654b9d908c9a383a294bd4",
            "480807f9fee7417689adcb8077e22bbc",
            "00e3fffca43c45c4b2ace5ca64a6caef",
            "b31750a8aaa64768816f0deb7f5dddf0",
            "23f1349c92c345eaad295b8900519586",
            "0f2b6b67e7e744c2a9024aa513a08182",
            "58304bbb0ab94d0c8fd7166253e97ef2"
          ]
        },
        "outputId": "f6a8d30d-5481-4f10-9657-7b71a3efe687"
      },
      "outputs": [
        {
          "output_type": "display_data",
          "data": {
            "text/plain": [
              "  0%|          | 0/42 [00:00<?, ?it/s]"
            ],
            "application/vnd.jupyter.widget-view+json": {
              "version_major": 2,
              "version_minor": 0,
              "model_id": "78ade362a9a94ff0ac8ac193422746ca"
            }
          },
          "metadata": {}
        },
        {
          "output_type": "stream",
          "name": "stdout",
          "text": [
            "Accuracy : 94.53125\n",
            "Predicted: 'F#', expected: 'F#'\n",
            "Predicted: 'A#', expected: 'A#'\n",
            "Predicted: 'B', expected: 'B'\n",
            "Predicted: 'C', expected: 'C'\n",
            "Predicted: 'B', expected: 'B'\n",
            "Predicted: 'F', expected: 'F'\n",
            "Predicted: 'F#', expected: 'F#'\n",
            "Predicted: 'A#', expected: 'A#'\n",
            "Predicted: 'A', expected: 'A'\n",
            "Predicted: 'B', expected: 'B'\n",
            "Predicted: 'F', expected: 'F'\n",
            "Predicted: 'F#', expected: 'F#'\n",
            "Predicted: 'G', expected: 'G'\n",
            "Predicted: 'C', expected: 'C'\n",
            "Predicted: 'F', expected: 'F'\n",
            "Predicted: 'D', expected: 'D'\n",
            "Predicted: 'B', expected: 'B'\n",
            "Predicted: 'F', expected: 'F'\n",
            "Predicted: 'C', expected: 'C'\n",
            "Predicted: 'E', expected: 'E'\n"
          ]
        }
      ],
      "source": [
        "from sys import breakpointhook\n",
        "\n",
        "batch_size=128\n",
        "validation=DataLoader(test_dataset, batch_size=batch_size)\n",
        "for batch in tqdm(validation):\n",
        "    xb, yb = batch\n",
        "    break\n",
        "  \n",
        "predicted, expected = predict(model, xb, yb, classmap)\n",
        "for i in range(20) :\n",
        "    print(f\"Predicted: '{predicted[i]}', expected: '{expected[i]}'\")"
      ]
    }
  ],
  "metadata": {
    "colab": {
      "collapsed_sections": [],
      "name": "Feat_Model.ipynb",
      "provenance": [],
      "authorship_tag": "ABX9TyPdptxoimHJiQmPceflX5dY",
      "include_colab_link": true
    },
    "kernelspec": {
      "display_name": "Python 3",
      "name": "python3"
    },
    "language_info": {
      "name": "python"
    },
    "widgets": {
      "application/vnd.jupyter.widget-state+json": {
        "40ae4c0811754738970b5480fac732e0": {
          "model_module": "@jupyter-widgets/controls",
          "model_name": "HBoxModel",
          "model_module_version": "1.5.0",
          "state": {
            "_dom_classes": [],
            "_model_module": "@jupyter-widgets/controls",
            "_model_module_version": "1.5.0",
            "_model_name": "HBoxModel",
            "_view_count": null,
            "_view_module": "@jupyter-widgets/controls",
            "_view_module_version": "1.5.0",
            "_view_name": "HBoxView",
            "box_style": "",
            "children": [
              "IPY_MODEL_e97373649063425c927c4a3aa8b71475",
              "IPY_MODEL_93c435a101d04ba59776c3bf008bd453",
              "IPY_MODEL_3dd57961bed748258bf7d251ac4e5490"
            ],
            "layout": "IPY_MODEL_0ca683fae9904b9eb2d72d5c22016fa3"
          }
        },
        "e97373649063425c927c4a3aa8b71475": {
          "model_module": "@jupyter-widgets/controls",
          "model_name": "HTMLModel",
          "model_module_version": "1.5.0",
          "state": {
            "_dom_classes": [],
            "_model_module": "@jupyter-widgets/controls",
            "_model_module_version": "1.5.0",
            "_model_name": "HTMLModel",
            "_view_count": null,
            "_view_module": "@jupyter-widgets/controls",
            "_view_module_version": "1.5.0",
            "_view_name": "HTMLView",
            "description": "",
            "description_tooltip": null,
            "layout": "IPY_MODEL_ff21f5c5cddb4e7da6101fb9db595f4f",
            "placeholder": "​",
            "style": "IPY_MODEL_832f3a613f594c95946937b548000ec3",
            "value": "  0%"
          }
        },
        "93c435a101d04ba59776c3bf008bd453": {
          "model_module": "@jupyter-widgets/controls",
          "model_name": "FloatProgressModel",
          "model_module_version": "1.5.0",
          "state": {
            "_dom_classes": [],
            "_model_module": "@jupyter-widgets/controls",
            "_model_module_version": "1.5.0",
            "_model_name": "FloatProgressModel",
            "_view_count": null,
            "_view_module": "@jupyter-widgets/controls",
            "_view_module_version": "1.5.0",
            "_view_name": "ProgressView",
            "bar_style": "danger",
            "description": "",
            "description_tooltip": null,
            "layout": "IPY_MODEL_9f7c446f43ed4edfa2c5ec70c928776c",
            "max": 42,
            "min": 0,
            "orientation": "horizontal",
            "style": "IPY_MODEL_2096b7ea7b79402cb3ebbb11b8524f1b",
            "value": 0
          }
        },
        "3dd57961bed748258bf7d251ac4e5490": {
          "model_module": "@jupyter-widgets/controls",
          "model_name": "HTMLModel",
          "model_module_version": "1.5.0",
          "state": {
            "_dom_classes": [],
            "_model_module": "@jupyter-widgets/controls",
            "_model_module_version": "1.5.0",
            "_model_name": "HTMLModel",
            "_view_count": null,
            "_view_module": "@jupyter-widgets/controls",
            "_view_module_version": "1.5.0",
            "_view_name": "HTMLView",
            "description": "",
            "description_tooltip": null,
            "layout": "IPY_MODEL_92df0c95d2604e04b9aecf27eb872b16",
            "placeholder": "​",
            "style": "IPY_MODEL_62ae240abaf4438d9fb98c2907cfba3f",
            "value": " 0/42 [00:06&lt;?, ?it/s]"
          }
        },
        "0ca683fae9904b9eb2d72d5c22016fa3": {
          "model_module": "@jupyter-widgets/base",
          "model_name": "LayoutModel",
          "model_module_version": "1.2.0",
          "state": {
            "_model_module": "@jupyter-widgets/base",
            "_model_module_version": "1.2.0",
            "_model_name": "LayoutModel",
            "_view_count": null,
            "_view_module": "@jupyter-widgets/base",
            "_view_module_version": "1.2.0",
            "_view_name": "LayoutView",
            "align_content": null,
            "align_items": null,
            "align_self": null,
            "border": null,
            "bottom": null,
            "display": null,
            "flex": null,
            "flex_flow": null,
            "grid_area": null,
            "grid_auto_columns": null,
            "grid_auto_flow": null,
            "grid_auto_rows": null,
            "grid_column": null,
            "grid_gap": null,
            "grid_row": null,
            "grid_template_areas": null,
            "grid_template_columns": null,
            "grid_template_rows": null,
            "height": null,
            "justify_content": null,
            "justify_items": null,
            "left": null,
            "margin": null,
            "max_height": null,
            "max_width": null,
            "min_height": null,
            "min_width": null,
            "object_fit": null,
            "object_position": null,
            "order": null,
            "overflow": null,
            "overflow_x": null,
            "overflow_y": null,
            "padding": null,
            "right": null,
            "top": null,
            "visibility": null,
            "width": null
          }
        },
        "ff21f5c5cddb4e7da6101fb9db595f4f": {
          "model_module": "@jupyter-widgets/base",
          "model_name": "LayoutModel",
          "model_module_version": "1.2.0",
          "state": {
            "_model_module": "@jupyter-widgets/base",
            "_model_module_version": "1.2.0",
            "_model_name": "LayoutModel",
            "_view_count": null,
            "_view_module": "@jupyter-widgets/base",
            "_view_module_version": "1.2.0",
            "_view_name": "LayoutView",
            "align_content": null,
            "align_items": null,
            "align_self": null,
            "border": null,
            "bottom": null,
            "display": null,
            "flex": null,
            "flex_flow": null,
            "grid_area": null,
            "grid_auto_columns": null,
            "grid_auto_flow": null,
            "grid_auto_rows": null,
            "grid_column": null,
            "grid_gap": null,
            "grid_row": null,
            "grid_template_areas": null,
            "grid_template_columns": null,
            "grid_template_rows": null,
            "height": null,
            "justify_content": null,
            "justify_items": null,
            "left": null,
            "margin": null,
            "max_height": null,
            "max_width": null,
            "min_height": null,
            "min_width": null,
            "object_fit": null,
            "object_position": null,
            "order": null,
            "overflow": null,
            "overflow_x": null,
            "overflow_y": null,
            "padding": null,
            "right": null,
            "top": null,
            "visibility": null,
            "width": null
          }
        },
        "832f3a613f594c95946937b548000ec3": {
          "model_module": "@jupyter-widgets/controls",
          "model_name": "DescriptionStyleModel",
          "model_module_version": "1.5.0",
          "state": {
            "_model_module": "@jupyter-widgets/controls",
            "_model_module_version": "1.5.0",
            "_model_name": "DescriptionStyleModel",
            "_view_count": null,
            "_view_module": "@jupyter-widgets/base",
            "_view_module_version": "1.2.0",
            "_view_name": "StyleView",
            "description_width": ""
          }
        },
        "9f7c446f43ed4edfa2c5ec70c928776c": {
          "model_module": "@jupyter-widgets/base",
          "model_name": "LayoutModel",
          "model_module_version": "1.2.0",
          "state": {
            "_model_module": "@jupyter-widgets/base",
            "_model_module_version": "1.2.0",
            "_model_name": "LayoutModel",
            "_view_count": null,
            "_view_module": "@jupyter-widgets/base",
            "_view_module_version": "1.2.0",
            "_view_name": "LayoutView",
            "align_content": null,
            "align_items": null,
            "align_self": null,
            "border": null,
            "bottom": null,
            "display": null,
            "flex": null,
            "flex_flow": null,
            "grid_area": null,
            "grid_auto_columns": null,
            "grid_auto_flow": null,
            "grid_auto_rows": null,
            "grid_column": null,
            "grid_gap": null,
            "grid_row": null,
            "grid_template_areas": null,
            "grid_template_columns": null,
            "grid_template_rows": null,
            "height": null,
            "justify_content": null,
            "justify_items": null,
            "left": null,
            "margin": null,
            "max_height": null,
            "max_width": null,
            "min_height": null,
            "min_width": null,
            "object_fit": null,
            "object_position": null,
            "order": null,
            "overflow": null,
            "overflow_x": null,
            "overflow_y": null,
            "padding": null,
            "right": null,
            "top": null,
            "visibility": null,
            "width": null
          }
        },
        "2096b7ea7b79402cb3ebbb11b8524f1b": {
          "model_module": "@jupyter-widgets/controls",
          "model_name": "ProgressStyleModel",
          "model_module_version": "1.5.0",
          "state": {
            "_model_module": "@jupyter-widgets/controls",
            "_model_module_version": "1.5.0",
            "_model_name": "ProgressStyleModel",
            "_view_count": null,
            "_view_module": "@jupyter-widgets/base",
            "_view_module_version": "1.2.0",
            "_view_name": "StyleView",
            "bar_color": null,
            "description_width": ""
          }
        },
        "92df0c95d2604e04b9aecf27eb872b16": {
          "model_module": "@jupyter-widgets/base",
          "model_name": "LayoutModel",
          "model_module_version": "1.2.0",
          "state": {
            "_model_module": "@jupyter-widgets/base",
            "_model_module_version": "1.2.0",
            "_model_name": "LayoutModel",
            "_view_count": null,
            "_view_module": "@jupyter-widgets/base",
            "_view_module_version": "1.2.0",
            "_view_name": "LayoutView",
            "align_content": null,
            "align_items": null,
            "align_self": null,
            "border": null,
            "bottom": null,
            "display": null,
            "flex": null,
            "flex_flow": null,
            "grid_area": null,
            "grid_auto_columns": null,
            "grid_auto_flow": null,
            "grid_auto_rows": null,
            "grid_column": null,
            "grid_gap": null,
            "grid_row": null,
            "grid_template_areas": null,
            "grid_template_columns": null,
            "grid_template_rows": null,
            "height": null,
            "justify_content": null,
            "justify_items": null,
            "left": null,
            "margin": null,
            "max_height": null,
            "max_width": null,
            "min_height": null,
            "min_width": null,
            "object_fit": null,
            "object_position": null,
            "order": null,
            "overflow": null,
            "overflow_x": null,
            "overflow_y": null,
            "padding": null,
            "right": null,
            "top": null,
            "visibility": null,
            "width": null
          }
        },
        "62ae240abaf4438d9fb98c2907cfba3f": {
          "model_module": "@jupyter-widgets/controls",
          "model_name": "DescriptionStyleModel",
          "model_module_version": "1.5.0",
          "state": {
            "_model_module": "@jupyter-widgets/controls",
            "_model_module_version": "1.5.0",
            "_model_name": "DescriptionStyleModel",
            "_view_count": null,
            "_view_module": "@jupyter-widgets/base",
            "_view_module_version": "1.2.0",
            "_view_name": "StyleView",
            "description_width": ""
          }
        },
        "7537501016bf41fca09531c38e1b1a4e": {
          "model_module": "@jupyter-widgets/controls",
          "model_name": "HBoxModel",
          "model_module_version": "1.5.0",
          "state": {
            "_dom_classes": [],
            "_model_module": "@jupyter-widgets/controls",
            "_model_module_version": "1.5.0",
            "_model_name": "HBoxModel",
            "_view_count": null,
            "_view_module": "@jupyter-widgets/controls",
            "_view_module_version": "1.5.0",
            "_view_name": "HBoxView",
            "box_style": "",
            "children": [
              "IPY_MODEL_9e48563468194ea08c8f291950eff3a1",
              "IPY_MODEL_bfe7aaac92b84cb58970eed81bb720be",
              "IPY_MODEL_ce713971575e46be81d255ff70b67611"
            ],
            "layout": "IPY_MODEL_004c03e567164550898dea8813904d14"
          }
        },
        "9e48563468194ea08c8f291950eff3a1": {
          "model_module": "@jupyter-widgets/controls",
          "model_name": "HTMLModel",
          "model_module_version": "1.5.0",
          "state": {
            "_dom_classes": [],
            "_model_module": "@jupyter-widgets/controls",
            "_model_module_version": "1.5.0",
            "_model_name": "HTMLModel",
            "_view_count": null,
            "_view_module": "@jupyter-widgets/controls",
            "_view_module_version": "1.5.0",
            "_view_name": "HTMLView",
            "description": "",
            "description_tooltip": null,
            "layout": "IPY_MODEL_e69d55309b704b4bafa675b93a2e6ad9",
            "placeholder": "​",
            "style": "IPY_MODEL_280ff661ea1746c5bb19dc6fddd2af35",
            "value": "  1%"
          }
        },
        "bfe7aaac92b84cb58970eed81bb720be": {
          "model_module": "@jupyter-widgets/controls",
          "model_name": "FloatProgressModel",
          "model_module_version": "1.5.0",
          "state": {
            "_dom_classes": [],
            "_model_module": "@jupyter-widgets/controls",
            "_model_module_version": "1.5.0",
            "_model_name": "FloatProgressModel",
            "_view_count": null,
            "_view_module": "@jupyter-widgets/controls",
            "_view_module_version": "1.5.0",
            "_view_name": "ProgressView",
            "bar_style": "",
            "description": "",
            "description_tooltip": null,
            "layout": "IPY_MODEL_f0970924bdac4469b52850941e31479b",
            "max": 167,
            "min": 0,
            "orientation": "horizontal",
            "style": "IPY_MODEL_78deeb45ff824942a4a8805cef9767dd",
            "value": 1
          }
        },
        "ce713971575e46be81d255ff70b67611": {
          "model_module": "@jupyter-widgets/controls",
          "model_name": "HTMLModel",
          "model_module_version": "1.5.0",
          "state": {
            "_dom_classes": [],
            "_model_module": "@jupyter-widgets/controls",
            "_model_module_version": "1.5.0",
            "_model_name": "HTMLModel",
            "_view_count": null,
            "_view_module": "@jupyter-widgets/controls",
            "_view_module_version": "1.5.0",
            "_view_name": "HTMLView",
            "description": "",
            "description_tooltip": null,
            "layout": "IPY_MODEL_3855d1fd82874fa9a75251d5f2f83c0f",
            "placeholder": "​",
            "style": "IPY_MODEL_9cb0c289ff574c2caad5f36760f826bf",
            "value": " 1/167 [00:10&lt;30:01, 10.85s/it]"
          }
        },
        "004c03e567164550898dea8813904d14": {
          "model_module": "@jupyter-widgets/base",
          "model_name": "LayoutModel",
          "model_module_version": "1.2.0",
          "state": {
            "_model_module": "@jupyter-widgets/base",
            "_model_module_version": "1.2.0",
            "_model_name": "LayoutModel",
            "_view_count": null,
            "_view_module": "@jupyter-widgets/base",
            "_view_module_version": "1.2.0",
            "_view_name": "LayoutView",
            "align_content": null,
            "align_items": null,
            "align_self": null,
            "border": null,
            "bottom": null,
            "display": null,
            "flex": null,
            "flex_flow": null,
            "grid_area": null,
            "grid_auto_columns": null,
            "grid_auto_flow": null,
            "grid_auto_rows": null,
            "grid_column": null,
            "grid_gap": null,
            "grid_row": null,
            "grid_template_areas": null,
            "grid_template_columns": null,
            "grid_template_rows": null,
            "height": null,
            "justify_content": null,
            "justify_items": null,
            "left": null,
            "margin": null,
            "max_height": null,
            "max_width": null,
            "min_height": null,
            "min_width": null,
            "object_fit": null,
            "object_position": null,
            "order": null,
            "overflow": null,
            "overflow_x": null,
            "overflow_y": null,
            "padding": null,
            "right": null,
            "top": null,
            "visibility": null,
            "width": null
          }
        },
        "e69d55309b704b4bafa675b93a2e6ad9": {
          "model_module": "@jupyter-widgets/base",
          "model_name": "LayoutModel",
          "model_module_version": "1.2.0",
          "state": {
            "_model_module": "@jupyter-widgets/base",
            "_model_module_version": "1.2.0",
            "_model_name": "LayoutModel",
            "_view_count": null,
            "_view_module": "@jupyter-widgets/base",
            "_view_module_version": "1.2.0",
            "_view_name": "LayoutView",
            "align_content": null,
            "align_items": null,
            "align_self": null,
            "border": null,
            "bottom": null,
            "display": null,
            "flex": null,
            "flex_flow": null,
            "grid_area": null,
            "grid_auto_columns": null,
            "grid_auto_flow": null,
            "grid_auto_rows": null,
            "grid_column": null,
            "grid_gap": null,
            "grid_row": null,
            "grid_template_areas": null,
            "grid_template_columns": null,
            "grid_template_rows": null,
            "height": null,
            "justify_content": null,
            "justify_items": null,
            "left": null,
            "margin": null,
            "max_height": null,
            "max_width": null,
            "min_height": null,
            "min_width": null,
            "object_fit": null,
            "object_position": null,
            "order": null,
            "overflow": null,
            "overflow_x": null,
            "overflow_y": null,
            "padding": null,
            "right": null,
            "top": null,
            "visibility": null,
            "width": null
          }
        },
        "280ff661ea1746c5bb19dc6fddd2af35": {
          "model_module": "@jupyter-widgets/controls",
          "model_name": "DescriptionStyleModel",
          "model_module_version": "1.5.0",
          "state": {
            "_model_module": "@jupyter-widgets/controls",
            "_model_module_version": "1.5.0",
            "_model_name": "DescriptionStyleModel",
            "_view_count": null,
            "_view_module": "@jupyter-widgets/base",
            "_view_module_version": "1.2.0",
            "_view_name": "StyleView",
            "description_width": ""
          }
        },
        "f0970924bdac4469b52850941e31479b": {
          "model_module": "@jupyter-widgets/base",
          "model_name": "LayoutModel",
          "model_module_version": "1.2.0",
          "state": {
            "_model_module": "@jupyter-widgets/base",
            "_model_module_version": "1.2.0",
            "_model_name": "LayoutModel",
            "_view_count": null,
            "_view_module": "@jupyter-widgets/base",
            "_view_module_version": "1.2.0",
            "_view_name": "LayoutView",
            "align_content": null,
            "align_items": null,
            "align_self": null,
            "border": null,
            "bottom": null,
            "display": null,
            "flex": null,
            "flex_flow": null,
            "grid_area": null,
            "grid_auto_columns": null,
            "grid_auto_flow": null,
            "grid_auto_rows": null,
            "grid_column": null,
            "grid_gap": null,
            "grid_row": null,
            "grid_template_areas": null,
            "grid_template_columns": null,
            "grid_template_rows": null,
            "height": null,
            "justify_content": null,
            "justify_items": null,
            "left": null,
            "margin": null,
            "max_height": null,
            "max_width": null,
            "min_height": null,
            "min_width": null,
            "object_fit": null,
            "object_position": null,
            "order": null,
            "overflow": null,
            "overflow_x": null,
            "overflow_y": null,
            "padding": null,
            "right": null,
            "top": null,
            "visibility": null,
            "width": null
          }
        },
        "78deeb45ff824942a4a8805cef9767dd": {
          "model_module": "@jupyter-widgets/controls",
          "model_name": "ProgressStyleModel",
          "model_module_version": "1.5.0",
          "state": {
            "_model_module": "@jupyter-widgets/controls",
            "_model_module_version": "1.5.0",
            "_model_name": "ProgressStyleModel",
            "_view_count": null,
            "_view_module": "@jupyter-widgets/base",
            "_view_module_version": "1.2.0",
            "_view_name": "StyleView",
            "bar_color": null,
            "description_width": ""
          }
        },
        "3855d1fd82874fa9a75251d5f2f83c0f": {
          "model_module": "@jupyter-widgets/base",
          "model_name": "LayoutModel",
          "model_module_version": "1.2.0",
          "state": {
            "_model_module": "@jupyter-widgets/base",
            "_model_module_version": "1.2.0",
            "_model_name": "LayoutModel",
            "_view_count": null,
            "_view_module": "@jupyter-widgets/base",
            "_view_module_version": "1.2.0",
            "_view_name": "LayoutView",
            "align_content": null,
            "align_items": null,
            "align_self": null,
            "border": null,
            "bottom": null,
            "display": null,
            "flex": null,
            "flex_flow": null,
            "grid_area": null,
            "grid_auto_columns": null,
            "grid_auto_flow": null,
            "grid_auto_rows": null,
            "grid_column": null,
            "grid_gap": null,
            "grid_row": null,
            "grid_template_areas": null,
            "grid_template_columns": null,
            "grid_template_rows": null,
            "height": null,
            "justify_content": null,
            "justify_items": null,
            "left": null,
            "margin": null,
            "max_height": null,
            "max_width": null,
            "min_height": null,
            "min_width": null,
            "object_fit": null,
            "object_position": null,
            "order": null,
            "overflow": null,
            "overflow_x": null,
            "overflow_y": null,
            "padding": null,
            "right": null,
            "top": null,
            "visibility": null,
            "width": null
          }
        },
        "9cb0c289ff574c2caad5f36760f826bf": {
          "model_module": "@jupyter-widgets/controls",
          "model_name": "DescriptionStyleModel",
          "model_module_version": "1.5.0",
          "state": {
            "_model_module": "@jupyter-widgets/controls",
            "_model_module_version": "1.5.0",
            "_model_name": "DescriptionStyleModel",
            "_view_count": null,
            "_view_module": "@jupyter-widgets/base",
            "_view_module_version": "1.2.0",
            "_view_name": "StyleView",
            "description_width": ""
          }
        },
        "78ade362a9a94ff0ac8ac193422746ca": {
          "model_module": "@jupyter-widgets/controls",
          "model_name": "HBoxModel",
          "model_module_version": "1.5.0",
          "state": {
            "_dom_classes": [],
            "_model_module": "@jupyter-widgets/controls",
            "_model_module_version": "1.5.0",
            "_model_name": "HBoxModel",
            "_view_count": null,
            "_view_module": "@jupyter-widgets/controls",
            "_view_module_version": "1.5.0",
            "_view_name": "HBoxView",
            "box_style": "",
            "children": [
              "IPY_MODEL_cb04dc258fc94eaab5be24762de54f29",
              "IPY_MODEL_1d32315bc9354952bd51a524017af548",
              "IPY_MODEL_69938a6359a647789707e95bfae789e6"
            ],
            "layout": "IPY_MODEL_a78e8b77cc654b9d908c9a383a294bd4"
          }
        },
        "cb04dc258fc94eaab5be24762de54f29": {
          "model_module": "@jupyter-widgets/controls",
          "model_name": "HTMLModel",
          "model_module_version": "1.5.0",
          "state": {
            "_dom_classes": [],
            "_model_module": "@jupyter-widgets/controls",
            "_model_module_version": "1.5.0",
            "_model_name": "HTMLModel",
            "_view_count": null,
            "_view_module": "@jupyter-widgets/controls",
            "_view_module_version": "1.5.0",
            "_view_name": "HTMLView",
            "description": "",
            "description_tooltip": null,
            "layout": "IPY_MODEL_480807f9fee7417689adcb8077e22bbc",
            "placeholder": "​",
            "style": "IPY_MODEL_00e3fffca43c45c4b2ace5ca64a6caef",
            "value": "  0%"
          }
        },
        "1d32315bc9354952bd51a524017af548": {
          "model_module": "@jupyter-widgets/controls",
          "model_name": "FloatProgressModel",
          "model_module_version": "1.5.0",
          "state": {
            "_dom_classes": [],
            "_model_module": "@jupyter-widgets/controls",
            "_model_module_version": "1.5.0",
            "_model_name": "FloatProgressModel",
            "_view_count": null,
            "_view_module": "@jupyter-widgets/controls",
            "_view_module_version": "1.5.0",
            "_view_name": "ProgressView",
            "bar_style": "danger",
            "description": "",
            "description_tooltip": null,
            "layout": "IPY_MODEL_b31750a8aaa64768816f0deb7f5dddf0",
            "max": 42,
            "min": 0,
            "orientation": "horizontal",
            "style": "IPY_MODEL_23f1349c92c345eaad295b8900519586",
            "value": 0
          }
        },
        "69938a6359a647789707e95bfae789e6": {
          "model_module": "@jupyter-widgets/controls",
          "model_name": "HTMLModel",
          "model_module_version": "1.5.0",
          "state": {
            "_dom_classes": [],
            "_model_module": "@jupyter-widgets/controls",
            "_model_module_version": "1.5.0",
            "_model_name": "HTMLModel",
            "_view_count": null,
            "_view_module": "@jupyter-widgets/controls",
            "_view_module_version": "1.5.0",
            "_view_name": "HTMLView",
            "description": "",
            "description_tooltip": null,
            "layout": "IPY_MODEL_0f2b6b67e7e744c2a9024aa513a08182",
            "placeholder": "​",
            "style": "IPY_MODEL_58304bbb0ab94d0c8fd7166253e97ef2",
            "value": " 0/42 [00:08&lt;?, ?it/s]"
          }
        },
        "a78e8b77cc654b9d908c9a383a294bd4": {
          "model_module": "@jupyter-widgets/base",
          "model_name": "LayoutModel",
          "model_module_version": "1.2.0",
          "state": {
            "_model_module": "@jupyter-widgets/base",
            "_model_module_version": "1.2.0",
            "_model_name": "LayoutModel",
            "_view_count": null,
            "_view_module": "@jupyter-widgets/base",
            "_view_module_version": "1.2.0",
            "_view_name": "LayoutView",
            "align_content": null,
            "align_items": null,
            "align_self": null,
            "border": null,
            "bottom": null,
            "display": null,
            "flex": null,
            "flex_flow": null,
            "grid_area": null,
            "grid_auto_columns": null,
            "grid_auto_flow": null,
            "grid_auto_rows": null,
            "grid_column": null,
            "grid_gap": null,
            "grid_row": null,
            "grid_template_areas": null,
            "grid_template_columns": null,
            "grid_template_rows": null,
            "height": null,
            "justify_content": null,
            "justify_items": null,
            "left": null,
            "margin": null,
            "max_height": null,
            "max_width": null,
            "min_height": null,
            "min_width": null,
            "object_fit": null,
            "object_position": null,
            "order": null,
            "overflow": null,
            "overflow_x": null,
            "overflow_y": null,
            "padding": null,
            "right": null,
            "top": null,
            "visibility": null,
            "width": null
          }
        },
        "480807f9fee7417689adcb8077e22bbc": {
          "model_module": "@jupyter-widgets/base",
          "model_name": "LayoutModel",
          "model_module_version": "1.2.0",
          "state": {
            "_model_module": "@jupyter-widgets/base",
            "_model_module_version": "1.2.0",
            "_model_name": "LayoutModel",
            "_view_count": null,
            "_view_module": "@jupyter-widgets/base",
            "_view_module_version": "1.2.0",
            "_view_name": "LayoutView",
            "align_content": null,
            "align_items": null,
            "align_self": null,
            "border": null,
            "bottom": null,
            "display": null,
            "flex": null,
            "flex_flow": null,
            "grid_area": null,
            "grid_auto_columns": null,
            "grid_auto_flow": null,
            "grid_auto_rows": null,
            "grid_column": null,
            "grid_gap": null,
            "grid_row": null,
            "grid_template_areas": null,
            "grid_template_columns": null,
            "grid_template_rows": null,
            "height": null,
            "justify_content": null,
            "justify_items": null,
            "left": null,
            "margin": null,
            "max_height": null,
            "max_width": null,
            "min_height": null,
            "min_width": null,
            "object_fit": null,
            "object_position": null,
            "order": null,
            "overflow": null,
            "overflow_x": null,
            "overflow_y": null,
            "padding": null,
            "right": null,
            "top": null,
            "visibility": null,
            "width": null
          }
        },
        "00e3fffca43c45c4b2ace5ca64a6caef": {
          "model_module": "@jupyter-widgets/controls",
          "model_name": "DescriptionStyleModel",
          "model_module_version": "1.5.0",
          "state": {
            "_model_module": "@jupyter-widgets/controls",
            "_model_module_version": "1.5.0",
            "_model_name": "DescriptionStyleModel",
            "_view_count": null,
            "_view_module": "@jupyter-widgets/base",
            "_view_module_version": "1.2.0",
            "_view_name": "StyleView",
            "description_width": ""
          }
        },
        "b31750a8aaa64768816f0deb7f5dddf0": {
          "model_module": "@jupyter-widgets/base",
          "model_name": "LayoutModel",
          "model_module_version": "1.2.0",
          "state": {
            "_model_module": "@jupyter-widgets/base",
            "_model_module_version": "1.2.0",
            "_model_name": "LayoutModel",
            "_view_count": null,
            "_view_module": "@jupyter-widgets/base",
            "_view_module_version": "1.2.0",
            "_view_name": "LayoutView",
            "align_content": null,
            "align_items": null,
            "align_self": null,
            "border": null,
            "bottom": null,
            "display": null,
            "flex": null,
            "flex_flow": null,
            "grid_area": null,
            "grid_auto_columns": null,
            "grid_auto_flow": null,
            "grid_auto_rows": null,
            "grid_column": null,
            "grid_gap": null,
            "grid_row": null,
            "grid_template_areas": null,
            "grid_template_columns": null,
            "grid_template_rows": null,
            "height": null,
            "justify_content": null,
            "justify_items": null,
            "left": null,
            "margin": null,
            "max_height": null,
            "max_width": null,
            "min_height": null,
            "min_width": null,
            "object_fit": null,
            "object_position": null,
            "order": null,
            "overflow": null,
            "overflow_x": null,
            "overflow_y": null,
            "padding": null,
            "right": null,
            "top": null,
            "visibility": null,
            "width": null
          }
        },
        "23f1349c92c345eaad295b8900519586": {
          "model_module": "@jupyter-widgets/controls",
          "model_name": "ProgressStyleModel",
          "model_module_version": "1.5.0",
          "state": {
            "_model_module": "@jupyter-widgets/controls",
            "_model_module_version": "1.5.0",
            "_model_name": "ProgressStyleModel",
            "_view_count": null,
            "_view_module": "@jupyter-widgets/base",
            "_view_module_version": "1.2.0",
            "_view_name": "StyleView",
            "bar_color": null,
            "description_width": ""
          }
        },
        "0f2b6b67e7e744c2a9024aa513a08182": {
          "model_module": "@jupyter-widgets/base",
          "model_name": "LayoutModel",
          "model_module_version": "1.2.0",
          "state": {
            "_model_module": "@jupyter-widgets/base",
            "_model_module_version": "1.2.0",
            "_model_name": "LayoutModel",
            "_view_count": null,
            "_view_module": "@jupyter-widgets/base",
            "_view_module_version": "1.2.0",
            "_view_name": "LayoutView",
            "align_content": null,
            "align_items": null,
            "align_self": null,
            "border": null,
            "bottom": null,
            "display": null,
            "flex": null,
            "flex_flow": null,
            "grid_area": null,
            "grid_auto_columns": null,
            "grid_auto_flow": null,
            "grid_auto_rows": null,
            "grid_column": null,
            "grid_gap": null,
            "grid_row": null,
            "grid_template_areas": null,
            "grid_template_columns": null,
            "grid_template_rows": null,
            "height": null,
            "justify_content": null,
            "justify_items": null,
            "left": null,
            "margin": null,
            "max_height": null,
            "max_width": null,
            "min_height": null,
            "min_width": null,
            "object_fit": null,
            "object_position": null,
            "order": null,
            "overflow": null,
            "overflow_x": null,
            "overflow_y": null,
            "padding": null,
            "right": null,
            "top": null,
            "visibility": null,
            "width": null
          }
        },
        "58304bbb0ab94d0c8fd7166253e97ef2": {
          "model_module": "@jupyter-widgets/controls",
          "model_name": "DescriptionStyleModel",
          "model_module_version": "1.5.0",
          "state": {
            "_model_module": "@jupyter-widgets/controls",
            "_model_module_version": "1.5.0",
            "_model_name": "DescriptionStyleModel",
            "_view_count": null,
            "_view_module": "@jupyter-widgets/base",
            "_view_module_version": "1.2.0",
            "_view_name": "StyleView",
            "description_width": ""
          }
        }
      }
    }
  },
  "nbformat": 4,
  "nbformat_minor": 0
}