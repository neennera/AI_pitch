{
  "nbformat": 4,
  "nbformat_minor": 0,
  "metadata": {
    "colab": {
      "name": "Pre-Model.ipynb",
      "provenance": [],
      "collapsed_sections": [],
      "authorship_tag": "ABX9TyOIj0PprfbnGFY5rGmPSbu9",
      "include_colab_link": true
    },
    "kernelspec": {
      "name": "python3",
      "display_name": "Python 3"
    },
    "language_info": {
      "name": "python"
    },
    "widgets": {
      "application/vnd.jupyter.widget-state+json": {
        "a5c42596850e4717872e505ec3087645": {
          "model_module": "@jupyter-widgets/controls",
          "model_name": "HBoxModel",
          "model_module_version": "1.5.0",
          "state": {
            "_dom_classes": [],
            "_model_module": "@jupyter-widgets/controls",
            "_model_module_version": "1.5.0",
            "_model_name": "HBoxModel",
            "_view_count": null,
            "_view_module": "@jupyter-widgets/controls",
            "_view_module_version": "1.5.0",
            "_view_name": "HBoxView",
            "box_style": "",
            "children": [
              "IPY_MODEL_2d530623e5494d279fc3af4c1ea34bcd",
              "IPY_MODEL_b34cfe6611004fdca61fd872f4676ccf",
              "IPY_MODEL_f440278b257348209c58a1983fac79d2"
            ],
            "layout": "IPY_MODEL_4b49973ded2743b189c71659369e7ab3"
          }
        },
        "2d530623e5494d279fc3af4c1ea34bcd": {
          "model_module": "@jupyter-widgets/controls",
          "model_name": "HTMLModel",
          "model_module_version": "1.5.0",
          "state": {
            "_dom_classes": [],
            "_model_module": "@jupyter-widgets/controls",
            "_model_module_version": "1.5.0",
            "_model_name": "HTMLModel",
            "_view_count": null,
            "_view_module": "@jupyter-widgets/controls",
            "_view_module_version": "1.5.0",
            "_view_name": "HTMLView",
            "description": "",
            "description_tooltip": null,
            "layout": "IPY_MODEL_f891fbefe73f42b5aecd2dc0a7e8ce5f",
            "placeholder": "​",
            "style": "IPY_MODEL_3d307ce2ed4942ee88908b8a22f58f5d",
            "value": "  0%"
          }
        },
        "b34cfe6611004fdca61fd872f4676ccf": {
          "model_module": "@jupyter-widgets/controls",
          "model_name": "FloatProgressModel",
          "model_module_version": "1.5.0",
          "state": {
            "_dom_classes": [],
            "_model_module": "@jupyter-widgets/controls",
            "_model_module_version": "1.5.0",
            "_model_name": "FloatProgressModel",
            "_view_count": null,
            "_view_module": "@jupyter-widgets/controls",
            "_view_module_version": "1.5.0",
            "_view_name": "ProgressView",
            "bar_style": "danger",
            "description": "",
            "description_tooltip": null,
            "layout": "IPY_MODEL_f913f3a4ef614ccf8322c58e53a96fdc",
            "max": 168,
            "min": 0,
            "orientation": "horizontal",
            "style": "IPY_MODEL_c14dc8477ff243e1a9a385b12b4a0bb7",
            "value": 0
          }
        },
        "f440278b257348209c58a1983fac79d2": {
          "model_module": "@jupyter-widgets/controls",
          "model_name": "HTMLModel",
          "model_module_version": "1.5.0",
          "state": {
            "_dom_classes": [],
            "_model_module": "@jupyter-widgets/controls",
            "_model_module_version": "1.5.0",
            "_model_name": "HTMLModel",
            "_view_count": null,
            "_view_module": "@jupyter-widgets/controls",
            "_view_module_version": "1.5.0",
            "_view_name": "HTMLView",
            "description": "",
            "description_tooltip": null,
            "layout": "IPY_MODEL_b7267d60d60b40e39995b9f25189f207",
            "placeholder": "​",
            "style": "IPY_MODEL_21dbb7afd5b144c880d8fc40cdd2351d",
            "value": " 0/168 [00:22&lt;?, ?it/s]"
          }
        },
        "4b49973ded2743b189c71659369e7ab3": {
          "model_module": "@jupyter-widgets/base",
          "model_name": "LayoutModel",
          "model_module_version": "1.2.0",
          "state": {
            "_model_module": "@jupyter-widgets/base",
            "_model_module_version": "1.2.0",
            "_model_name": "LayoutModel",
            "_view_count": null,
            "_view_module": "@jupyter-widgets/base",
            "_view_module_version": "1.2.0",
            "_view_name": "LayoutView",
            "align_content": null,
            "align_items": null,
            "align_self": null,
            "border": null,
            "bottom": null,
            "display": null,
            "flex": null,
            "flex_flow": null,
            "grid_area": null,
            "grid_auto_columns": null,
            "grid_auto_flow": null,
            "grid_auto_rows": null,
            "grid_column": null,
            "grid_gap": null,
            "grid_row": null,
            "grid_template_areas": null,
            "grid_template_columns": null,
            "grid_template_rows": null,
            "height": null,
            "justify_content": null,
            "justify_items": null,
            "left": null,
            "margin": null,
            "max_height": null,
            "max_width": null,
            "min_height": null,
            "min_width": null,
            "object_fit": null,
            "object_position": null,
            "order": null,
            "overflow": null,
            "overflow_x": null,
            "overflow_y": null,
            "padding": null,
            "right": null,
            "top": null,
            "visibility": null,
            "width": null
          }
        },
        "f891fbefe73f42b5aecd2dc0a7e8ce5f": {
          "model_module": "@jupyter-widgets/base",
          "model_name": "LayoutModel",
          "model_module_version": "1.2.0",
          "state": {
            "_model_module": "@jupyter-widgets/base",
            "_model_module_version": "1.2.0",
            "_model_name": "LayoutModel",
            "_view_count": null,
            "_view_module": "@jupyter-widgets/base",
            "_view_module_version": "1.2.0",
            "_view_name": "LayoutView",
            "align_content": null,
            "align_items": null,
            "align_self": null,
            "border": null,
            "bottom": null,
            "display": null,
            "flex": null,
            "flex_flow": null,
            "grid_area": null,
            "grid_auto_columns": null,
            "grid_auto_flow": null,
            "grid_auto_rows": null,
            "grid_column": null,
            "grid_gap": null,
            "grid_row": null,
            "grid_template_areas": null,
            "grid_template_columns": null,
            "grid_template_rows": null,
            "height": null,
            "justify_content": null,
            "justify_items": null,
            "left": null,
            "margin": null,
            "max_height": null,
            "max_width": null,
            "min_height": null,
            "min_width": null,
            "object_fit": null,
            "object_position": null,
            "order": null,
            "overflow": null,
            "overflow_x": null,
            "overflow_y": null,
            "padding": null,
            "right": null,
            "top": null,
            "visibility": null,
            "width": null
          }
        },
        "3d307ce2ed4942ee88908b8a22f58f5d": {
          "model_module": "@jupyter-widgets/controls",
          "model_name": "DescriptionStyleModel",
          "model_module_version": "1.5.0",
          "state": {
            "_model_module": "@jupyter-widgets/controls",
            "_model_module_version": "1.5.0",
            "_model_name": "DescriptionStyleModel",
            "_view_count": null,
            "_view_module": "@jupyter-widgets/base",
            "_view_module_version": "1.2.0",
            "_view_name": "StyleView",
            "description_width": ""
          }
        },
        "f913f3a4ef614ccf8322c58e53a96fdc": {
          "model_module": "@jupyter-widgets/base",
          "model_name": "LayoutModel",
          "model_module_version": "1.2.0",
          "state": {
            "_model_module": "@jupyter-widgets/base",
            "_model_module_version": "1.2.0",
            "_model_name": "LayoutModel",
            "_view_count": null,
            "_view_module": "@jupyter-widgets/base",
            "_view_module_version": "1.2.0",
            "_view_name": "LayoutView",
            "align_content": null,
            "align_items": null,
            "align_self": null,
            "border": null,
            "bottom": null,
            "display": null,
            "flex": null,
            "flex_flow": null,
            "grid_area": null,
            "grid_auto_columns": null,
            "grid_auto_flow": null,
            "grid_auto_rows": null,
            "grid_column": null,
            "grid_gap": null,
            "grid_row": null,
            "grid_template_areas": null,
            "grid_template_columns": null,
            "grid_template_rows": null,
            "height": null,
            "justify_content": null,
            "justify_items": null,
            "left": null,
            "margin": null,
            "max_height": null,
            "max_width": null,
            "min_height": null,
            "min_width": null,
            "object_fit": null,
            "object_position": null,
            "order": null,
            "overflow": null,
            "overflow_x": null,
            "overflow_y": null,
            "padding": null,
            "right": null,
            "top": null,
            "visibility": null,
            "width": null
          }
        },
        "c14dc8477ff243e1a9a385b12b4a0bb7": {
          "model_module": "@jupyter-widgets/controls",
          "model_name": "ProgressStyleModel",
          "model_module_version": "1.5.0",
          "state": {
            "_model_module": "@jupyter-widgets/controls",
            "_model_module_version": "1.5.0",
            "_model_name": "ProgressStyleModel",
            "_view_count": null,
            "_view_module": "@jupyter-widgets/base",
            "_view_module_version": "1.2.0",
            "_view_name": "StyleView",
            "bar_color": null,
            "description_width": ""
          }
        },
        "b7267d60d60b40e39995b9f25189f207": {
          "model_module": "@jupyter-widgets/base",
          "model_name": "LayoutModel",
          "model_module_version": "1.2.0",
          "state": {
            "_model_module": "@jupyter-widgets/base",
            "_model_module_version": "1.2.0",
            "_model_name": "LayoutModel",
            "_view_count": null,
            "_view_module": "@jupyter-widgets/base",
            "_view_module_version": "1.2.0",
            "_view_name": "LayoutView",
            "align_content": null,
            "align_items": null,
            "align_self": null,
            "border": null,
            "bottom": null,
            "display": null,
            "flex": null,
            "flex_flow": null,
            "grid_area": null,
            "grid_auto_columns": null,
            "grid_auto_flow": null,
            "grid_auto_rows": null,
            "grid_column": null,
            "grid_gap": null,
            "grid_row": null,
            "grid_template_areas": null,
            "grid_template_columns": null,
            "grid_template_rows": null,
            "height": null,
            "justify_content": null,
            "justify_items": null,
            "left": null,
            "margin": null,
            "max_height": null,
            "max_width": null,
            "min_height": null,
            "min_width": null,
            "object_fit": null,
            "object_position": null,
            "order": null,
            "overflow": null,
            "overflow_x": null,
            "overflow_y": null,
            "padding": null,
            "right": null,
            "top": null,
            "visibility": null,
            "width": null
          }
        },
        "21dbb7afd5b144c880d8fc40cdd2351d": {
          "model_module": "@jupyter-widgets/controls",
          "model_name": "DescriptionStyleModel",
          "model_module_version": "1.5.0",
          "state": {
            "_model_module": "@jupyter-widgets/controls",
            "_model_module_version": "1.5.0",
            "_model_name": "DescriptionStyleModel",
            "_view_count": null,
            "_view_module": "@jupyter-widgets/base",
            "_view_module_version": "1.2.0",
            "_view_name": "StyleView",
            "description_width": ""
          }
        },
        "dc32fe0c33d94f2dabada80dc08034f7": {
          "model_module": "@jupyter-widgets/controls",
          "model_name": "HBoxModel",
          "model_module_version": "1.5.0",
          "state": {
            "_dom_classes": [],
            "_model_module": "@jupyter-widgets/controls",
            "_model_module_version": "1.5.0",
            "_model_name": "HBoxModel",
            "_view_count": null,
            "_view_module": "@jupyter-widgets/controls",
            "_view_module_version": "1.5.0",
            "_view_name": "HBoxView",
            "box_style": "",
            "children": [
              "IPY_MODEL_81220c7f207747708dcd6f10a934b05d",
              "IPY_MODEL_a426016ae7f747ebafd2afd655688609",
              "IPY_MODEL_761552125b9748339ca36cbddd4cd936"
            ],
            "layout": "IPY_MODEL_27f44b37cbc846fe92db81a54acad911"
          }
        },
        "81220c7f207747708dcd6f10a934b05d": {
          "model_module": "@jupyter-widgets/controls",
          "model_name": "HTMLModel",
          "model_module_version": "1.5.0",
          "state": {
            "_dom_classes": [],
            "_model_module": "@jupyter-widgets/controls",
            "_model_module_version": "1.5.0",
            "_model_name": "HTMLModel",
            "_view_count": null,
            "_view_module": "@jupyter-widgets/controls",
            "_view_module_version": "1.5.0",
            "_view_name": "HTMLView",
            "description": "",
            "description_tooltip": null,
            "layout": "IPY_MODEL_ed43370cf45c44ae8324f6c047310946",
            "placeholder": "​",
            "style": "IPY_MODEL_ab519eb6ff044909a0fbcfc4e6e499e7",
            "value": "  0%"
          }
        },
        "a426016ae7f747ebafd2afd655688609": {
          "model_module": "@jupyter-widgets/controls",
          "model_name": "FloatProgressModel",
          "model_module_version": "1.5.0",
          "state": {
            "_dom_classes": [],
            "_model_module": "@jupyter-widgets/controls",
            "_model_module_version": "1.5.0",
            "_model_name": "FloatProgressModel",
            "_view_count": null,
            "_view_module": "@jupyter-widgets/controls",
            "_view_module_version": "1.5.0",
            "_view_name": "ProgressView",
            "bar_style": "danger",
            "description": "",
            "description_tooltip": null,
            "layout": "IPY_MODEL_0b606308cb1d417f8d7f6569996189e9",
            "max": 168,
            "min": 0,
            "orientation": "horizontal",
            "style": "IPY_MODEL_90fbaa506b7a4aa2ae1445eba492e9bd",
            "value": 0
          }
        },
        "761552125b9748339ca36cbddd4cd936": {
          "model_module": "@jupyter-widgets/controls",
          "model_name": "HTMLModel",
          "model_module_version": "1.5.0",
          "state": {
            "_dom_classes": [],
            "_model_module": "@jupyter-widgets/controls",
            "_model_module_version": "1.5.0",
            "_model_name": "HTMLModel",
            "_view_count": null,
            "_view_module": "@jupyter-widgets/controls",
            "_view_module_version": "1.5.0",
            "_view_name": "HTMLView",
            "description": "",
            "description_tooltip": null,
            "layout": "IPY_MODEL_50bf59a5cee24168af4b96b7a05260ce",
            "placeholder": "​",
            "style": "IPY_MODEL_901c0875d988489095309e6a60d85457",
            "value": " 0/168 [00:18&lt;?, ?it/s]"
          }
        },
        "27f44b37cbc846fe92db81a54acad911": {
          "model_module": "@jupyter-widgets/base",
          "model_name": "LayoutModel",
          "model_module_version": "1.2.0",
          "state": {
            "_model_module": "@jupyter-widgets/base",
            "_model_module_version": "1.2.0",
            "_model_name": "LayoutModel",
            "_view_count": null,
            "_view_module": "@jupyter-widgets/base",
            "_view_module_version": "1.2.0",
            "_view_name": "LayoutView",
            "align_content": null,
            "align_items": null,
            "align_self": null,
            "border": null,
            "bottom": null,
            "display": null,
            "flex": null,
            "flex_flow": null,
            "grid_area": null,
            "grid_auto_columns": null,
            "grid_auto_flow": null,
            "grid_auto_rows": null,
            "grid_column": null,
            "grid_gap": null,
            "grid_row": null,
            "grid_template_areas": null,
            "grid_template_columns": null,
            "grid_template_rows": null,
            "height": null,
            "justify_content": null,
            "justify_items": null,
            "left": null,
            "margin": null,
            "max_height": null,
            "max_width": null,
            "min_height": null,
            "min_width": null,
            "object_fit": null,
            "object_position": null,
            "order": null,
            "overflow": null,
            "overflow_x": null,
            "overflow_y": null,
            "padding": null,
            "right": null,
            "top": null,
            "visibility": null,
            "width": null
          }
        },
        "ed43370cf45c44ae8324f6c047310946": {
          "model_module": "@jupyter-widgets/base",
          "model_name": "LayoutModel",
          "model_module_version": "1.2.0",
          "state": {
            "_model_module": "@jupyter-widgets/base",
            "_model_module_version": "1.2.0",
            "_model_name": "LayoutModel",
            "_view_count": null,
            "_view_module": "@jupyter-widgets/base",
            "_view_module_version": "1.2.0",
            "_view_name": "LayoutView",
            "align_content": null,
            "align_items": null,
            "align_self": null,
            "border": null,
            "bottom": null,
            "display": null,
            "flex": null,
            "flex_flow": null,
            "grid_area": null,
            "grid_auto_columns": null,
            "grid_auto_flow": null,
            "grid_auto_rows": null,
            "grid_column": null,
            "grid_gap": null,
            "grid_row": null,
            "grid_template_areas": null,
            "grid_template_columns": null,
            "grid_template_rows": null,
            "height": null,
            "justify_content": null,
            "justify_items": null,
            "left": null,
            "margin": null,
            "max_height": null,
            "max_width": null,
            "min_height": null,
            "min_width": null,
            "object_fit": null,
            "object_position": null,
            "order": null,
            "overflow": null,
            "overflow_x": null,
            "overflow_y": null,
            "padding": null,
            "right": null,
            "top": null,
            "visibility": null,
            "width": null
          }
        },
        "ab519eb6ff044909a0fbcfc4e6e499e7": {
          "model_module": "@jupyter-widgets/controls",
          "model_name": "DescriptionStyleModel",
          "model_module_version": "1.5.0",
          "state": {
            "_model_module": "@jupyter-widgets/controls",
            "_model_module_version": "1.5.0",
            "_model_name": "DescriptionStyleModel",
            "_view_count": null,
            "_view_module": "@jupyter-widgets/base",
            "_view_module_version": "1.2.0",
            "_view_name": "StyleView",
            "description_width": ""
          }
        },
        "0b606308cb1d417f8d7f6569996189e9": {
          "model_module": "@jupyter-widgets/base",
          "model_name": "LayoutModel",
          "model_module_version": "1.2.0",
          "state": {
            "_model_module": "@jupyter-widgets/base",
            "_model_module_version": "1.2.0",
            "_model_name": "LayoutModel",
            "_view_count": null,
            "_view_module": "@jupyter-widgets/base",
            "_view_module_version": "1.2.0",
            "_view_name": "LayoutView",
            "align_content": null,
            "align_items": null,
            "align_self": null,
            "border": null,
            "bottom": null,
            "display": null,
            "flex": null,
            "flex_flow": null,
            "grid_area": null,
            "grid_auto_columns": null,
            "grid_auto_flow": null,
            "grid_auto_rows": null,
            "grid_column": null,
            "grid_gap": null,
            "grid_row": null,
            "grid_template_areas": null,
            "grid_template_columns": null,
            "grid_template_rows": null,
            "height": null,
            "justify_content": null,
            "justify_items": null,
            "left": null,
            "margin": null,
            "max_height": null,
            "max_width": null,
            "min_height": null,
            "min_width": null,
            "object_fit": null,
            "object_position": null,
            "order": null,
            "overflow": null,
            "overflow_x": null,
            "overflow_y": null,
            "padding": null,
            "right": null,
            "top": null,
            "visibility": null,
            "width": null
          }
        },
        "90fbaa506b7a4aa2ae1445eba492e9bd": {
          "model_module": "@jupyter-widgets/controls",
          "model_name": "ProgressStyleModel",
          "model_module_version": "1.5.0",
          "state": {
            "_model_module": "@jupyter-widgets/controls",
            "_model_module_version": "1.5.0",
            "_model_name": "ProgressStyleModel",
            "_view_count": null,
            "_view_module": "@jupyter-widgets/base",
            "_view_module_version": "1.2.0",
            "_view_name": "StyleView",
            "bar_color": null,
            "description_width": ""
          }
        },
        "50bf59a5cee24168af4b96b7a05260ce": {
          "model_module": "@jupyter-widgets/base",
          "model_name": "LayoutModel",
          "model_module_version": "1.2.0",
          "state": {
            "_model_module": "@jupyter-widgets/base",
            "_model_module_version": "1.2.0",
            "_model_name": "LayoutModel",
            "_view_count": null,
            "_view_module": "@jupyter-widgets/base",
            "_view_module_version": "1.2.0",
            "_view_name": "LayoutView",
            "align_content": null,
            "align_items": null,
            "align_self": null,
            "border": null,
            "bottom": null,
            "display": null,
            "flex": null,
            "flex_flow": null,
            "grid_area": null,
            "grid_auto_columns": null,
            "grid_auto_flow": null,
            "grid_auto_rows": null,
            "grid_column": null,
            "grid_gap": null,
            "grid_row": null,
            "grid_template_areas": null,
            "grid_template_columns": null,
            "grid_template_rows": null,
            "height": null,
            "justify_content": null,
            "justify_items": null,
            "left": null,
            "margin": null,
            "max_height": null,
            "max_width": null,
            "min_height": null,
            "min_width": null,
            "object_fit": null,
            "object_position": null,
            "order": null,
            "overflow": null,
            "overflow_x": null,
            "overflow_y": null,
            "padding": null,
            "right": null,
            "top": null,
            "visibility": null,
            "width": null
          }
        },
        "901c0875d988489095309e6a60d85457": {
          "model_module": "@jupyter-widgets/controls",
          "model_name": "DescriptionStyleModel",
          "model_module_version": "1.5.0",
          "state": {
            "_model_module": "@jupyter-widgets/controls",
            "_model_module_version": "1.5.0",
            "_model_name": "DescriptionStyleModel",
            "_view_count": null,
            "_view_module": "@jupyter-widgets/base",
            "_view_module_version": "1.2.0",
            "_view_name": "StyleView",
            "description_width": ""
          }
        },
        "8c2b8f145c914f92b9f7bbda91b36363": {
          "model_module": "@jupyter-widgets/controls",
          "model_name": "HBoxModel",
          "model_module_version": "1.5.0",
          "state": {
            "_dom_classes": [],
            "_model_module": "@jupyter-widgets/controls",
            "_model_module_version": "1.5.0",
            "_model_name": "HBoxModel",
            "_view_count": null,
            "_view_module": "@jupyter-widgets/controls",
            "_view_module_version": "1.5.0",
            "_view_name": "HBoxView",
            "box_style": "",
            "children": [
              "IPY_MODEL_57899f1e2052467dbf789b5b752e3f3c",
              "IPY_MODEL_8fdf1b8bc0b94486abcd28908fb17391",
              "IPY_MODEL_e98ce8797fa24eb990c6dc4570d52806"
            ],
            "layout": "IPY_MODEL_e98d99b09e65490293aa08fb3ebb8913"
          }
        },
        "57899f1e2052467dbf789b5b752e3f3c": {
          "model_module": "@jupyter-widgets/controls",
          "model_name": "HTMLModel",
          "model_module_version": "1.5.0",
          "state": {
            "_dom_classes": [],
            "_model_module": "@jupyter-widgets/controls",
            "_model_module_version": "1.5.0",
            "_model_name": "HTMLModel",
            "_view_count": null,
            "_view_module": "@jupyter-widgets/controls",
            "_view_module_version": "1.5.0",
            "_view_name": "HTMLView",
            "description": "",
            "description_tooltip": null,
            "layout": "IPY_MODEL_32975dda838f4ee6b2cd47d818b4db97",
            "placeholder": "​",
            "style": "IPY_MODEL_221d585a06f240e6b5bf7c69af7489d8",
            "value": "  2%"
          }
        },
        "8fdf1b8bc0b94486abcd28908fb17391": {
          "model_module": "@jupyter-widgets/controls",
          "model_name": "FloatProgressModel",
          "model_module_version": "1.5.0",
          "state": {
            "_dom_classes": [],
            "_model_module": "@jupyter-widgets/controls",
            "_model_module_version": "1.5.0",
            "_model_name": "FloatProgressModel",
            "_view_count": null,
            "_view_module": "@jupyter-widgets/controls",
            "_view_module_version": "1.5.0",
            "_view_name": "ProgressView",
            "bar_style": "",
            "description": "",
            "description_tooltip": null,
            "layout": "IPY_MODEL_d4459218b9ec49bb8f15113741c37d2d",
            "max": 168,
            "min": 0,
            "orientation": "horizontal",
            "style": "IPY_MODEL_cc12fded66de416bb399a70d4797f63f",
            "value": 4
          }
        },
        "e98ce8797fa24eb990c6dc4570d52806": {
          "model_module": "@jupyter-widgets/controls",
          "model_name": "HTMLModel",
          "model_module_version": "1.5.0",
          "state": {
            "_dom_classes": [],
            "_model_module": "@jupyter-widgets/controls",
            "_model_module_version": "1.5.0",
            "_model_name": "HTMLModel",
            "_view_count": null,
            "_view_module": "@jupyter-widgets/controls",
            "_view_module_version": "1.5.0",
            "_view_name": "HTMLView",
            "description": "",
            "description_tooltip": null,
            "layout": "IPY_MODEL_6e6abf148d5741a88e02c8fbe0e66933",
            "placeholder": "​",
            "style": "IPY_MODEL_b9e484737a444e86b7a5e2ed56d0ad8e",
            "value": " 4/168 [00:20&lt;11:33,  4.23s/it]"
          }
        },
        "e98d99b09e65490293aa08fb3ebb8913": {
          "model_module": "@jupyter-widgets/base",
          "model_name": "LayoutModel",
          "model_module_version": "1.2.0",
          "state": {
            "_model_module": "@jupyter-widgets/base",
            "_model_module_version": "1.2.0",
            "_model_name": "LayoutModel",
            "_view_count": null,
            "_view_module": "@jupyter-widgets/base",
            "_view_module_version": "1.2.0",
            "_view_name": "LayoutView",
            "align_content": null,
            "align_items": null,
            "align_self": null,
            "border": null,
            "bottom": null,
            "display": null,
            "flex": null,
            "flex_flow": null,
            "grid_area": null,
            "grid_auto_columns": null,
            "grid_auto_flow": null,
            "grid_auto_rows": null,
            "grid_column": null,
            "grid_gap": null,
            "grid_row": null,
            "grid_template_areas": null,
            "grid_template_columns": null,
            "grid_template_rows": null,
            "height": null,
            "justify_content": null,
            "justify_items": null,
            "left": null,
            "margin": null,
            "max_height": null,
            "max_width": null,
            "min_height": null,
            "min_width": null,
            "object_fit": null,
            "object_position": null,
            "order": null,
            "overflow": null,
            "overflow_x": null,
            "overflow_y": null,
            "padding": null,
            "right": null,
            "top": null,
            "visibility": null,
            "width": null
          }
        },
        "32975dda838f4ee6b2cd47d818b4db97": {
          "model_module": "@jupyter-widgets/base",
          "model_name": "LayoutModel",
          "model_module_version": "1.2.0",
          "state": {
            "_model_module": "@jupyter-widgets/base",
            "_model_module_version": "1.2.0",
            "_model_name": "LayoutModel",
            "_view_count": null,
            "_view_module": "@jupyter-widgets/base",
            "_view_module_version": "1.2.0",
            "_view_name": "LayoutView",
            "align_content": null,
            "align_items": null,
            "align_self": null,
            "border": null,
            "bottom": null,
            "display": null,
            "flex": null,
            "flex_flow": null,
            "grid_area": null,
            "grid_auto_columns": null,
            "grid_auto_flow": null,
            "grid_auto_rows": null,
            "grid_column": null,
            "grid_gap": null,
            "grid_row": null,
            "grid_template_areas": null,
            "grid_template_columns": null,
            "grid_template_rows": null,
            "height": null,
            "justify_content": null,
            "justify_items": null,
            "left": null,
            "margin": null,
            "max_height": null,
            "max_width": null,
            "min_height": null,
            "min_width": null,
            "object_fit": null,
            "object_position": null,
            "order": null,
            "overflow": null,
            "overflow_x": null,
            "overflow_y": null,
            "padding": null,
            "right": null,
            "top": null,
            "visibility": null,
            "width": null
          }
        },
        "221d585a06f240e6b5bf7c69af7489d8": {
          "model_module": "@jupyter-widgets/controls",
          "model_name": "DescriptionStyleModel",
          "model_module_version": "1.5.0",
          "state": {
            "_model_module": "@jupyter-widgets/controls",
            "_model_module_version": "1.5.0",
            "_model_name": "DescriptionStyleModel",
            "_view_count": null,
            "_view_module": "@jupyter-widgets/base",
            "_view_module_version": "1.2.0",
            "_view_name": "StyleView",
            "description_width": ""
          }
        },
        "d4459218b9ec49bb8f15113741c37d2d": {
          "model_module": "@jupyter-widgets/base",
          "model_name": "LayoutModel",
          "model_module_version": "1.2.0",
          "state": {
            "_model_module": "@jupyter-widgets/base",
            "_model_module_version": "1.2.0",
            "_model_name": "LayoutModel",
            "_view_count": null,
            "_view_module": "@jupyter-widgets/base",
            "_view_module_version": "1.2.0",
            "_view_name": "LayoutView",
            "align_content": null,
            "align_items": null,
            "align_self": null,
            "border": null,
            "bottom": null,
            "display": null,
            "flex": null,
            "flex_flow": null,
            "grid_area": null,
            "grid_auto_columns": null,
            "grid_auto_flow": null,
            "grid_auto_rows": null,
            "grid_column": null,
            "grid_gap": null,
            "grid_row": null,
            "grid_template_areas": null,
            "grid_template_columns": null,
            "grid_template_rows": null,
            "height": null,
            "justify_content": null,
            "justify_items": null,
            "left": null,
            "margin": null,
            "max_height": null,
            "max_width": null,
            "min_height": null,
            "min_width": null,
            "object_fit": null,
            "object_position": null,
            "order": null,
            "overflow": null,
            "overflow_x": null,
            "overflow_y": null,
            "padding": null,
            "right": null,
            "top": null,
            "visibility": null,
            "width": null
          }
        },
        "cc12fded66de416bb399a70d4797f63f": {
          "model_module": "@jupyter-widgets/controls",
          "model_name": "ProgressStyleModel",
          "model_module_version": "1.5.0",
          "state": {
            "_model_module": "@jupyter-widgets/controls",
            "_model_module_version": "1.5.0",
            "_model_name": "ProgressStyleModel",
            "_view_count": null,
            "_view_module": "@jupyter-widgets/base",
            "_view_module_version": "1.2.0",
            "_view_name": "StyleView",
            "bar_color": null,
            "description_width": ""
          }
        },
        "6e6abf148d5741a88e02c8fbe0e66933": {
          "model_module": "@jupyter-widgets/base",
          "model_name": "LayoutModel",
          "model_module_version": "1.2.0",
          "state": {
            "_model_module": "@jupyter-widgets/base",
            "_model_module_version": "1.2.0",
            "_model_name": "LayoutModel",
            "_view_count": null,
            "_view_module": "@jupyter-widgets/base",
            "_view_module_version": "1.2.0",
            "_view_name": "LayoutView",
            "align_content": null,
            "align_items": null,
            "align_self": null,
            "border": null,
            "bottom": null,
            "display": null,
            "flex": null,
            "flex_flow": null,
            "grid_area": null,
            "grid_auto_columns": null,
            "grid_auto_flow": null,
            "grid_auto_rows": null,
            "grid_column": null,
            "grid_gap": null,
            "grid_row": null,
            "grid_template_areas": null,
            "grid_template_columns": null,
            "grid_template_rows": null,
            "height": null,
            "justify_content": null,
            "justify_items": null,
            "left": null,
            "margin": null,
            "max_height": null,
            "max_width": null,
            "min_height": null,
            "min_width": null,
            "object_fit": null,
            "object_position": null,
            "order": null,
            "overflow": null,
            "overflow_x": null,
            "overflow_y": null,
            "padding": null,
            "right": null,
            "top": null,
            "visibility": null,
            "width": null
          }
        },
        "b9e484737a444e86b7a5e2ed56d0ad8e": {
          "model_module": "@jupyter-widgets/controls",
          "model_name": "DescriptionStyleModel",
          "model_module_version": "1.5.0",
          "state": {
            "_model_module": "@jupyter-widgets/controls",
            "_model_module_version": "1.5.0",
            "_model_name": "DescriptionStyleModel",
            "_view_count": null,
            "_view_module": "@jupyter-widgets/base",
            "_view_module_version": "1.2.0",
            "_view_name": "StyleView",
            "description_width": ""
          }
        }
      }
    }
  },
  "cells": [
    {
      "cell_type": "markdown",
      "metadata": {
        "id": "view-in-github",
        "colab_type": "text"
      },
      "source": [
        "<a href=\"https://colab.research.google.com/github/neennera/AI_pitch/blob/main/Pre_Model.ipynb\" target=\"_parent\"><img src=\"https://colab.research.google.com/assets/colab-badge.svg\" alt=\"Open In Colab\"/></a>"
      ]
    },
    {
      "cell_type": "code",
      "execution_count": 1,
      "metadata": {
        "id": "1AHs9mcVQpEh"
      },
      "outputs": [],
      "source": [
        "import torch\n",
        "import os\n",
        "from torch import nn\n",
        "from torch.utils.data import DataLoader\n",
        "from torchvision.transforms import ToTensor\n",
        "from torch.utils.data import Dataset\n",
        "\n",
        "import pandas as pd\n",
        "import torchaudio\n",
        "import pickle\n",
        "import numpy as np"
      ]
    },
    {
      "cell_type": "markdown",
      "source": [
        "# DataLoader"
      ],
      "metadata": {
        "id": "Y6OygEc_UgnK"
      }
    },
    {
      "cell_type": "code",
      "source": [
        "#import zipfile\n",
        "from google.colab import drive\n",
        "drive.mount('/content/gdrive')"
      ],
      "metadata": {
        "id": "FGOz1E0UtNRp",
        "colab": {
          "base_uri": "https://localhost:8080/"
        },
        "outputId": "b252206d-a3fe-4622-98e3-4d39d2b48596"
      },
      "execution_count": 2,
      "outputs": [
        {
          "output_type": "stream",
          "name": "stdout",
          "text": [
            "Mounted at /content/gdrive\n"
          ]
        }
      ]
    },
    {
      "cell_type": "code",
      "source": [
        "'''!pip install patool\n",
        "!pip install pyunpack\n",
        "from pyunpack import Archive'''\n",
        "Archive(\"/content/gdrive/MyDrive/AI/processed.rar\").extractall(\"/content/gdrive/MyDrive/AI/DATA\")"
      ],
      "metadata": {
        "id": "8jV_QltAtc25"
      },
      "execution_count": null,
      "outputs": []
    },
    {
      "cell_type": "code",
      "source": [
        "train_feat_path=\"/content/gdrive/MyDrive/AI/DATA/processed/train/\"\n",
        "test_feat_path=\"/content/gdrive/MyDrive/AI/DATA/processed/test/\""
      ],
      "metadata": {
        "id": "SZQPtq6X3UaO"
      },
      "execution_count": 4,
      "outputs": []
    },
    {
      "cell_type": "code",
      "source": [
        "train_feat_path"
      ],
      "metadata": {
        "colab": {
          "base_uri": "https://localhost:8080/",
          "height": 36
        },
        "id": "ZxerNEDv3VU-",
        "outputId": "4ddcb255-c603-405b-ba38-00461b7e8823"
      },
      "execution_count": 5,
      "outputs": [
        {
          "output_type": "execute_result",
          "data": {
            "text/plain": [
              "'/content/gdrive/MyDrive/AI/DATA/processed/train/'"
            ],
            "application/vnd.google.colaboratory.intrinsic+json": {
              "type": "string"
            }
          },
          "metadata": {},
          "execution_count": 5
        }
      ]
    },
    {
      "cell_type": "code",
      "source": [
        "train_name=os.listdir(train_feat_path)\n",
        "test_name=os.listdir(test_feat_path)\n",
        "\n",
        "class CustomTrainDataset(Dataset):\n",
        "    def __init__(self, feat_path=train_feat_path, transform=None, target_transform=None):\n",
        "        self.img_labels = os.listdir(train_feat_path)\n",
        "        self.feat_path = feat_path \n",
        "\n",
        "    def __len__(self):\n",
        "        return len(self.img_labels)\n",
        "\n",
        "    def __getitem__(self, idx):\n",
        "        data = (torch.from_numpy(np.load(self.feat_path +self.img_labels[idx])))\n",
        "        #data = data[0]\n",
        "        label = int(self.img_labels[idx][0:2])\n",
        "        return data, label\n",
        "\n",
        "class CustomTestDataset(Dataset):\n",
        "    def __init__(self, feat_path=test_feat_path , transform=None, target_transform=None):\n",
        "        self.img_labels = os.listdir(train_feat_path)\n",
        "        self.feat_path = feat_path \n",
        "\n",
        "    def __len__(self):\n",
        "      return len(self.img_labels)\n",
        "\n",
        "    def __getitem__(self, idx):\n",
        "        data = (torch.from_numpy(np.load(self.feat_path +self.img_labels[idx])))\n",
        "        #data = data[0]\n",
        "        label = int(self.img_labels[idx][0:2])\n",
        "        return data, label\n",
        "\n",
        "train_dataset=CustomTrainDataset()\n",
        "test_dataset=CustomTestDataset()"
      ],
      "metadata": {
        "id": "wU4DS4YJwPaS"
      },
      "execution_count": 14,
      "outputs": []
    },
    {
      "cell_type": "code",
      "source": [
        "classmap = [\n",
        "      'A0', 'A#0', 'B0', 'C1', 'C#1', 'D1', 'D#1', 'E1', 'F1', 'F#1', 'G1', 'G#1', 'A1', 'A#1', \n",
        "     'B1', 'C2', 'C#2', 'D2', 'D#2', 'E2', 'F2', 'F#2', 'G2', 'G#2', 'A2', 'A#2', 'B2', 'C3', \n",
        "     'C#3', 'D3', 'D#3', 'E3', 'F3', 'F#3', 'G3', 'G#3', 'A3', 'A#3', 'B3', 'C4', 'C#4', 'D4', \n",
        "     'D#4', 'E4', 'F4', 'F#4', 'G4', 'G#4', 'A4', 'A#4', 'B4', 'C5', 'C#5', 'D5', 'D#5', 'E5', \n",
        "     'F5', 'F#5', 'G5', 'G#5', 'A5', 'A#5', 'B5', 'C6', 'C#6', 'D6', 'D#6', 'E6', 'F6', 'F#6', \n",
        "     'G6', 'G#6', 'A6', 'A#6', 'B6', 'C7', 'C#7', 'D7', 'D#7', 'E7', 'F7', 'F#7', 'G7', 'G#7', \n",
        "     'A7', 'A#7', 'B7', 'C8', 'C#8', 'D8', 'D#8', 'E8', 'F8', 'F#8', 'G8', 'G#8', 'A8', 'A#8', \n",
        "     'B8', 'C9', 'C#9', 'D9', 'D#9', 'E9', 'F9', 'F#9', 'G9']"
      ],
      "metadata": {
        "id": "DnEIJj_U0XI_"
      },
      "execution_count": 7,
      "outputs": []
    },
    {
      "cell_type": "markdown",
      "source": [
        "#Model"
      ],
      "metadata": {
        "id": "hXMirgfe0ZRG"
      }
    },
    {
      "cell_type": "code",
      "source": [
        "class Model(nn.Module):\n",
        "    def __init__(self):\n",
        "        super().__init__()\n",
        "        # 4 conv blocks / flatten / linear / softmax\n",
        "        self.conv1 = nn.Sequential(\n",
        "            nn.Conv2d(\n",
        "                in_channels=1,\n",
        "                out_channels=4,\n",
        "                kernel_size=3,\n",
        "                stride=1,\n",
        "                padding='same'\n",
        "            ),\n",
        "            nn.ReLU(),\n",
        "            nn.MaxPool2d(kernel_size=2)\n",
        "        )\n",
        "        self.conv2 = nn.Sequential(\n",
        "            nn.Conv2d(\n",
        "                in_channels=4,\n",
        "                out_channels=16,\n",
        "                kernel_size=3,\n",
        "                stride=1,\n",
        "                padding='same'\n",
        "            ),\n",
        "            nn.ReLU(),\n",
        "            nn.MaxPool2d(kernel_size=2)\n",
        "        )\n",
        "        self.conv3 = nn.Sequential(\n",
        "            nn.Conv2d(\n",
        "                in_channels=16,\n",
        "                out_channels=32,\n",
        "                kernel_size=3,\n",
        "                stride=1,\n",
        "                padding='same'\n",
        "            ),\n",
        "            nn.ReLU(),\n",
        "            nn.MaxPool2d(kernel_size=2)\n",
        "        )\n",
        "        self.flatten = nn.Flatten()\n",
        "        self.linear = nn.Linear(32*31*6, 107)\n",
        "        self.softmax = nn.Softmax(dim=1)\n",
        "\n",
        "    def forward(self, input_data):\n",
        "        x = self.conv1(input_data)\n",
        "        x = self.conv2(x)\n",
        "        x = self.conv3(x)\n",
        "        x = self.flatten(x)\n",
        "        logits = self.linear(x)\n",
        "        predictions = self.softmax(logits)\n",
        "        return predictions"
      ],
      "metadata": {
        "id": "eW8fVK_BzFaH"
      },
      "execution_count": 8,
      "outputs": []
    },
    {
      "cell_type": "code",
      "source": [
        "from sklearn.metrics import confusion_matrix, precision_score\n",
        "loss_fn = nn.MSELoss()\n",
        "def M_loss_func(pred, target):\n",
        "  k = len(target)\n",
        "  targets = torch.from_numpy(np.zeros((k,107), dtype=\"float32\"))\n",
        "  for i in range(k) :\n",
        "    targets[i][target[i]] = 1.0\n",
        "  return loss_fn(pred,targets)\n",
        "\n",
        "def M_accuracy(pred,target):\n",
        "  #tn, fp, fn, tp = confusion_matrix(y_true, y_pred_class).ravel()\n",
        "  preds = pred.argmax(dim=1)\n",
        "  return precision_score(target, preds,average='micro')"
      ],
      "metadata": {
        "id": "Vaic96DF1PwO"
      },
      "execution_count": 9,
      "outputs": []
    },
    {
      "cell_type": "code",
      "source": [
        "model = Model()\n",
        "device = 'cuda' if torch.cuda.is_available() else 'cpu'\n",
        "model = model.to(device)\n",
        "optimizer = torch.optim.Adam(model.parameters(), 3e-4)\n",
        "\n",
        "checkpoint = { \n",
        "    'model': model.state_dict(),\n",
        "    'optimizer': optimizer.state_dict(),\n",
        "}\n",
        "\n",
        "def save(train_losses,metrics,i):\n",
        "    loss_log=[]\n",
        "    acc_log=[]\n",
        "    baseline_log=[]\n",
        "    \n",
        "    path='/content/gdrive/MyDrive/AI/weight/H'+str(i)+'/checkpoint.pth'\n",
        "    path_log='/content/gdrive/MyDrive/AI/weight/H'+str(i)\n",
        "    path_old='/content/gdrive/MyDrive/AI/weight/H'+str(i-1)\n",
        "    torch.save(checkpoint, path)\n",
        "\n",
        "    with open(path_old+'loss_log.pkl', 'rb') as f:\n",
        "        loss_log = pickle.load(f)\n",
        "    with open(path_old+'acc_log.pkl', 'rb') as f:\n",
        "        acc_log = pickle.load(f)        \n",
        "\n",
        "    for k in train_losses :\n",
        "        loss_log.append(k)\n",
        "    acc_log = acc_log + metrics\n",
        "\n",
        "    with open(path_log+'/loss_log.pkl', 'wb') as f:\n",
        "        pickle.dump(loss_log, f)\n",
        "    with open(path_log+'/acc_log.pkl', 'wb') as f:\n",
        "        pickle.dump(acc_log, f)"
      ],
      "metadata": {
        "id": "HzS7UjeK0xkO"
      },
      "execution_count": 10,
      "outputs": []
    },
    {
      "cell_type": "markdown",
      "source": [
        "# Training loop"
      ],
      "metadata": {
        "id": "bDjCUl0uJJe7"
      }
    },
    {
      "cell_type": "code",
      "source": [
        "from tqdm.auto import tqdm\n",
        "\n",
        "def get_epoch(k, train_dataloader, val_dataloader, batch_size,st,ed):\n",
        "    print(\"epoch\",\"\\t train loss \\t accuracy \\t\\t val loss\")\n",
        "    train_loss ,train_acc, val_loss=0,0,0\n",
        "    for i in range(st,ed+1) :\n",
        "        train_epoch(i, train_dataloader, val_dataloader, batch_size)\n",
        "        #torch.save(model.state_dict(), \"weight/convo2/mymodel.pt\")\n",
        "\n",
        "def train_epoch(k, train_dataloader, val_dataloader, batch_size):\n",
        "    train_batch_loss = []\n",
        "    train_batch_acc = []\n",
        "    for batch in tqdm(train_dataloader):\n",
        "        xb, yb = batch\n",
        "\n",
        "        optimizer.zero_grad()\n",
        "        yhatb = model(xb)\n",
        "        loss = M_loss_func(yhatb, yb)\n",
        "        acc = M_accuracy(yhatb, yb)\n",
        "        loss.backward()\n",
        "        optimizer.step()\n",
        "\n",
        "        train_batch_loss.append(loss.detach().cpu().numpy())\n",
        "        train_batch_acc.append(acc)\n",
        "\n",
        "    train_loss = np.mean(train_batch_loss)  # average train loss among all batches\n",
        "    train_acc = np.mean(train_batch_acc)  # average acc among all batches     \n",
        "\n",
        "    val_batch_loss = []\n",
        "    losses=[]\n",
        "    metrics=[]\n",
        "    for batch in tqdm(val_dataloader):\n",
        "        x, y = batch\n",
        "        x = x.to(device)\n",
        "        y = y.to(device)\n",
        "\n",
        "        # we don't need to calculate gradients when evaluating\n",
        "        with torch.no_grad():\n",
        "            yhatb = model(x)  # forward propagation\n",
        "            loss = M_loss_func(yhatb, y)  # compute val loss\n",
        "            acc = M_accuracy(yhatb, y)\n",
        "            losses.append(loss.detach().cpu().numpy())\n",
        "            metrics.append(acc)\n",
        "        val_batch_loss.append(loss.cpu().numpy())\n",
        "    \n",
        "    val_loss = np.mean(val_batch_loss)\n",
        "    if(k>0 ):\n",
        "      save(losses,metrics,k/5)\n",
        "    print(k, \"\\t\", train_loss , \"\\t\", train_acc,\"\\t\", val_loss, \"\\t\" , yhatb.mean())"
      ],
      "metadata": {
        "id": "t9F85zTY0oI2"
      },
      "execution_count": 15,
      "outputs": []
    },
    {
      "cell_type": "code",
      "source": [
        "batch_size = 128\n",
        "epochs = 10\n",
        "lr = 0.1\n",
        "device = 'cuda' if torch.cuda.is_available() else 'cpu'"
      ],
      "metadata": {
        "id": "pwgmk_IHUfjk"
      },
      "execution_count": 12,
      "outputs": []
    },
    {
      "cell_type": "code",
      "source": [
        "train_dataloader = DataLoader(train_dataset, batch_size=batch_size, shuffle=True)\n",
        "val_dataloader = DataLoader(test_dataset, batch_size=batch_size)\n",
        "for batch in tqdm(train_dataloader):\n",
        "    xb, yb = batch\n",
        "    break"
      ],
      "metadata": {
        "colab": {
          "base_uri": "https://localhost:8080/",
          "height": 49,
          "referenced_widgets": [
            "a5c42596850e4717872e505ec3087645",
            "2d530623e5494d279fc3af4c1ea34bcd",
            "b34cfe6611004fdca61fd872f4676ccf",
            "f440278b257348209c58a1983fac79d2",
            "4b49973ded2743b189c71659369e7ab3",
            "f891fbefe73f42b5aecd2dc0a7e8ce5f",
            "3d307ce2ed4942ee88908b8a22f58f5d",
            "f913f3a4ef614ccf8322c58e53a96fdc",
            "c14dc8477ff243e1a9a385b12b4a0bb7",
            "b7267d60d60b40e39995b9f25189f207",
            "21dbb7afd5b144c880d8fc40cdd2351d"
          ]
        },
        "id": "rvu5THXtw-vX",
        "outputId": "f44af2ab-bcb9-4800-c687-9901c498ccb0"
      },
      "execution_count": null,
      "outputs": [
        {
          "output_type": "display_data",
          "data": {
            "text/plain": [
              "  0%|          | 0/168 [00:00<?, ?it/s]"
            ],
            "application/vnd.jupyter.widget-view+json": {
              "version_major": 2,
              "version_minor": 0,
              "model_id": "a5c42596850e4717872e505ec3087645"
            }
          },
          "metadata": {}
        }
      ]
    },
    {
      "cell_type": "code",
      "source": [
        "losses=[]\n",
        "metrics=[]\n",
        "model=Model()\n",
        "train_dataloader = DataLoader(train_dataset, batch_size=batch_size, shuffle=True)\n",
        "val_dataloader = DataLoader(test_dataset, batch_size=batch_size)\n",
        "get_epoch(15, train_dataloader, val_dataloader, batch_size,0,10)"
      ],
      "metadata": {
        "colab": {
          "base_uri": "https://localhost:8080/",
          "height": 66,
          "referenced_widgets": [
            "8c2b8f145c914f92b9f7bbda91b36363",
            "57899f1e2052467dbf789b5b752e3f3c",
            "8fdf1b8bc0b94486abcd28908fb17391",
            "e98ce8797fa24eb990c6dc4570d52806",
            "e98d99b09e65490293aa08fb3ebb8913",
            "32975dda838f4ee6b2cd47d818b4db97",
            "221d585a06f240e6b5bf7c69af7489d8",
            "d4459218b9ec49bb8f15113741c37d2d",
            "cc12fded66de416bb399a70d4797f63f",
            "6e6abf148d5741a88e02c8fbe0e66933",
            "b9e484737a444e86b7a5e2ed56d0ad8e"
          ]
        },
        "id": "kughl24z3QHu",
        "outputId": "f2790597-7ca1-4448-97b3-08b629060a38"
      },
      "execution_count": null,
      "outputs": [
        {
          "output_type": "stream",
          "name": "stdout",
          "text": [
            "epoch \t train loss \t accuracy \t\t val loss\n"
          ]
        },
        {
          "output_type": "display_data",
          "data": {
            "text/plain": [
              "  0%|          | 0/168 [00:00<?, ?it/s]"
            ],
            "application/vnd.jupyter.widget-view+json": {
              "version_major": 2,
              "version_minor": 0,
              "model_id": "8c2b8f145c914f92b9f7bbda91b36363"
            }
          },
          "metadata": {}
        }
      ]
    },
    {
      "cell_type": "markdown",
      "source": [
        "# Predict\n",
        "\n"
      ],
      "metadata": {
        "id": "0I0v14qrbrqr"
      }
    },
    {
      "cell_type": "code",
      "source": [
        "def predict(model, input, target, class_mapping) :\n",
        "  model.eval() #เป็นสวิตท์ model.eval() ใช่ในการทาย // model.train() ใช้ในการเทรน\n",
        "  \n",
        "  with torch.no_grad(): #ใช้ model แบบไม่คำนวน grad\n",
        "    pred = model(input)\n",
        "    #จะ map ไปเป็น class โดย pred อยู่ในรูป (batch, number , class) -> (1,1,10)\n",
        "    pred_index = (pred.argmax(dim=1)).to(dtype=int)\n",
        "        # pred[0] เอามาแค่ตัวแรก\n",
        "        # argmax(0)  เลือกเอาอากิวเมนต์ที่มีค่าสูงสุด [เพราะ softmax ทำนายออกมาเป็น % ความน่าจะเป็น]\n",
        "    preds=[]\n",
        "    expected=[]\n",
        "    for i in range(len(pred_index)) :\n",
        "      preds.append(class_mapping[pred_index[i]])\n",
        "      expected.append(class_mapping[target[i]])\n",
        "  return preds, expected"
      ],
      "metadata": {
        "id": "gp9cn1MLeMP1"
      },
      "execution_count": null,
      "outputs": []
    },
    {
      "cell_type": "code",
      "source": [
        "from sys import breakpointhook\n",
        "classmap = [\n",
        "    'A0', 'A#0', 'B0', 'C1', 'C#1', 'D1', 'D#1', 'E1', 'F1', 'F#1', 'G1', 'G#1', 'A1', 'A#1', \n",
        "     'B1', 'C2', 'C#2', 'D2', 'D#2', 'E2', 'F2', 'F#2', 'G2', 'G#2', 'A2', 'A#2', 'B2', 'C3', \n",
        "     'C#3', 'D3', 'D#3', 'E3', 'F3', 'F#3', 'G3', 'G#3', 'A3', 'A#3', 'B3', 'C4', 'C#4', 'D4', \n",
        "     'D#4', 'E4', 'F4', 'F#4', 'G4', 'G#4', 'A4', 'A#4', 'B4', 'C5', 'C#5', 'D5', 'D#5', 'E5', \n",
        "     'F5', 'F#5', 'G5', 'G#5', 'A5', 'A#5', 'B5', 'C6', 'C#6', 'D6', 'D#6', 'E6', 'F6', 'F#6', \n",
        "     'G6', 'G#6', 'A6', 'A#6', 'B6', 'C7', 'C#7', 'D7', 'D#7', 'E7', 'F7', 'F#7', 'G7', 'G#7', \n",
        "     'A7', 'A#7', 'B7', 'C8', 'C#8', 'D8', 'D#8', 'E8', 'F8', 'F#8', 'G8', 'G#8', 'A8', 'A#8', \n",
        "     'B8', 'C9', 'C#9', 'D9', 'D#9', 'E9', 'F9', 'F#9', 'G9']\n",
        "\n",
        "validation=DataLoader(test_dataset, batch_size=batch_size)\n",
        "for batch in tqdm(train_dataloader):\n",
        "    xb, yb = batch\n",
        "    break\n",
        "  \n",
        "predicted, expected = predict(model, xb, yb, classmap)\n",
        "for i in range(20) :\n",
        "    print(f\"Predicted: '{predicted[i]}', expected: '{expected[i]}'\")"
      ],
      "metadata": {
        "colab": {
          "base_uri": "https://localhost:8080/",
          "height": 396,
          "referenced_widgets": [
            "dc32fe0c33d94f2dabada80dc08034f7",
            "81220c7f207747708dcd6f10a934b05d",
            "a426016ae7f747ebafd2afd655688609",
            "761552125b9748339ca36cbddd4cd936",
            "27f44b37cbc846fe92db81a54acad911",
            "ed43370cf45c44ae8324f6c047310946",
            "ab519eb6ff044909a0fbcfc4e6e499e7",
            "0b606308cb1d417f8d7f6569996189e9",
            "90fbaa506b7a4aa2ae1445eba492e9bd",
            "50bf59a5cee24168af4b96b7a05260ce",
            "901c0875d988489095309e6a60d85457"
          ]
        },
        "id": "hwQc30L9buls",
        "outputId": "e4f5ed3d-75e0-4f0a-ac22-4a5c473e30e3"
      },
      "execution_count": null,
      "outputs": [
        {
          "output_type": "display_data",
          "data": {
            "text/plain": [
              "  0%|          | 0/168 [00:00<?, ?it/s]"
            ],
            "application/vnd.jupyter.widget-view+json": {
              "version_major": 2,
              "version_minor": 0,
              "model_id": "dc32fe0c33d94f2dabada80dc08034f7"
            }
          },
          "metadata": {}
        },
        {
          "output_type": "stream",
          "name": "stdout",
          "text": [
            "Predicted: 'A3', expected: 'A2'\n",
            "Predicted: 'D#1', expected: 'F1'\n",
            "Predicted: 'E4', expected: 'E2'\n",
            "Predicted: 'D1', expected: 'C3'\n",
            "Predicted: 'A#0', expected: 'B4'\n",
            "Predicted: 'F#2', expected: 'D1'\n",
            "Predicted: 'B5', expected: 'B8'\n",
            "Predicted: 'C#4', expected: 'G1'\n",
            "Predicted: 'A3', expected: 'D3'\n",
            "Predicted: 'B8', expected: 'G7'\n",
            "Predicted: 'F3', expected: 'D#6'\n",
            "Predicted: 'D#1', expected: 'C#1'\n",
            "Predicted: 'G4', expected: 'G#8'\n",
            "Predicted: 'C8', expected: 'F#5'\n",
            "Predicted: 'C#4', expected: 'A3'\n",
            "Predicted: 'C#5', expected: 'B6'\n",
            "Predicted: 'D#6', expected: 'D8'\n",
            "Predicted: 'G#3', expected: 'C4'\n",
            "Predicted: 'F#4', expected: 'C9'\n",
            "Predicted: 'G8', expected: 'G#3'\n"
          ]
        }
      ]
    }
  ]
}